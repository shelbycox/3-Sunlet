{
 "cells": [
  {
   "cell_type": "code",
   "execution_count": 1,
   "id": "162f255b",
   "metadata": {},
   "outputs": [
    {
     "data": {
      "text/plain": [
       "TestGroup(1)"
      ]
     },
     "execution_count": 1,
     "metadata": {},
     "output_type": "execute_result"
    }
   ],
   "source": [
    "struct TestGroup\n",
    "    objVar::Int64\n",
    "end\n",
    "\n",
    "T = TestGroup(1)"
   ]
  },
  {
   "cell_type": "code",
   "execution_count": 2,
   "id": "2054f121",
   "metadata": {},
   "outputs": [
    {
     "data": {
      "text/plain": [
       "1"
      ]
     },
     "execution_count": 2,
     "metadata": {},
     "output_type": "execute_result"
    }
   ],
   "source": [
    "T.objVar"
   ]
  },
  {
   "cell_type": "code",
   "execution_count": 4,
   "id": "11512bcc",
   "metadata": {},
   "outputs": [
    {
     "data": {
      "text/plain": [
       "2-element Vector{Int64}:\n",
       "  2\n",
       " -1"
      ]
     },
     "execution_count": 4,
     "metadata": {},
     "output_type": "execute_result"
    }
   ],
   "source": [
    "sum([[1,1], [1,-2]])"
   ]
  },
  {
   "cell_type": "code",
   "execution_count": 4,
   "id": "2fde7f61",
   "metadata": {},
   "outputs": [
    {
     "data": {
      "text/plain": [
       "groupAdd"
      ]
     },
     "execution_count": 4,
     "metadata": {},
     "output_type": "execute_result"
    }
   ],
   "source": [
    "include(\"groups.jl\")"
   ]
  },
  {
   "cell_type": "code",
   "execution_count": 5,
   "id": "20441d0d",
   "metadata": {},
   "outputs": [
    {
     "data": {
      "text/plain": [
       "FiniteCyclicGroup([2, 2])"
      ]
     },
     "execution_count": 5,
     "metadata": {},
     "output_type": "execute_result"
    }
   ],
   "source": [
    "Z2Z2 = FiniteCyclicGroup([2,2])"
   ]
  },
  {
   "cell_type": "code",
   "execution_count": 6,
   "id": "ba863871",
   "metadata": {},
   "outputs": [
    {
     "data": {
      "text/plain": [
       "2"
      ]
     },
     "execution_count": 6,
     "metadata": {},
     "output_type": "execute_result"
    }
   ],
   "source": [
    "getNumFactors(Z2Z2)"
   ]
  },
  {
   "cell_type": "code",
   "execution_count": 7,
   "id": "69606c79",
   "metadata": {},
   "outputs": [],
   "source": [
    "groupElements = getGroupElements(Z2Z2)\n",
    "groupElementTriples = [collect(T) for T in collect(Iterators.product(groupElements, groupElements, groupElements))];\n",
    "sumZeroTriples = [T for T in groupElementTriples if groupAdd(Z2Z2, T) == zeros(4)];"
   ]
  },
  {
   "cell_type": "code",
   "execution_count": 8,
   "id": "d21bc95f",
   "metadata": {},
   "outputs": [
    {
     "data": {
      "text/plain": [
       "3-element Vector{Vector{Int64}}:\n",
       " [0, 0]\n",
       " [0, 0]\n",
       " [0, 0]"
      ]
     },
     "execution_count": 8,
     "metadata": {},
     "output_type": "execute_result"
    }
   ],
   "source": [
    "test_triple = groupElementTriples[1]"
   ]
  },
  {
   "cell_type": "code",
   "execution_count": 9,
   "id": "01b7d4f6",
   "metadata": {},
   "outputs": [
    {
     "data": {
      "text/plain": [
       "2-element Vector{Int64}:\n",
       " 0\n",
       " 0"
      ]
     },
     "execution_count": 9,
     "metadata": {},
     "output_type": "execute_result"
    }
   ],
   "source": [
    "sum(test_triple)"
   ]
  },
  {
   "cell_type": "code",
   "execution_count": 10,
   "id": "5355afe1",
   "metadata": {},
   "outputs": [
    {
     "data": {
      "text/plain": [
       "2-element Vector{Int64}:\n",
       " 0\n",
       " 0"
      ]
     },
     "execution_count": 10,
     "metadata": {},
     "output_type": "execute_result"
    }
   ],
   "source": [
    "groupAdd(Z2Z2, test_triple)"
   ]
  },
  {
   "cell_type": "code",
   "execution_count": null,
   "id": "e47d35a0",
   "metadata": {},
   "outputs": [],
   "source": []
  }
 ],
 "metadata": {
  "kernelspec": {
   "display_name": "Julia 1.8.5",
   "language": "julia",
   "name": "julia-1.8"
  },
  "language_info": {
   "file_extension": ".jl",
   "mimetype": "application/julia",
   "name": "julia",
   "version": "1.8.5"
  }
 },
 "nbformat": 4,
 "nbformat_minor": 5
}
