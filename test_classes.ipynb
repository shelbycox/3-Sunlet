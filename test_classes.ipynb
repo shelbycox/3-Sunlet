{
 "cells": [
  {
   "cell_type": "code",
   "execution_count": 1,
   "id": "d9eb9b86",
   "metadata": {},
   "outputs": [
    {
     "data": {
      "text/plain": [
       "TestGroup(1)"
      ]
     },
     "execution_count": 1,
     "metadata": {},
     "output_type": "execute_result"
    }
   ],
   "source": [
    "struct TestGroup\n",
    "    objVar::Int64\n",
    "end\n",
    "\n",
    "T = TestGroup(1)"
   ]
  },
  {
   "cell_type": "code",
   "execution_count": 2,
   "id": "4ceac072",
   "metadata": {},
   "outputs": [
    {
     "data": {
      "text/plain": [
       "1"
      ]
     },
     "execution_count": 2,
     "metadata": {},
     "output_type": "execute_result"
    }
   ],
   "source": [
    "T.objVar"
   ]
  },
  {
   "cell_type": "code",
   "execution_count": null,
   "id": "e02a7781",
   "metadata": {},
   "outputs": [],
   "source": []
  }
 ],
 "metadata": {
  "kernelspec": {
   "display_name": "Julia 1.8.5",
   "language": "julia",
   "name": "julia-1.8"
  },
  "language_info": {
   "file_extension": ".jl",
   "mimetype": "application/julia",
   "name": "julia",
   "version": "1.8.5"
  }
 },
 "nbformat": 4,
 "nbformat_minor": 5
}
