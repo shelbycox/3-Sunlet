{
 "cells": [
  {
   "cell_type": "code",
   "execution_count": 1,
   "id": "91135c89",
   "metadata": {},
   "outputs": [],
   "source": [
    "using LinearAlgebra"
   ]
  },
  {
   "cell_type": "markdown",
   "id": "a11e97e3",
   "metadata": {},
   "source": [
    "# Sampling Points from a Hyperplane Arrangement Complement"
   ]
  },
  {
   "cell_type": "markdown",
   "id": "6983f1c9",
   "metadata": {},
   "source": [
    "### Start with a random point"
   ]
  },
  {
   "cell_type": "code",
   "execution_count": 2,
   "id": "a957af91",
   "metadata": {},
   "outputs": [
    {
     "data": {
      "text/plain": [
       "p (generic function with 1 method)"
      ]
     },
     "execution_count": 2,
     "metadata": {},
     "output_type": "execute_result"
    }
   ],
   "source": [
    "p(n) = [rand(Float64)-.5 for j=1:n]"
   ]
  },
  {
   "cell_type": "markdown",
   "id": "784bca1d",
   "metadata": {},
   "source": [
    "### Then reflect over all hyperplanes in the arrangement"
   ]
  },
  {
   "cell_type": "markdown",
   "id": "2ec288be",
   "metadata": {},
   "source": [
    "#### getH\n",
    "\n",
    "Get all hyperplanes in the $B_n$ arrangement."
   ]
  },
  {
   "cell_type": "code",
   "execution_count": 3,
   "id": "372f3e7a",
   "metadata": {},
   "outputs": [
    {
     "data": {
      "text/plain": [
       "getH (generic function with 2 methods)"
      ]
     },
     "execution_count": 3,
     "metadata": {},
     "output_type": "execute_result"
    }
   ],
   "source": [
    "function getH(k, full=true)\n",
    "    H = []\n",
    "    if full\n",
    "        for i=1:(2*k)\n",
    "            v = zero(rand(2*k))\n",
    "            v[i] = 1\n",
    "            push!(H, v)\n",
    "        end\n",
    "        \n",
    "        for i=1:(2*k)\n",
    "            for j=(i+1):(2*k)\n",
    "                v = zero(rand(2*k))\n",
    "                v[i] = 1\n",
    "                v[j] = -1\n",
    "                push!(H, v)\n",
    "            end\n",
    "        end\n",
    "    else\n",
    "        v = zero(rand(2*k))\n",
    "        v[1] = 1\n",
    "        push!(H, v)\n",
    "        for i=1:k\n",
    "            for j=1:k\n",
    "                v = zero(rand(2*k))\n",
    "                v[i] = 1\n",
    "                v[k + j] = -1\n",
    "                push!(H, v)\n",
    "            end\n",
    "        end\n",
    "    end\n",
    "    return H\n",
    "end"
   ]
  },
  {
   "cell_type": "markdown",
   "id": "f406ee2c",
   "metadata": {},
   "source": [
    "#### reflect\n",
    "\n",
    "Reflect a vector $v$ over the hyperplane with normal vector $a$."
   ]
  },
  {
   "cell_type": "code",
   "execution_count": 4,
   "id": "6afb2162",
   "metadata": {},
   "outputs": [
    {
     "data": {
      "text/plain": [
       "reflect (generic function with 1 method)"
      ]
     },
     "execution_count": 4,
     "metadata": {},
     "output_type": "execute_result"
    }
   ],
   "source": [
    "function reflect(v, a)\n",
    "    return v .- a*2*(LinearAlgebra.dot(v,a))/LinearAlgebra.dot(a,a)\n",
    "end"
   ]
  },
  {
   "cell_type": "markdown",
   "id": "f9c73445",
   "metadata": {},
   "source": [
    "### Reflect over all hyperplanes"
   ]
  },
  {
   "cell_type": "code",
   "execution_count": 5,
   "id": "f2c608c9",
   "metadata": {},
   "outputs": [
    {
     "data": {
      "text/plain": [
       "getOrbit (generic function with 1 method)"
      ]
     },
     "execution_count": 5,
     "metadata": {},
     "output_type": "execute_result"
    }
   ],
   "source": [
    "function getOrbit(v, H)\n",
    "    k = Int(length(v)/2)\n",
    "    orbit = [v]\n",
    "    ineqs = [ineq(v, k, true)]\n",
    "    to_check = [v]\n",
    "    while length(to_check) > 0\n",
    "        new_to_check = []\n",
    "        for u in to_check\n",
    "            for h in H\n",
    "                r = reflect(u, h)\n",
    "                I = ineq(r, k, true)\n",
    "                if I ∉ ineqs\n",
    "                    push!(orbit, r)\n",
    "                    push!(new_to_check, r)\n",
    "                    push!(ineqs, I)\n",
    "                end\n",
    "            end\n",
    "        end\n",
    "        to_check = new_to_check\n",
    "    end\n",
    "    return orbit\n",
    "end"
   ]
  },
  {
   "cell_type": "markdown",
   "id": "374ec9f9",
   "metadata": {},
   "source": [
    "### Get inequalities"
   ]
  },
  {
   "cell_type": "code",
   "execution_count": 6,
   "id": "51ade5d7",
   "metadata": {},
   "outputs": [
    {
     "data": {
      "text/plain": [
       "ineq (generic function with 2 methods)"
      ]
     },
     "execution_count": 6,
     "metadata": {},
     "output_type": "execute_result"
    }
   ],
   "source": [
    "function ineq(v, k, full=false)\n",
    "    if full\n",
    "        return [[v[i] > 0 for i=1:(2*k)] [v[i] > v[j] for i=1:(2*k), j=1:(2*k)]]\n",
    "    end\n",
    "    top_row = [1 < 0 for i=1:k]\n",
    "    top_row[1] = (v[1] > 0)\n",
    "    return [top_row [v[i] > v[j] for i=1:k, j=(k+1):(2*k)] [v[i] > -v[j] for i=1:k, j=(k+1):(2*k)]]\n",
    "end"
   ]
  },
  {
   "cell_type": "markdown",
   "id": "8bc6ad87",
   "metadata": {},
   "source": [
    "### Project to $\\sum \\eta_j = 0$"
   ]
  },
  {
   "cell_type": "code",
   "execution_count": 7,
   "id": "6e52aee8",
   "metadata": {},
   "outputs": [
    {
     "data": {
      "text/plain": [
       "project (generic function with 1 method)"
      ]
     },
     "execution_count": 7,
     "metadata": {},
     "output_type": "execute_result"
    }
   ],
   "source": [
    "function project(v, a)\n",
    "    return v - a*(LinearAlgebra.dot(v, a))/(LinearAlgebra.dot(a,a))\n",
    "end"
   ]
  },
  {
   "cell_type": "code",
   "execution_count": 8,
   "id": "52d71373",
   "metadata": {},
   "outputs": [
    {
     "data": {
      "text/plain": [
       "getProj (generic function with 1 method)"
      ]
     },
     "execution_count": 8,
     "metadata": {},
     "output_type": "execute_result"
    }
   ],
   "source": [
    "function getProj(orbit, k)\n",
    "    z = zero(rand(2*k))\n",
    "    for i=(k+1):(2*k)\n",
    "        z[i] = 1\n",
    "    end\n",
    "    \n",
    "    P = [project(u, z) for u in orbit]\n",
    "    \n",
    "    sample = []\n",
    "    Is = []\n",
    "    for u in P\n",
    "        I = ineq(u, k)\n",
    "        if I ∉ Is\n",
    "            push!(sample, u)\n",
    "            push!(Is, I)\n",
    "        end\n",
    "    end\n",
    "    \n",
    "    return sample\n",
    "end"
   ]
  },
  {
   "cell_type": "markdown",
   "id": "2410783a",
   "metadata": {},
   "source": [
    "# Example (n = 3)"
   ]
  },
  {
   "cell_type": "code",
   "execution_count": 13,
   "id": "e7211bcb",
   "metadata": {},
   "outputs": [],
   "source": [
    "test_v = p(6);"
   ]
  },
  {
   "cell_type": "code",
   "execution_count": 14,
   "id": "54345c6d",
   "metadata": {},
   "outputs": [
    {
     "data": {
      "text/plain": [
       "21"
      ]
     },
     "execution_count": 14,
     "metadata": {},
     "output_type": "execute_result"
    }
   ],
   "source": [
    "H = getH(3);\n",
    "length(H)"
   ]
  },
  {
   "cell_type": "code",
   "execution_count": 15,
   "id": "b506ec50",
   "metadata": {},
   "outputs": [
    {
     "data": {
      "text/plain": [
       "5040"
      ]
     },
     "execution_count": 15,
     "metadata": {},
     "output_type": "execute_result"
    }
   ],
   "source": [
    "O = getOrbit(test_v, H);\n",
    "print(length(O), '\\n')"
   ]
  },
  {
   "cell_type": "code",
   "execution_count": 16,
   "id": "59ea58fd",
   "metadata": {},
   "outputs": [
    {
     "data": {
      "text/plain": [
       "318"
      ]
     },
     "execution_count": 16,
     "metadata": {},
     "output_type": "execute_result"
    }
   ],
   "source": [
    "sample = getProj(O, 3);\n",
    "print(length(sample))"
   ]
  },
  {
   "cell_type": "code",
   "execution_count": 10,
   "id": "aab08f74",
   "metadata": {},
   "outputs": [
    {
     "name": "stdout",
     "output_type": "stream",
     "text": [
      "5040\n",
      "335"
     ]
    }
   ],
   "source": [
    "n = 3\n",
    "test_v = p(2*n);\n",
    "test_v[2*n] = sum(test_v[(n+1):(2*n-1)])\n",
    "H = getH(n);\n",
    "O = getOrbit(test_v, H);\n",
    "print(length(O), '\\n')\n",
    "sample = getProj(O, n);\n",
    "print(length(sample))"
   ]
  },
  {
   "cell_type": "code",
   "execution_count": 11,
   "id": "e28d5d4a",
   "metadata": {},
   "outputs": [
    {
     "name": "stdout",
     "output_type": "stream",
     "text": [
      "7"
     ]
    }
   ],
   "source": [
    "z = zero(rand(2*n));\n",
    "for i=(n+1):(2*n)\n",
    "    z[i] = 1\n",
    "end\n",
    "P = [project(u, z) for u in O];\n",
    "Is = [];\n",
    "for i=eachindex(P)\n",
    "    u = P[i]\n",
    "    I = ineq(u, n)\n",
    "    if I in Is\n",
    "        print(i)\n",
    "        break\n",
    "    else\n",
    "        push!(Is, I)\n",
    "    end\n",
    "end"
   ]
  },
  {
   "cell_type": "code",
   "execution_count": 12,
   "id": "d0d2f466",
   "metadata": {},
   "outputs": [
    {
     "data": {
      "text/plain": [
       "335-element Vector{Matrix{Bool}}:\n",
       " [0 0 1 0; 0 0 1 1; 0 0 1 0]\n",
       " [1 0 1 1; 0 0 1 1; 0 0 1 0]\n",
       " [0 0 1 0; 0 0 1 0; 0 0 1 0]\n",
       " [0 0 1 0; 0 0 1 1; 0 0 1 1]\n",
       " [0 0 1 0; 0 1 1 0; 0 0 0 0]\n",
       " [0 0 0 1; 0 0 0 1; 0 0 0 0]\n",
       " [1 0 1 1; 0 0 1 0; 0 0 1 0]\n",
       " [1 1 1 1; 0 0 1 0; 0 0 0 0]\n",
       " [0 0 0 0; 0 0 1 1; 0 0 0 0]\n",
       " [0 0 1 0; 0 0 1 0; 0 0 1 1]\n",
       " [0 0 1 0; 0 1 1 1; 0 0 0 0]\n",
       " [0 0 0 1; 0 0 0 0; 0 0 0 0]\n",
       " [0 0 1 0; 0 1 1 0; 0 1 1 1]\n",
       " ⋮\n",
       " [0 0 1 1; 0 1 1 1; 0 1 1 1]\n",
       " [1 1 0 0; 0 1 0 0; 0 1 1 0]\n",
       " [1 0 0 1; 0 1 1 1; 0 0 1 1]\n",
       " [1 1 0 0; 0 1 1 1; 0 1 0 1]\n",
       " [1 0 1 0; 0 1 1 1; 0 1 1 0]\n",
       " [1 1 0 0; 0 1 1 0; 0 1 1 1]\n",
       " [1 1 1 1; 0 1 0 0; 0 1 1 0]\n",
       " [1 1 1 1; 0 1 1 0; 0 1 0 0]\n",
       " [1 0 1 0; 0 0 0 0; 0 0 1 1]\n",
       " [1 1 0 0; 0 1 1 0; 0 1 1 0]\n",
       " [1 0 1 0; 0 1 1 1; 0 0 1 1]\n",
       " [1 1 0 0; 0 1 1 1; 0 1 1 0]"
      ]
     },
     "execution_count": 12,
     "metadata": {},
     "output_type": "execute_result"
    }
   ],
   "source": [
    "Is = [ineq(u, n) for u in sample]"
   ]
  },
  {
   "cell_type": "markdown",
   "id": "3a6bfd4a",
   "metadata": {},
   "source": [
    "## Navigation between Weyl Chambers"
   ]
  },
  {
   "cell_type": "code",
   "execution_count": 9,
   "id": "652e94d1",
   "metadata": {},
   "outputs": [
    {
     "data": {
      "text/plain": [
       "getNeighbors (generic function with 2 methods)"
      ]
     },
     "execution_count": 9,
     "metadata": {},
     "output_type": "execute_result"
    }
   ],
   "source": [
    "function getNeighbors(orbit, v, k, full=false)\n",
    "    return [u for u in orbit if isNeighbor(u, v, k, full)]\n",
    "end"
   ]
  },
  {
   "cell_type": "code",
   "execution_count": 10,
   "id": "5baf3eaa",
   "metadata": {},
   "outputs": [
    {
     "data": {
      "text/plain": [
       "isNeighbor (generic function with 2 methods)"
      ]
     },
     "execution_count": 10,
     "metadata": {},
     "output_type": "execute_result"
    }
   ],
   "source": [
    "function isNeighbor(u, v, k, full=false)\n",
    "    return sum(ineq(u, k, full) .⊻ ineq(v, k, full)) == 1\n",
    "end"
   ]
  },
  {
   "cell_type": "code",
   "execution_count": 15,
   "id": "50d2bbcc",
   "metadata": {},
   "outputs": [
    {
     "name": "stdout",
     "output_type": "stream",
     "text": [
      "Bool[1 1 1; 0 1 1]\n",
      "Bool[1 1 1; 0 0 1]\n",
      "Bool[0 0 0; 0 0 1]\n",
      "true\n",
      "false\n",
      "false\n"
     ]
    }
   ],
   "source": [
    "## test case\n",
    "print(ineq([1,1,0,0], 2), '\\n')\n",
    "print(ineq([3,1,2,0], 2), '\\n')\n",
    "print(ineq([0,1,1,0], 2), '\\n')\n",
    "print(isNeighbor([1,1,0,0], [3,1,2,0], 2), '\\n') ## true\n",
    "print(isNeighbor([1,1,0,0], [1,1,0,0], 2), '\\n') ## false\n",
    "print(isNeighbor([1,1,0,0], [0,1,1,0], 2), '\\n') ## false"
   ]
  },
  {
   "cell_type": "code",
   "execution_count": 16,
   "id": "bbb08c3d",
   "metadata": {},
   "outputs": [
    {
     "name": "stdout",
     "output_type": "stream",
     "text": [
      "Bool[1 0 0 1 1; 1 0 0 1 1; 0 0 0 0 0; 0 0 0 0 0]\n",
      "Bool[1 0 1 1 1; 1 0 0 0 1; 1 0 1 0 1; 0 0 0 0 0]\n",
      "Bool[0 0 0 0 0; 1 1 0 0 1; 1 1 0 0 1; 0 0 0 0 0]\n",
      "false\n",
      "false\n",
      "false\n"
     ]
    }
   ],
   "source": [
    "## test cases for full\n",
    "print(ineq([1,1,0,0], 2, true), '\\n')\n",
    "print(ineq([3,1,2,0], 2, true), '\\n')\n",
    "print(ineq([0,1,1,0], 2, true), '\\n')\n",
    "print(isNeighbor([1,1,0,0], [3,1,2,0], 2, true), '\\n') ## false\n",
    "print(isNeighbor([1,1,0,0], [1,1,0,0], 2, true), '\\n') ## false\n",
    "print(isNeighbor([1,1,0,0], [0,1,1,0], 2, true), '\\n') ## false"
   ]
  },
  {
   "cell_type": "code",
   "execution_count": 13,
   "id": "bc793ea1",
   "metadata": {},
   "outputs": [
    {
     "data": {
      "text/plain": [
       "getRank (generic function with 1 method)"
      ]
     },
     "execution_count": 13,
     "metadata": {},
     "output_type": "execute_result"
    }
   ],
   "source": [
    "include(\"lambda_cyclic.jl\")"
   ]
  },
  {
   "cell_type": "markdown",
   "id": "7790d819",
   "metadata": {},
   "source": [
    "# Random Sampling"
   ]
  },
  {
   "cell_type": "code",
   "execution_count": 11,
   "id": "836eec83",
   "metadata": {},
   "outputs": [
    {
     "name": "stdout",
     "output_type": "stream",
     "text": [
      "1000200030004000500060007000800090001000011000120001300014000150001600017000180001900020000210002200023000240002500026000270002800029000300003100032000330003400035000360003700038000390004000041000420004300044000450004600047000480004900050000510005200053000540005500056000570005800059000600006100062000630006400065000660006700068000690007000071000720007300074000750007600077000780007900080000810008200083000840008500086000870008800089000900009100092000930009400095000960009700098000990001000001010001020001030001040001050001060001070001080001090001100001110001120001130001140001150001160001170001180001190001200001210001220001230001240001250001260001270001280001290001300001310001320001330001340001350001360001370001380001390001400001410001420001430001440001450001460001470001480001490001500001510001520001530001540001550001560001570001580001590001600001610001620001630001640001650001660001670001680001690001700001710001720001730001740001750001760001770001780001790001800001810001820001830001840001850001860001870001880001890001900001910001920001930001940001950001960001970001980001990002000002010002020002030002040002050002060002070002080002090002100002110002120002130002140002150002160002170002180002190002200002210002220002230002240002250002260002270002280002290002300002310002320002330002340002350002360002370002380002390002400002410002420002430002440002450002460002470002480002490002500002510002520002530002540002550002560002570002580002590002600002610002620002630002640002650002660002670002680002690002700002710002720002730002740002750002760002770002780002790002800002810002820002830002840002850002860002870002880002890002900002910002920002930002940002950002960002970002980002990003000003010003020003030003040003050003060003070003080003090003100003110003120003130003140003150003160003170003180003190003200003210003220003230003240003250003260003270003280003290003300003310003320003330003340003350003360003370003380003390003400003410003420003430003440003450003460003470003480003490003500003510003520003530003540003550003560003570003580003590003600003610003620003630003640003650003660003670003680003690003700003710003720003730003740003750003760003770003780003790003800003810003820003830003840003850003860003870003880003890003900003910003920003930003940003950003960003970003980003990004000004010004020004030004040004050004060004070004080004090004100004110004120004130004140004150004160004170004180004190004200004210004220004230004240004250004260004270004280004290004300004310004320004330004340004350004360004370004380004390004400004410004420004430004440004450004460004470004480004490004500004510004520004530004540004550004560004570004580004590004600004610004620004630004640004650004660004670004680004690004700004710004720004730004740004750004760004770004780004790004800004810004820004830004840004850004860004870004880004890004900004910004920004930004940004950004960004970004980004990005000005010005020005030005040005050005060005070005080005090005100005110005120005130005140005150005160005170005180005190005200005210005220005230005240005250005260005270005280005290005300005310005320005330005340005350005360005370005380005390005400005410005420005430005440005450005460005470005480005490005500005510005520005530005540005550005560005570005580005590005600005610005620005630005640005650005660005670005680005690005700005710005720005730005740005750005760005770005780005790005800005810005820005830005840005850005860005870005880005890005900005910005920005930005940005950005960005970005980005990006000006010006020006030006040006050006060006070006080006090006100006110006120006130006140006150006160006170006180006190006200006210006220006230006240006250006260006270006280006290006300006310006320006330006340006350006360006370006380006390006400006410006420006430006440006450006460006470006480006490006500006510006520006530006540006550006560006570006580006590006600006610006620006630006640006650006660006670006680006690006700006710006720006730006740006750006760006770006780006790006800006810006820006830006840006850006860006870006880006890006900006910006920006930006940006950006960006970006980006990007000007010007020007030007040007050007060007070007080007090007100007110007120007130007140007150007160007170007180007190007200007210007220007230007240007250007260007270007280007290007300007310007320007330007340007350007360007370007380007390007400007410007420007430007440007450007460007470007480007490007500007510007520007530007540007550007560007570007580007590007600007610007620007630007640007650007660007670007680007690007700007710007720007730007740007750007760007770007780007790007800007810007820007830007840007850007860007870007880007890007900007910007920007930007940007950007960007970007980007990008000008010008020008030008040008050008060008070008080008090008100008110008120008130008140008150008160008170008180008190008200008210008220008230008240008250008260008270008280008290008300008310008320008330008340008350008360008370008380008390008400008410008420008430008440008450008460008470008480008490008500008510008520008530008540008550008560008570008580008590008600008610008620008630008640008650008660008670008680008690008700008710008720008730008740008750008760008770008780008790008800008810008820008830008840008850008860008870008880008890008900008910008920008930008940008950008960008970008980008990009000009010009020009030009040009050009060009070009080009090009100009110009120009130009140009150009160009170009180009190009200009210009220009230009240009250009260009270009280009290009300009310009320009330009340009350009360009370009380009390009400009410009420009430009440009450009460009470009480009490009500009510009520009530009540009550009560009570009580009590009600009610009620009630009640009650009660009670009680009690009700009710009720009730009740009750009760009770009780009790009800009810009820009830009840009850009860009870009880009890009900009910009920009930009940009950009960009970009980009990001000000100100010020001003000100400010050001006000100700010080001009000101000010110001012000101300010140001015000101600010170001018000101900010200001021000102200010230001024000102500010260001027000102800010290001030000103100010320001033000103400010350001036000103700010380001039000104000010410001042000104300010440001045000104600010470001048000"
     ]
    },
    {
     "data": {
      "text/plain": [
       "208732"
      ]
     },
     "execution_count": 11,
     "metadata": {},
     "output_type": "execute_result"
    }
   ],
   "source": [
    "n=4\n",
    "sample2 = []\n",
    "for i=1:2^20\n",
    "    v = p(2*n)\n",
    "    v[2*n] = -sum(v[(n+1):(2*n-1)])\n",
    "    push!(sample2, v)\n",
    "end\n",
    "\n",
    "Is2 = []\n",
    "S2 = []\n",
    "for i=eachindex(sample2)\n",
    "    if i % 1000 == 0\n",
    "        print(i)\n",
    "    end\n",
    "    v = sample2[i]\n",
    "    I = ineq(v, n)\n",
    "    if I ∉ Is2\n",
    "        push!(S2, i)\n",
    "        push!(Is2, I)\n",
    "    end\n",
    "end\n",
    "length(Is2)"
   ]
  },
  {
   "cell_type": "code",
   "execution_count": 14,
   "id": "bbb51099",
   "metadata": {},
   "outputs": [
    {
     "data": {
      "text/plain": [
       "Set{Int64} with 7 elements:\n",
       "  16\n",
       "  14\n",
       "  13\n",
       "  15\n",
       "  10\n",
       "  12\n",
       "  11"
      ]
     },
     "execution_count": 14,
     "metadata": {},
     "output_type": "execute_result"
    }
   ],
   "source": [
    "ranks = [getRank(s[1:n], s[(n+1):end], n) for s in sample2[S2]]\n",
    "R = Set(ranks)"
   ]
  },
  {
   "cell_type": "code",
   "execution_count": 15,
   "id": "ae5e769a",
   "metadata": {},
   "outputs": [
    {
     "name": "stdout",
     "output_type": "stream",
     "text": [
      "[10706, 85657, 45806, 44252, 937, 15496, 5878]\n"
     ]
    },
    {
     "data": {
      "text/plain": [
       "7-element Vector{Float64}:\n",
       " 0.05129065021175479\n",
       " 0.4103683191844087\n",
       " 0.21944886265642066\n",
       " 0.2120039093191269\n",
       " 0.004489009830787804\n",
       " 0.07423873675334879\n",
       " 0.02816051204415231"
      ]
     },
     "execution_count": 15,
     "metadata": {},
     "output_type": "execute_result"
    }
   ],
   "source": [
    "counts = [sum([1 for rank in ranks if rank == r]) for r in R]\n",
    "print(counts, '\\n')\n",
    "dist = [c/length(ranks) for c in counts]"
   ]
  },
  {
   "cell_type": "code",
   "execution_count": 16,
   "id": "64a6a926",
   "metadata": {},
   "outputs": [
    {
     "name": "stdout",
     "output_type": "stream",
     "text": [
      "6389310131248133816921718194725012927337433753768427544175151521361487812816082418494910492409453969399101006910758113581209113371135721387814735149011493115204154081570816098170201736217538190101911519420196531985519983204172046520698209312118221500219192192522204227392275322869229012322123746239262395224177253062533725392258482646426575270962745827979280572831128440284662847728805295422997330407315373184232396324403248432648328733291833089334143387034100346263489535172353473643536501365233707337306383193888039278396353978340431405584086241212415164170541752421304235042458425344270142747446684505045197453584543845487457834592246597469224729047472480894887649402494184946450326503445042751258521135240453439538385426654313544825478055046554035558955606560815698457092571765725357705578765853758610586995924059418601696036060590608286090161686626486279862984633376341563523637176431064875651336520565522656266571566786673026842468784693166955069683699647008570306706517120672404725207271774015741247418274365753377567175727757567754278138783797848679078791147943779510808848176582025822068240782574826158275083150835678407884437846688553286115865408699387169885268879288965890738926289379898168998890182907689098891067916279181292474940179417294382951299559396441972589741997997981169867399680998889993999963100225100400100955103293103370103597104711104773106076106268107914107955107967108904109023109293109470109492109928110510111048111762113337113917114071114090114320114461114579114709115452116463116801117013117195117207117328117630120469120552122069122497122680122898123142123286124469124928125539125959126597127859127869129131129340130078131342131420132393132787132953133054133305134844135121135281137156137361137860139393139441140080140145140264140498141000141582141723141784142321142831143129143442143806144336144503144546144604145115145769147070147347147673147816147884148217149166149250149850151388151408151915152722152845153380153793154524155296155388155515155843155906156220160140162581164084164486164686166310166584167286169300169425169756169980170031170067170541170915172290172481173067173245174322174874177295179319179853180531181008181524181856182533182586182918183438183717184498184897187090187401188230188570189616189696189974190255190563191683191878192080192563193405193478193861196851196898197456198897199918200759201190202277203146203506205190205512205560205658205737205894205981"
     ]
    }
   ],
   "source": [
    "for i=eachindex(ranks)\n",
    "    r = ranks[i] ## get the rank of the current cell\n",
    "    if r == minimum(ranks) ## for the minimal rank chambers\n",
    "        N = [u for u=eachindex(S2) if isNeighbor(sample2[S2[u]], sample2[S2[i]], n)] ## get a list of neighboring samples\n",
    "        nranks = ranks[N] ## get the ranks of neighboring cells\n",
    "        if maximum(nranks) - r > 1 ## if the rank jumps by more than 1\n",
    "            println(i, maximum(nranks) - r)\n",
    "        end\n",
    "    end\n",
    "end"
   ]
  },
  {
   "cell_type": "code",
   "execution_count": null,
   "id": "64367f58",
   "metadata": {},
   "outputs": [],
   "source": []
  }
 ],
 "metadata": {
  "kernelspec": {
   "display_name": "Julia 1.6.3",
   "language": "julia",
   "name": "julia-1.6"
  },
  "language_info": {
   "file_extension": ".jl",
   "mimetype": "application/julia",
   "name": "julia",
   "version": "1.6.3"
  }
 },
 "nbformat": 4,
 "nbformat_minor": 5
}
