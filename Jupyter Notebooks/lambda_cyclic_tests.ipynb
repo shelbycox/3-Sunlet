{
 "cells": [
  {
   "cell_type": "code",
   "execution_count": 8,
   "id": "8911c9ab",
   "metadata": {},
   "outputs": [
    {
     "data": {
      "text/plain": [
       "getRank (generic function with 1 method)"
      ]
     },
     "execution_count": 8,
     "metadata": {},
     "output_type": "execute_result"
    }
   ],
   "source": [
    "include(\"lambda_cyclic.jl\")"
   ]
  },
  {
   "cell_type": "markdown",
   "id": "61253753",
   "metadata": {},
   "source": [
    "## Test computeLambda"
   ]
  },
  {
   "cell_type": "code",
   "execution_count": 9,
   "id": "b162a936",
   "metadata": {},
   "outputs": [],
   "source": [
    "test_lambda = lam = Dict([(5,0)=>-1, (5,1)=>1, (6,0)=>2, (6,1)=>-2, (4,1)=>0, (4,0)=>0])\n",
    "test_triples = ([1,1,0], [0,0,0])\n",
    "test_structure = [2]\n",
    "## keys are (triple index, exponent index)\n",
    "answers = Dict([(1,1)=>1, (2,1)=>-1, (1,2)=>-2, (2,2)=>2])\n",
    "\n",
    "function testComputeLambda()\n",
    "    for i in [1,2]\n",
    "        for j in [1,2]\n",
    "            if computeLambda(test_triples[i], basisExponents[j], test_lambda, test_structure) != answers[(i,j)]\n",
    "                print(\"Error: triple\", i, \", exponent\", j)\n",
    "            end\n",
    "        end\n",
    "    end\n",
    "end\n",
    "\n",
    "testComputeLambda()"
   ]
  },
  {
   "cell_type": "markdown",
   "id": "007127bf",
   "metadata": {},
   "source": [
    "## Test getLowerLambdaExp"
   ]
  },
  {
   "cell_type": "code",
   "execution_count": 10,
   "id": "7762d325",
   "metadata": {},
   "outputs": [
    {
     "data": {
      "text/plain": [
       "1"
      ]
     },
     "execution_count": 10,
     "metadata": {},
     "output_type": "execute_result"
    }
   ],
   "source": [
    "getLowerLambdaExp(test_triples[2], test_lambda, test_structure)"
   ]
  },
  {
   "cell_type": "markdown",
   "id": "8a6dd245",
   "metadata": {},
   "source": [
    "## Test getGroupTriples"
   ]
  },
  {
   "cell_type": "code",
   "execution_count": 11,
   "id": "ec1bb93c",
   "metadata": {},
   "outputs": [
    {
     "data": {
      "text/plain": [
       "16-element Vector{Vector{Vector{Int64}}}:\n",
       " [[0, 0], [0, 0], [0, 0]]\n",
       " [[1, 0], [1, 0], [0, 0]]\n",
       " [[0, 1], [0, 1], [0, 0]]\n",
       " [[1, 1], [1, 1], [0, 0]]\n",
       " [[1, 0], [0, 0], [1, 0]]\n",
       " [[0, 0], [1, 0], [1, 0]]\n",
       " [[1, 1], [0, 1], [1, 0]]\n",
       " [[0, 1], [1, 1], [1, 0]]\n",
       " [[0, 1], [0, 0], [0, 1]]\n",
       " [[1, 1], [1, 0], [0, 1]]\n",
       " [[0, 0], [0, 1], [0, 1]]\n",
       " [[1, 0], [1, 1], [0, 1]]\n",
       " [[1, 1], [0, 0], [1, 1]]\n",
       " [[0, 1], [1, 0], [1, 1]]\n",
       " [[1, 0], [0, 1], [1, 1]]\n",
       " [[0, 0], [1, 1], [1, 1]]"
      ]
     },
     "execution_count": 11,
     "metadata": {},
     "output_type": "execute_result"
    }
   ],
   "source": [
    "getValidGroupTriples([2,2])"
   ]
  },
  {
   "cell_type": "code",
   "execution_count": 17,
   "id": "ada6160b",
   "metadata": {},
   "outputs": [
    {
     "data": {
      "text/plain": [
       "2-element Vector{Int64}:\n",
       " 0\n",
       " 0"
      ]
     },
     "execution_count": 17,
     "metadata": {},
     "output_type": "execute_result"
    }
   ],
   "source": [
    "getGroupElements([2, 2])[1]"
   ]
  },
  {
   "cell_type": "code",
   "execution_count": 22,
   "id": "6333d7e7",
   "metadata": {},
   "outputs": [
    {
     "data": {
      "text/plain": [
       "-1"
      ]
     },
     "execution_count": 22,
     "metadata": {},
     "output_type": "execute_result"
    }
   ],
   "source": [
    "etaIndex = [2, 3]\n",
    "Int((Int(etaIndex[1] > etaIndex[2])-.5)*2)"
   ]
  },
  {
   "cell_type": "code",
   "execution_count": 25,
   "id": "c312545a",
   "metadata": {},
   "outputs": [
    {
     "data": {
      "text/plain": [
       "1"
      ]
     },
     "execution_count": 25,
     "metadata": {},
     "output_type": "execute_result"
    }
   ],
   "source": [
    "1 | 1"
   ]
  },
  {
   "cell_type": "code",
   "execution_count": 27,
   "id": "86e64d2f",
   "metadata": {},
   "outputs": [
    {
     "data": {
      "text/plain": [
       "3-element Vector{Vector{Int64}}:\n",
       " [0]\n",
       " [1]\n",
       " [2]"
      ]
     },
     "execution_count": 27,
     "metadata": {},
     "output_type": "execute_result"
    }
   ],
   "source": [
    "getGroupElements([3])"
   ]
  },
  {
   "cell_type": "code",
   "execution_count": 30,
   "id": "144642fc",
   "metadata": {},
   "outputs": [
    {
     "data": {
      "text/plain": [
       "9-element Vector{Vector{Vector{Int64}}}:\n",
       " [[0], [0], [0]]\n",
       " [[2], [1], [0]]\n",
       " [[1], [2], [0]]\n",
       " [[2], [0], [1]]\n",
       " [[1], [1], [1]]\n",
       " [[0], [2], [1]]\n",
       " [[1], [0], [2]]\n",
       " [[0], [1], [2]]\n",
       " [[2], [2], [2]]"
      ]
     },
     "execution_count": 30,
     "metadata": {},
     "output_type": "execute_result"
    }
   ],
   "source": [
    "validTriples = getValidGroupTriples([3])"
   ]
  },
  {
   "cell_type": "code",
   "execution_count": 34,
   "id": "db0c0e1e",
   "metadata": {},
   "outputs": [
    {
     "data": {
      "text/plain": [
       "true"
      ]
     },
     "execution_count": 34,
     "metadata": {},
     "output_type": "execute_result"
    }
   ],
   "source": [
    "G = validTriples[1]\n",
    "g = G[1]\n",
    "g == zeros(Int, 1)"
   ]
  },
  {
   "cell_type": "code",
   "execution_count": 36,
   "id": "2b8a7c6c",
   "metadata": {},
   "outputs": [
    {
     "data": {
      "text/plain": [
       "2×2 Matrix{Vector{Int64}}:\n",
       " [0, 0]  [0, 1]\n",
       " [1, 0]  [1, 1]"
      ]
     },
     "execution_count": 36,
     "metadata": {},
     "output_type": "execute_result"
    }
   ],
   "source": [
    "collect(getGroupElements([2,2]))"
   ]
  },
  {
   "cell_type": "code",
   "execution_count": null,
   "id": "0e707543",
   "metadata": {},
   "outputs": [],
   "source": []
  }
 ],
 "metadata": {
  "kernelspec": {
   "display_name": "Julia 1.8.5",
   "language": "julia",
   "name": "julia-1.8"
  },
  "language_info": {
   "file_extension": ".jl",
   "mimetype": "application/julia",
   "name": "julia",
   "version": "1.8.5"
  }
 },
 "nbformat": 4,
 "nbformat_minor": 5
}
