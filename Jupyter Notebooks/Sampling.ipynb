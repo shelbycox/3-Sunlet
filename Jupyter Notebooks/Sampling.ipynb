{
 "cells": [
  {
   "cell_type": "markdown",
   "id": "1aeae5ba",
   "metadata": {},
   "source": [
    "# Random Sampling in a Hyperplane Arrangement Complement\n",
    "\n",
    "### Import Packages"
   ]
  },
  {
   "cell_type": "code",
   "execution_count": 93,
   "id": "a5b9cee3",
   "metadata": {},
   "outputs": [
    {
     "data": {
      "text/plain": [
       "getNeighbors (generic function with 1 method)"
      ]
     },
     "metadata": {},
     "output_type": "display_data"
    }
   ],
   "source": [
    "## only run this once\n",
    "using LinearAlgebra\n",
    "include(\"lambda_cyclic.jl\")\n",
    "include(\"hyperplanes.jl\")\n",
    "include(\"sampling.jl\")"
   ]
  },
  {
   "cell_type": "markdown",
   "id": "27a81f04",
   "metadata": {},
   "source": [
    "### Generate a random point"
   ]
  },
  {
   "cell_type": "code",
   "execution_count": 2,
   "id": "7a5bbb1e",
   "metadata": {},
   "outputs": [
    {
     "data": {
      "text/plain": [
       "p (generic function with 1 method)"
      ]
     },
     "metadata": {},
     "output_type": "display_data"
    }
   ],
   "source": [
    "p(n) = [rand(Float64)-.5 for j=1:n]"
   ]
  },
  {
   "cell_type": "markdown",
   "id": "7df7fe6c",
   "metadata": {},
   "source": [
    "### Generate the 3-Sunlet hyperplanes"
   ]
  },
  {
   "cell_type": "code",
   "execution_count": 6,
   "id": "64e9184e",
   "metadata": {},
   "outputs": [
    {
     "data": {
      "text/plain": [
       "1-element Vector{String}:\n",
       " \"mu_0\""
      ]
     },
     "execution_count": 6,
     "metadata": {},
     "output_type": "execute_result"
    }
   ],
   "source": [
    "coords_3 = [\"mu_0\", \"mu_1\", \"mu_2\", \"eta_{10}\", \"eta_{21}\", \"eta_{02}\"]\n",
    "coords_3[[i for i in eachindex(H3[1]) if H3[1][i] != 0]]"
   ]
  },
  {
   "cell_type": "code",
   "execution_count": 8,
   "id": "4951b489",
   "metadata": {},
   "outputs": [
    {
     "data": {
      "text/plain": [
       "8-element Vector{String}:\n",
       " \"mu_0\"\n",
       " \"mu_1\"\n",
       " \"mu_2\"\n",
       " \"mu_3\"\n",
       " \"eta_{10}\"\n",
       " \"eta_{21}\"\n",
       " \"eta_{32}\"\n",
       " \"eta_{03}\""
      ]
     },
     "execution_count": 8,
     "metadata": {},
     "output_type": "execute_result"
    }
   ],
   "source": [
    "coords_4 = [\"mu_0\", \"mu_1\", \"mu_2\", \"mu_3\", \"eta_{10}\", \"eta_{21}\", \"eta_{32}\", \"eta_{03}\"]"
   ]
  },
  {
   "cell_type": "code",
   "execution_count": 3,
   "id": "3cdbe016",
   "metadata": {},
   "outputs": [
    {
     "data": {
      "text/plain": [
       "21-element Vector{Any}:\n",
       " [0, 0, 0, 0, 1, -1, -1, -1, -1]\n",
       " [0, 0, 0, 0, 1, 0, 0, 0, 1]\n",
       " [0, 0, 0, 0, 1, 0, 0, 1, 0]\n",
       " [0, 0, 0, 0, 1, 0, 1, 0, 0]\n",
       " [0, 0, 0, 0, 1, 1, 0, 0, 0]\n",
       " [0, 0, 0, 1, 0, -1, -1, -1, 0]\n",
       " [0, 0, 0, 1, 0, 0, -1, -1, -1]\n",
       " [0, 0, 0, 1, 0, 0, 0, 1, 1]\n",
       " [0, 0, 0, 1, 0, 0, 1, 1, 0]\n",
       " [0, 0, 0, 1, 0, 1, 1, 0, 0]\n",
       " ⋮\n",
       " [0, 0, 1, 0, 0, 0, 0, -1, -1]\n",
       " [0, 0, 1, 0, 0, 0, 1, 1, 1]\n",
       " [0, 0, 1, 0, 0, 1, 1, 1, 0]\n",
       " [0, 1, 0, 0, 0, -1, 0, 0, 0]\n",
       " [0, 1, 0, 0, 0, 0, -1, 0, 0]\n",
       " [0, 1, 0, 0, 0, 0, 0, -1, 0]\n",
       " [0, 1, 0, 0, 0, 0, 0, 0, -1]\n",
       " [0, 1, 0, 0, 0, 1, 1, 1, 1]\n",
       " [1, 0, 0, 0, 0, 0, 0, 0, 0]"
      ]
     },
     "metadata": {},
     "output_type": "display_data"
    }
   ],
   "source": [
    "Z5 = FiniteCyclicGroup([5])\n",
    "H5 = generateSunletArr(Z5)\n",
    "sort(H5)"
   ]
  },
  {
   "cell_type": "markdown",
   "id": "5ec77cec",
   "metadata": {},
   "source": [
    "### Inequality vector"
   ]
  },
  {
   "cell_type": "code",
   "execution_count": 5,
   "id": "7a293df4",
   "metadata": {},
   "outputs": [
    {
     "data": {
      "text/plain": [
       "ineq (generic function with 1 method)"
      ]
     },
     "metadata": {},
     "output_type": "display_data"
    }
   ],
   "source": [
    "ineq(v, H) = [LinearAlgebra.dot(v, h) > 0 for h in H]"
   ]
  },
  {
   "cell_type": "code",
   "execution_count": 6,
   "id": "d0cc6f75",
   "metadata": {},
   "outputs": [
    {
     "data": {
      "text/plain": [
       "neighbors (generic function with 1 method)"
      ]
     },
     "metadata": {},
     "output_type": "display_data"
    }
   ],
   "source": [
    "neighbors(I, J) = (sum(I .⊻ J) == 1)"
   ]
  },
  {
   "cell_type": "markdown",
   "id": "484452af",
   "metadata": {},
   "source": [
    "### Sampling Algorithm"
   ]
  },
  {
   "cell_type": "markdown",
   "id": "47061da0",
   "metadata": {},
   "source": [
    "## Example $n = 3$"
   ]
  },
  {
   "cell_type": "code",
   "execution_count": 74,
   "id": "89f3373b",
   "metadata": {},
   "outputs": [
    {
     "data": {
      "text/plain": [
       "7-element Vector{Any}:\n",
       " [0, 0, 1, 1, 0]\n",
       " [0, 0, 1, -1, -1]\n",
       " [0, 1, 0, 1, 1]\n",
       " [0, 1, 0, 0, -1]\n",
       " [0, 1, 0, -1, 0]\n",
       " [0, 0, 1, 0, 1]\n",
       " [1, 0, 0, 0, 0]"
      ]
     },
     "metadata": {},
     "output_type": "display_data"
    }
   ],
   "source": [
    "H3"
   ]
  },
  {
   "cell_type": "code",
   "execution_count": 92,
   "id": "9a0439ee",
   "metadata": {},
   "outputs": [
    {
     "name": "stdout",
     "output_type": "stream",
     "text": [
      "  2.184808 seconds (11.69 M allocations: 327.922 MiB, 4.44% gc time, 8.01% compilation time)\n",
      "92\n"
     ]
    },
    {
     "data": {
      "text/plain": [
       "Dict{Int64, Int64} with 3 entries:\n",
       "  7 => 4\n",
       "  9 => 64\n",
       "  8 => 24"
      ]
     },
     "metadata": {},
     "output_type": "display_data"
    }
   ],
   "source": [
    "Z3 = FiniteCyclicGroup([3])\n",
    "H3 = generateSunletArr(Z3)\n",
    "@time s3 = sample(Z3, H3, 2^20); ## get the sample points (< 2 seconds usually)\n",
    "println(length(s3))\n",
    "ranks = countRanks(s3, Z3)\n",
    "ranks"
   ]
  },
  {
   "cell_type": "code",
   "execution_count": 98,
   "id": "b21c618e",
   "metadata": {},
   "outputs": [
    {
     "name": "stdout",
     "output_type": "stream",
     "text": [
      "Dict(1 => [0, 0,"
     ]
    },
    {
     "name": "stdout",
     "output_type": "stream",
     "text": [
      " 0, 0, 0, 0, 0])"
     ]
    },
    {
     "ename": "TypeError",
     "evalue": "TypeError: non-boolean (Vector{Vector{Bool}}) used in boolean context",
     "output_type": "error",
     "traceback": [
      "TypeError: non-boolean (Vector{Vector{Bool}}) used in boolean context\n",
      "\n",
      "Stacktrace:\n",
      " [1] top-level scope\n",
      "   @ c:\\Users\\spcox\\Documents\\GitHub\\3-Sunlet\\Sampling.ipynb:18"
     ]
    }
   ],
   "source": [
    "## getting poset structure!\n",
    "## start with a parochial chamber, say [0 0 ... 0]\n",
    "## find all neighbors, add to list of distance 1 chambers\n",
    "## record the distance 1 chambers as visited already\n",
    "## for each distance 1 chamber, compute the neighbors\n",
    "## if the neighbor hasn't been visited yet, add it to the distance 2 chambers\n",
    "## add the distance 2 chambers to the visited chambers\n",
    "## etc\n"
   ]
  },
  {
   "cell_type": "markdown",
   "id": "0d9bcb76",
   "metadata": {},
   "source": [
    "## checking if $\\mu_0$ does anything..."
   ]
  },
  {
   "cell_type": "code",
   "execution_count": 19,
   "id": "49be7f14",
   "metadata": {},
   "outputs": [],
   "source": [
    "inequalityKeys = collect(keys(s3))\n",
    "for I in inequalityKeys\n",
    "    for J in inequalityKeys\n",
    "#         println(I .⊻ J)\n",
    "        if I .⊻ J == [Bool(1), Bool(0), Bool(0), Bool(0), Bool(0), Bool(0), Bool(0)]\n",
    "            print(getRank(s3[I], [3]) - getRank(s3[J], [3]))\n",
    "        end\n",
    "    end\n",
    "end"
   ]
  },
  {
   "cell_type": "code",
   "execution_count": 20,
   "id": "e89d0bf5",
   "metadata": {},
   "outputs": [
    {
     "name": "stdout",
     "output_type": "stream",
     "text": [
      "Bool[1, 0, 0, 0, 0, 0]"
     ]
    }
   ],
   "source": [
    "print([Bool(1), Bool(0), Bool(0), Bool(0), Bool(0), Bool(0)])"
   ]
  },
  {
   "cell_type": "markdown",
   "id": "4ae13198",
   "metadata": {},
   "source": [
    "### Test Neighbors"
   ]
  },
  {
   "cell_type": "code",
   "execution_count": 21,
   "id": "a3958755",
   "metadata": {},
   "outputs": [
    {
     "ename": "MethodError",
     "evalue": "MethodError: no method matching getRank(::Vector{Float64}, ::Int64)\nClosest candidates are:\n  getRank(::Any, !Matched::FiniteCyclicGroup) at c:\\Users\\spcox\\Documents\\GitHub\\3-Sunlet\\lambda_cyclic.jl:129",
     "output_type": "error",
     "traceback": [
      "MethodError: no method matching getRank(::Vector{Float64}, ::Int64)\n",
      "Closest candidates are:\n",
      "  getRank(::Any, !Matched::FiniteCyclicGroup) at c:\\Users\\spcox\\Documents\\GitHub\\3-Sunlet\\lambda_cyclic.jl:129\n",
      "\n",
      "Stacktrace:\n",
      " [1] top-level scope\n",
      "   @ c:\\Users\\spcox\\Documents\\GitHub\\3-Sunlet\\Sampling.ipynb:3"
     ]
    }
   ],
   "source": [
    "for I in collect(keys(s3))\n",
    "    s = s3[I]\n",
    "    curr_rank = getRank(s, n)\n",
    "    for J in collect(keys(s3))\n",
    "        if neighbors(I, J)\n",
    "            neighbor = s3[J]\n",
    "            n_rank = getRank(neighbor, n)\n",
    "            print(abs(curr_rank - n_rank))\n",
    "        end\n",
    "    end\n",
    "end"
   ]
  },
  {
   "cell_type": "markdown",
   "id": "8110e81e",
   "metadata": {},
   "source": [
    "### Parochial Chambers"
   ]
  },
  {
   "cell_type": "code",
   "execution_count": 22,
   "id": "91824154",
   "metadata": {},
   "outputs": [
    {
     "ename": "KeyError",
     "evalue": "KeyError: key [0, 0, 0, 0, 0, 0, 0] not found",
     "output_type": "error",
     "traceback": [
      "KeyError: key [0, 0, 0, 0, 0, 0, 0] not found\n",
      "\n",
      "Stacktrace:\n",
      " [1] getindex(h::Dict{Any, Any}, key::Vector{Int64})\n",
      "   @ Base .\\dict.jl:498\n",
      " [2] top-level scope\n",
      "   @ c:\\Users\\spcox\\Documents\\GitHub\\3-Sunlet\\Sampling.ipynb:2"
     ]
    }
   ],
   "source": [
    "p1 = s3[[1, 1, 1, 1, 1, 1, 1]];\n",
    "p2 = s3[[0, 0, 0, 0, 0, 0, 0]];\n",
    "r1 = getRank(p1, n);\n",
    "r2 = getRank(p2, n);\n",
    "println(r1, r2)\n",
    "parochial(s3, 7)\n",
    "# keys(s3)"
   ]
  },
  {
   "cell_type": "code",
   "execution_count": 23,
   "id": "f59a9e86",
   "metadata": {},
   "outputs": [
    {
     "data": {
      "text/plain": [
       "parochial (generic function with 1 method)"
      ]
     },
     "metadata": {},
     "output_type": "display_data"
    }
   ],
   "source": [
    "function parochial(S, k)\n",
    "    p0 = S[zeros(Bool, k)]\n",
    "    p1 = S[ones(Bool, k)]\n",
    "    r0 = getRank(p0, n)\n",
    "    r1 = getRank(p1, n)\n",
    "    print(r0, ' ', r1)\n",
    "end"
   ]
  },
  {
   "cell_type": "code",
   "execution_count": 24,
   "id": "8b65ab9e",
   "metadata": {},
   "outputs": [
    {
     "ename": "UndefVarError",
     "evalue": "UndefVarError: p2 not defined",
     "output_type": "error",
     "traceback": [
      "UndefVarError: p2 not defined\n",
      "\n",
      "Stacktrace:\n",
      " [1] top-level scope\n",
      "   @ c:\\Users\\spcox\\Documents\\GitHub\\3-Sunlet\\Sampling.ipynb:1"
     ]
    }
   ],
   "source": [
    "p_avg = (p1 .+ p2)./2; ## average the sample representing parochial chambers\n",
    "r_avg = getRank(p_avg, n) ## the average happens to have full rank"
   ]
  },
  {
   "cell_type": "markdown",
   "id": "7acc5231",
   "metadata": {},
   "source": [
    "### Low Rank Chambers"
   ]
  },
  {
   "cell_type": "code",
   "execution_count": 25,
   "id": "153d1ad4",
   "metadata": {},
   "outputs": [
    {
     "ename": "UndefVarError",
     "evalue": "UndefVarError: ranks not defined",
     "output_type": "error",
     "traceback": [
      "UndefVarError: ranks not defined\n",
      "\n",
      "Stacktrace:\n",
      " [1] top-level scope\n",
      "   @ c:\\Users\\spcox\\Documents\\GitHub\\3-Sunlet\\Sampling.ipynb:4"
     ]
    }
   ],
   "source": [
    "low_rank = []\n",
    "s3_keys = collect(keys(s3))\n",
    "for s in eachindex(s3_keys)\n",
    "    if ranks[s] == 7\n",
    "        push!(low_rank, s)\n",
    "    end\n",
    "end\n",
    "length(low_rank)"
   ]
  },
  {
   "cell_type": "code",
   "execution_count": 26,
   "id": "a5fc647b",
   "metadata": {},
   "outputs": [
    {
     "data": {
      "text/plain": [
       "Any[]"
      ]
     },
     "metadata": {},
     "output_type": "display_data"
    }
   ],
   "source": [
    "## two of the chambers are parochial\n",
    "s3_keys[low_rank]"
   ]
  },
  {
   "cell_type": "markdown",
   "id": "2512c7db",
   "metadata": {},
   "source": [
    "### Testing to_lambda function"
   ]
  },
  {
   "cell_type": "code",
   "execution_count": 27,
   "id": "ab749e5c",
   "metadata": {},
   "outputs": [
    {
     "data": {
      "text/plain": [
       "7-element Vector{Bool}:\n",
       " 1\n",
       " 1\n",
       " 1\n",
       " 1\n",
       " 1\n",
       " 1\n",
       " 1"
      ]
     },
     "metadata": {},
     "output_type": "display_data"
    }
   ],
   "source": [
    "s0 = collect(values(s3))[1];\n",
    "ineq(s0, H3)"
   ]
  },
  {
   "cell_type": "code",
   "execution_count": 28,
   "id": "9a1c44c3",
   "metadata": {},
   "outputs": [
    {
     "ename": "BoundsError",
     "evalue": "BoundsError: attempt to access 5-element Vector{Float64} at index [4:6]",
     "output_type": "error",
     "traceback": [
      "BoundsError: attempt to access 5-element Vector{Float64} at index [4:6]\n",
      "\n",
      "Stacktrace:\n",
      " [1] throw_boundserror(A::Vector{Float64}, I::Tuple{UnitRange{Int64}})\n",
      "   @ Base .\\abstractarray.jl:703\n",
      " [2] checkbounds\n",
      "   @ .\\abstractarray.jl:668 [inlined]\n",
      " [3] getindex(A::Vector{Float64}, I::UnitRange{Int64})\n",
      "   @ Base .\\array.jl:930\n",
      " [4] top-level scope\n",
      "   @ c:\\Users\\spcox\\Documents\\GitHub\\3-Sunlet\\Sampling.ipynb:3"
     ]
    }
   ],
   "source": [
    "G = [[0, 2, 1], [1, 1, 1], [1, 0, 2], [1, 2, 0], [2, 2, 2], [2, 1, 0], [2, 0, 1]]\n",
    "for g in G\n",
    "    print(computeLambda(g, m1, to_lambda(s0[1:3], s0[4:6], 3), 3), ' ')\n",
    "    println(computeLambda(g, m2, to_lambda(s0[1:3], s0[4:6], 3), 3))\n",
    "end"
   ]
  },
  {
   "cell_type": "code",
   "execution_count": 29,
   "id": "80dbe4bf",
   "metadata": {},
   "outputs": [
    {
     "data": {
      "text/plain": [
       "5-element Vector{Float64}:\n",
       " 0.31449080493938786\n",
       " 0.9376601187603265\n",
       " 0.6892820277376034\n",
       " 0.08449822373118632\n",
       " 0.544580190470173"
      ]
     },
     "metadata": {},
     "output_type": "display_data"
    }
   ],
   "source": [
    "s0"
   ]
  },
  {
   "cell_type": "markdown",
   "id": "2f26351c",
   "metadata": {},
   "source": [
    "## Example $n = 4$"
   ]
  },
  {
   "cell_type": "markdown",
   "id": "c0c321b3",
   "metadata": {},
   "source": [
    "### Generate the Hyperplanes"
   ]
  },
  {
   "cell_type": "code",
   "execution_count": 30,
   "id": "0c961fd7",
   "metadata": {},
   "outputs": [
    {
     "data": {
      "text/plain": [
       "13-element Vector{Matrix{Int64}}:\n",
       " [1 0 … 0 0]\n",
       " [0 0 … -1 0]\n",
       " [0 0 … 0 0]\n",
       " [0 0 … 1 0]\n",
       " [0 0 … 0 0]\n",
       " [0 1 … -1 0]\n",
       " [0 1 … 0 0]\n",
       " [0 1 … 0 0]\n",
       " [0 1 … 0 -1]\n",
       " [0 0 … 0 1]\n",
       " [0 0 … 1 0]\n",
       " [0 0 … 0 0]\n",
       " [0 0 … 0 0]"
      ]
     },
     "metadata": {},
     "output_type": "display_data"
    }
   ],
   "source": [
    "## mu 0 1 2 3 eta 10 21 32 03\n",
    "H4 = [[1 0 0 0 0 0 0 0], [0 0 1 0 0 -1 -1 0], [0 0 1 0 -1 -1 0 0], [0 0 1 0 0 1 1 0], [0 0 1 0 1 1 0 0], [0 1 0 0 0 0 -1 0], [0 1 0 0 0 -1 0 0], [0 1 0 0 -1 0 0 0], [0 1 0 0 0 0 0 -1], [0 0 0 1 0 0 0 1], [0 0 0 1 0 0 1 0], [0 0 0 1 0 1 0 0], [0 0 0 1 1 0 0 0]]"
   ]
  },
  {
   "cell_type": "markdown",
   "id": "87fc300b",
   "metadata": {},
   "source": [
    "### Generate Sample Points"
   ]
  },
  {
   "cell_type": "code",
   "execution_count": 31,
   "id": "39ab8365",
   "metadata": {},
   "outputs": [],
   "source": [
    "## 2328"
   ]
  },
  {
   "cell_type": "code",
   "execution_count": 32,
   "id": "97048d12",
   "metadata": {},
   "outputs": [
    {
     "data": {
      "text/plain": [
       "sample_info (generic function with 1 method)"
      ]
     },
     "metadata": {},
     "output_type": "display_data"
    }
   ],
   "source": [
    "function sample_info(n, H, N)\n",
    "    @time S = sample(n, H, N)\n",
    "    println(length(S))\n",
    "    ranks = [getRank(s, n) for s in collect(values(S))];\n",
    "    R = sort(collect(Set(ranks)))\n",
    "    println(\"R=\", R)\n",
    "    counts = [sum([r==k for r in ranks]) for k in R]; ## tabulate the ranks\n",
    "    println(counts)\n",
    "    priors = [100*c/sum(counts) for c in counts]; ## compute priors (% of samples with given rank)\n",
    "    println(priors)\n",
    "    return S\n",
    "end"
   ]
  },
  {
   "cell_type": "code",
   "execution_count": 33,
   "id": "a5e4e060",
   "metadata": {},
   "outputs": [
    {
     "ename": "MethodError",
     "evalue": "MethodError: no method matching sample(::Int64, ::Vector{Matrix{Int64}}, ::Int64)\nClosest candidates are:\n  sample(!Matched::FiniteCyclicGroup, ::Any, ::Int64) at c:\\Users\\spcox\\Documents\\GitHub\\3-Sunlet\\sampling.jl:1",
     "output_type": "error",
     "traceback": [
      "MethodError: no method matching sample(::Int64, ::Vector{Matrix{Int64}}, ::Int64)\n",
      "Closest candidates are:\n",
      "  sample(!Matched::FiniteCyclicGroup, ::Any, ::Int64) at c:\\Users\\spcox\\Documents\\GitHub\\3-Sunlet\\sampling.jl:1\n",
      "\n",
      "Stacktrace:\n",
      " [1] top-level scope\n",
      "   @ .\\timing.jl:262 [inlined]\n",
      " [2] top-level scope\n",
      "   @ c:\\Users\\spcox\\Documents\\GitHub\\3-Sunlet\\Sampling.ipynb:0"
     ]
    }
   ],
   "source": [
    "Z4 = FiniteCyclicGroup([4])\n",
    "@time S = sample(4, H4, 2^20)\n",
    "println(length(S))\n",
    "ranks = [getRank(s, Z4) for s in collect(values(S))];\n",
    "R = sort(collect(Set(ranks)))\n",
    "println(\"R=\", R)\n",
    "counts = [sum([r==k for r in ranks]) for k in R]; ## tabulate the ranks\n",
    "println(counts)\n",
    "priors = [100*c/sum(counts) for c in counts]; ## compute priors (% of samples with given rank)\n",
    "println(priors)"
   ]
  },
  {
   "cell_type": "code",
   "execution_count": 34,
   "id": "4aa5590f",
   "metadata": {},
   "outputs": [
    {
     "ename": "UndefVarError",
     "evalue": "UndefVarError: R not defined",
     "output_type": "error",
     "traceback": [
      "UndefVarError: R not defined\n",
      "\n",
      "Stacktrace:\n",
      " [1] top-level scope\n",
      "   @ c:\\Users\\spcox\\Documents\\GitHub\\3-Sunlet\\Sampling.ipynb:1"
     ]
    }
   ],
   "source": [
    "IByRank4 = Dict([r=>[s for s in collect(keys(S)) if getRank(S[s], Z4) == r] for r in R])"
   ]
  },
  {
   "cell_type": "code",
   "execution_count": 35,
   "id": "2e596ba0",
   "metadata": {},
   "outputs": [
    {
     "ename": "UndefVarError",
     "evalue": "UndefVarError: IByRank4 not defined",
     "output_type": "error",
     "traceback": [
      "UndefVarError: IByRank4 not defined\n",
      "\n",
      "Stacktrace:\n",
      " [1] top-level scope\n",
      "   @ c:\\Users\\spcox\\Documents\\GitHub\\3-Sunlet\\Sampling.ipynb:1"
     ]
    }
   ],
   "source": [
    "start_chamber = IByRank4[10][1]"
   ]
  },
  {
   "cell_type": "code",
   "execution_count": 36,
   "id": "cb41c1b4",
   "metadata": {},
   "outputs": [
    {
     "ename": "UndefVarError",
     "evalue": "UndefVarError: s4 not defined",
     "output_type": "error",
     "traceback": [
      "UndefVarError: s4 not defined\n",
      "\n",
      "Stacktrace:\n",
      " [1] top-level scope\n",
      "   @ c:\\Users\\spcox\\Documents\\GitHub\\3-Sunlet\\Sampling.ipynb:1"
     ]
    }
   ],
   "source": [
    "inequalityKeys = collect(keys(s4))\n",
    "for I in inequalityKeys\n",
    "    for J in inequalityKeys\n",
    "#         println(I .⊻ J)\n",
    "        if I .⊻ J == [Bool(1), Bool(0), Bool(0), Bool(0), Bool(0), Bool(0), Bool(0), Bool(0), Bool(0), Bool(0), Bool(0), Bool(0), Bool(0)]\n",
    "            print(getRank(s4[I], [3]) - getRank(s4[J], [3]))\n",
    "        end\n",
    "    end\n",
    "end"
   ]
  },
  {
   "cell_type": "markdown",
   "id": "37e6bf51",
   "metadata": {},
   "source": [
    "### Check Neighbors"
   ]
  },
  {
   "cell_type": "code",
   "execution_count": 37,
   "id": "0bd9bed2",
   "metadata": {},
   "outputs": [
    {
     "data": {
      "text/plain": [
       "getNeighbors (generic function with 1 method)"
      ]
     },
     "metadata": {},
     "output_type": "display_data"
    }
   ],
   "source": [
    "function getNeighbors(I, allI)\n",
    "    neighborhood = []\n",
    "    for J in allI\n",
    "        if neighbors(I, J)\n",
    "            push!(neighborhood, J)\n",
    "        end\n",
    "    end\n",
    "    return neighborhood\n",
    "end"
   ]
  },
  {
   "cell_type": "code",
   "execution_count": 38,
   "id": "0731f92a",
   "metadata": {},
   "outputs": [
    {
     "data": {
      "text/plain": [
       "check_neighbors (generic function with 1 method)"
      ]
     },
     "metadata": {},
     "output_type": "display_data"
    }
   ],
   "source": [
    "function check_neighbors(S, group)\n",
    "    allI = collect(keys(S))\n",
    "    \n",
    "    for I in allI\n",
    "        curr_rank = getRank(s, group)\n",
    "        neighbor_ranks = getNeighborRanks(I, S, group)\n",
    "        high_neighbor_ranks = neighbor_ranks[i for i in eachindex(neighbor_ranks) if abs(neighbor_ranks[i] - curr_rank) > 1]\n",
    "        println(curr_rank, high_neighbor_ranks)\n",
    "    end\n",
    "end"
   ]
  },
  {
   "cell_type": "code",
   "execution_count": 39,
   "id": "030e6f89",
   "metadata": {},
   "outputs": [
    {
     "data": {
      "text/plain": [
       "getNeighborRanks (generic function with 1 method)"
      ]
     },
     "metadata": {},
     "output_type": "display_data"
    }
   ],
   "source": [
    "function getNeighborRanks(I, S, group)\n",
    "    neighbor_ranks = []\n",
    "    for J in getNeighbors(I, collect(keys(S)))\n",
    "        push!(neighbor_ranks, getRank(S[J], group))\n",
    "    end\n",
    "#     return [getRank(S[J], group) for J in getNeighbors(I, collect(keys(S)))\n",
    "    return neighbor_ranks\n",
    "end"
   ]
  },
  {
   "cell_type": "code",
   "execution_count": 40,
   "id": "e0385cbd",
   "metadata": {},
   "outputs": [
    {
     "data": {
      "text/plain": [
       "moveUp (generic function with 1 method)"
      ]
     },
     "metadata": {},
     "output_type": "display_data"
    }
   ],
   "source": [
    "function moveUp(curr_chamber, all_chambers, group)\n",
    "    curr_rank = getRank(all_chambers[curr_chamber], group)\n",
    "    neighbor_ranks = getNeighborRanks(curr_chamber, all_chambers, group)\n",
    "    next_chamber = getNeighbors(curr_chamber, collect(keys(all_chambers)))[findfirst(x -> x > curr_rank, neighbor_ranks)]\n",
    "    return next_chamber\n",
    "end"
   ]
  },
  {
   "cell_type": "code",
   "execution_count": 41,
   "id": "d303c339",
   "metadata": {},
   "outputs": [
    {
     "ename": "UndefVarError",
     "evalue": "UndefVarError: start_chamber not defined",
     "output_type": "error",
     "traceback": [
      "UndefVarError: start_chamber not defined\n",
      "\n",
      "Stacktrace:\n",
      " [1] top-level scope\n",
      "   @ c:\\Users\\spcox\\Documents\\GitHub\\3-Sunlet\\Sampling.ipynb:1"
     ]
    }
   ],
   "source": [
    "rk11_chamber = moveUp(start_chamber, S, Z4)\n",
    "rk12_chamber = moveUp(rk11_chamber, S, Z4)\n",
    "rk13_chamber = moveUp(rk12_chamber, S, Z4)\n",
    "rk14_chamber = moveUp(rk13_chamber, S, Z4)\n",
    "rk15_chamber = moveUp(rk14_chamber, S, Z4)\n",
    "rk16_chamber = moveUp(rk15_chamber, S, Z4)"
   ]
  },
  {
   "cell_type": "markdown",
   "id": "32c9c361",
   "metadata": {},
   "source": [
    "### Check Parochial Chambers"
   ]
  },
  {
   "cell_type": "code",
   "execution_count": 42,
   "id": "f81757b4",
   "metadata": {},
   "outputs": [
    {
     "ename": "UndefVarError",
     "evalue": "UndefVarError: s4 not defined",
     "output_type": "error",
     "traceback": [
      "UndefVarError: s4 not defined\n",
      "\n",
      "Stacktrace:\n",
      " [1] top-level scope\n",
      "   @ c:\\Users\\spcox\\Documents\\GitHub\\3-Sunlet\\Sampling.ipynb:1"
     ]
    }
   ],
   "source": [
    "p0 = s4[[0, 0, 0, 0, 0, 0, 0, 0, 0, 0, 0, 0, 0]];\n",
    "p1 = s4[[1, 1, 1, 1, 1, 1, 1, 1, 1, 1, 1, 1, 1]];\n",
    "r0 = getRank(p0, 4)\n",
    "r1 = getRank(p1, 4)\n",
    "print(r0, ' ', r1)"
   ]
  },
  {
   "cell_type": "markdown",
   "id": "5baa3f61",
   "metadata": {},
   "source": [
    "### Low Rank Chambers"
   ]
  },
  {
   "cell_type": "code",
   "execution_count": 43,
   "id": "ad414a0a",
   "metadata": {},
   "outputs": [
    {
     "ename": "UndefVarError",
     "evalue": "UndefVarError: s4 not defined",
     "output_type": "error",
     "traceback": [
      "UndefVarError: s4 not defined\n",
      "\n",
      "Stacktrace:\n",
      " [1] top-level scope\n",
      "   @ c:\\Users\\spcox\\Documents\\GitHub\\3-Sunlet\\Sampling.ipynb:2"
     ]
    }
   ],
   "source": [
    "low_rank_4 = []\n",
    "for s in collect(keys(s4))\n",
    "    if getRank(s4[s], 4) == 10\n",
    "        push!(low_rank_4, s)\n",
    "    end\n",
    "end\n",
    "length(low_rank)"
   ]
  },
  {
   "cell_type": "code",
   "execution_count": 44,
   "id": "f585fc4a",
   "metadata": {},
   "outputs": [
    {
     "data": {
      "text/plain": [
       "Any[]"
      ]
     },
     "metadata": {},
     "output_type": "display_data"
    }
   ],
   "source": [
    "low_rank_4"
   ]
  },
  {
   "cell_type": "markdown",
   "id": "54666d0e",
   "metadata": {},
   "source": [
    "### Dictionary of ranks => inequalities"
   ]
  },
  {
   "cell_type": "code",
   "execution_count": 45,
   "id": "e9c78376",
   "metadata": {},
   "outputs": [
    {
     "ename": "UndefVarError",
     "evalue": "UndefVarError: R not defined",
     "output_type": "error",
     "traceback": [
      "UndefVarError: R not defined\n",
      "\n",
      "Stacktrace:\n",
      " [1] top-level scope\n",
      "   @ c:\\Users\\spcox\\Documents\\GitHub\\3-Sunlet\\Sampling.ipynb:1"
     ]
    }
   ],
   "source": [
    "rdict_3 = Dict([r => [s3_keys[s] for s in eachindex(collect(keys(s3))) if ranks[s] == r] for r in R])"
   ]
  },
  {
   "cell_type": "code",
   "execution_count": 46,
   "id": "37278f38",
   "metadata": {},
   "outputs": [
    {
     "ename": "UndefVarError",
     "evalue": "UndefVarError: rdict_3 not defined",
     "output_type": "error",
     "traceback": [
      "UndefVarError: rdict_3 not defined\n",
      "\n",
      "Stacktrace:\n",
      " [1] top-level scope\n",
      "   @ c:\\Users\\spcox\\Documents\\GitHub\\3-Sunlet\\Sampling.ipynb:1"
     ]
    }
   ],
   "source": [
    "length(rdict_3[9])"
   ]
  },
  {
   "cell_type": "code",
   "execution_count": 47,
   "id": "cd321831",
   "metadata": {},
   "outputs": [
    {
     "data": {
      "text/plain": [
       "rankToIDict (generic function with 1 method)"
      ]
     },
     "metadata": {},
     "output_type": "display_data"
    }
   ],
   "source": [
    "function rankToIDict(S, R)\n",
    "    rToI = Dict()\n",
    "    K = collect(keys(S))\n",
    "    for r in Set(R)\n",
    "        rToI[r] = [K[s] for s in eachindex(K) if R[s] == r]\n",
    "    end\n",
    "    return rToI\n",
    "end"
   ]
  },
  {
   "cell_type": "code",
   "execution_count": 48,
   "id": "ecc0188a",
   "metadata": {},
   "outputs": [
    {
     "ename": "UndefVarError",
     "evalue": "UndefVarError: s4 not defined",
     "output_type": "error",
     "traceback": [
      "UndefVarError: s4 not defined\n",
      "\n",
      "Stacktrace:\n",
      " [1] top-level scope\n",
      "   @ c:\\Users\\spcox\\Documents\\GitHub\\3-Sunlet\\Sampling.ipynb:1"
     ]
    }
   ],
   "source": [
    "rdict_4 = rankToIDict(s4, [getRank(s, 4) for s in collect(values(s4))])"
   ]
  },
  {
   "cell_type": "code",
   "execution_count": 49,
   "id": "528ef114",
   "metadata": {},
   "outputs": [
    {
     "ename": "UndefVarError",
     "evalue": "UndefVarError: rdict_4 not defined",
     "output_type": "error",
     "traceback": [
      "UndefVarError: rdict_4 not defined\n",
      "\n",
      "Stacktrace:\n",
      " [1] top-level scope\n",
      "   @ c:\\Users\\spcox\\Documents\\GitHub\\3-Sunlet\\Sampling.ipynb:1"
     ]
    }
   ],
   "source": [
    "for r in collect(keys(rdict_4))\n",
    "    println(length(rdict_4[r]))\n",
    "end"
   ]
  },
  {
   "cell_type": "code",
   "execution_count": 50,
   "id": "e5924f24",
   "metadata": {},
   "outputs": [
    {
     "data": {
      "text/plain": [
       "printRanks (generic function with 1 method)"
      ]
     },
     "metadata": {},
     "output_type": "display_data"
    }
   ],
   "source": [
    "function printRanks(RI, file_name)\n",
    "    open(file_name, \"w\") do io\n",
    "        for r in sort(collect(keys(RI)))\n",
    "            println(io, \"## rank = \", r)\n",
    "\n",
    "            count = 0\n",
    "            for I in RI[r]\n",
    "                if count % 5 == 0\n",
    "                    println(io, \"\")\n",
    "                end\n",
    "                for b in I\n",
    "                    print(io, Int(b), \" \")\n",
    "                end\n",
    "                println(io, \"\")\n",
    "                count += 1\n",
    "            end\n",
    "\n",
    "            println(io, \"\")\n",
    "        end\n",
    "    end\n",
    "end"
   ]
  },
  {
   "cell_type": "code",
   "execution_count": 51,
   "id": "a1f58b98",
   "metadata": {},
   "outputs": [
    {
     "data": {
      "text/plain": [
       "latexRanks (generic function with 1 method)"
      ]
     },
     "metadata": {},
     "output_type": "display_data"
    }
   ],
   "source": [
    "function latexRanks(RI)\n",
    "    count = 1\n",
    "    for r in sort(collect(keys(RI)))\n",
    "        for I in RI[r]\n",
    "            print(count, \" & \")\n",
    "            for i in eachindex(I)\n",
    "                if i < length(I)\n",
    "                    print(Int(I[i]), \" & \")\n",
    "                else\n",
    "                    print(Int(I[i]), \" & \", r, \" & \\\\\\\\\")\n",
    "                end\n",
    "            end\n",
    "            println()\n",
    "            count += 1\n",
    "        end\n",
    "    end\n",
    "end"
   ]
  },
  {
   "cell_type": "code",
   "execution_count": 52,
   "id": "8b8e00ae",
   "metadata": {},
   "outputs": [
    {
     "ename": "UndefVarError",
     "evalue": "UndefVarError: rdict_3 not defined",
     "output_type": "error",
     "traceback": [
      "UndefVarError: rdict_3 not defined\n",
      "\n",
      "Stacktrace:\n",
      " [1] top-level scope\n",
      "   @ c:\\Users\\spcox\\Documents\\GitHub\\3-Sunlet\\Sampling.ipynb:1"
     ]
    }
   ],
   "source": [
    "latexRanks(rdict_3);"
   ]
  },
  {
   "cell_type": "markdown",
   "id": "c243e159",
   "metadata": {},
   "source": [
    "## Z2 x Z2"
   ]
  },
  {
   "cell_type": "code",
   "execution_count": 53,
   "id": "48460f3d",
   "metadata": {},
   "outputs": [
    {
     "data": {
      "text/plain": [
       "13-element Vector{Matrix{Int64}}:\n",
       " [1 0 … 0 0]\n",
       " [0 1 … 0 0]\n",
       " [0 1 … 1 0]\n",
       " [0 1 … 0 0]\n",
       " [0 1 … -1 0]\n",
       " [0 0 … 0 0]\n",
       " [0 0 … 1 0]\n",
       " [0 0 … 0 0]\n",
       " [0 0 … -1 0]\n",
       " [0 0 … 0 1]\n",
       " [0 0 … 0 0]\n",
       " [0 0 … 0 -1]\n",
       " [0 0 … 0 0]"
      ]
     },
     "metadata": {},
     "output_type": "display_data"
    }
   ],
   "source": [
    "## mu 0 1 2 3, eta 10 21 32 03\n",
    "H22 = [[1 0 0 0 0 0 0 0], [0 1 0 0 1 0 0 0], [0 1 0 0 0 0 1 0], [0 1 0 0 -1 0 0 0], [0 1 0 0 0 0 -1 0], [0 0 1 0 1 1 0 0], [0 0 1 0 0 1 1 0], [0 0 1 0 -1 -1 0 0], [0 0 1 0 0 -1 -1 0], [0 0 0 1 0 0 0 1], [0 0 0 1 0 1 0 0], [0 0 0 1 0 0 0 -1], [0 0 0 1 0 -1 0 0]]"
   ]
  },
  {
   "cell_type": "code",
   "execution_count": 54,
   "id": "1bd9fc68",
   "metadata": {},
   "outputs": [
    {
     "ename": "UndefVarError",
     "evalue": "UndefVarError: Z2Z2 not defined",
     "output_type": "error",
     "traceback": [
      "UndefVarError: Z2Z2 not defined\n",
      "\n",
      "Stacktrace:\n",
      " [1] top-level scope\n",
      "   @ c:\\Users\\spcox\\Documents\\GitHub\\3-Sunlet\\Sampling.ipynb:6"
     ]
    }
   ],
   "source": [
    "# HToLatex(H22, getValidGroupTriples(Z2Z2), coords_4)\n",
    "function getGroupIdentity(group)\n",
    "    return zeros(Int64, getNumFactors(group))\n",
    "end\n",
    "\n",
    "validTriples = getValidGroupTriples(Z2Z2)\n",
    "nonZeroTriples = [G for G in validTriples if G[1] != getGroupIdentity(Z2Z2)]"
   ]
  },
  {
   "cell_type": "code",
   "execution_count": 55,
   "id": "4ff67aa1",
   "metadata": {},
   "outputs": [
    {
     "ename": "UndefVarError",
     "evalue": "UndefVarError: validTriples not defined",
     "output_type": "error",
     "traceback": [
      "UndefVarError: validTriples not defined\n",
      "\n",
      "Stacktrace:\n",
      " [1] top-level scope\n",
      "   @ c:\\Users\\spcox\\Documents\\GitHub\\3-Sunlet\\Sampling.ipynb:1"
     ]
    }
   ],
   "source": [
    "validTriples[1][1] == getGroupIdentity(Z2Z2)"
   ]
  },
  {
   "cell_type": "code",
   "execution_count": 56,
   "id": "ba791365",
   "metadata": {},
   "outputs": [
    {
     "ename": "MethodError",
     "evalue": "MethodError: no method matching sample(::Int64, ::Vector{Matrix{Int64}}, ::Int64)\nClosest candidates are:\n  sample(!Matched::FiniteCyclicGroup, ::Any, ::Int64) at c:\\Users\\spcox\\Documents\\GitHub\\3-Sunlet\\sampling.jl:1",
     "output_type": "error",
     "traceback": [
      "MethodError: no method matching sample(::Int64, ::Vector{Matrix{Int64}}, ::Int64)\n",
      "Closest candidates are:\n",
      "  sample(!Matched::FiniteCyclicGroup, ::Any, ::Int64) at c:\\Users\\spcox\\Documents\\GitHub\\3-Sunlet\\sampling.jl:1\n",
      "\n",
      "Stacktrace:\n",
      " [1] top-level scope\n",
      "   @ .\\timing.jl:262 [inlined]\n",
      " [2] top-level scope\n",
      "   @ c:\\Users\\spcox\\Documents\\GitHub\\3-Sunlet\\Sampling.ipynb:0"
     ]
    }
   ],
   "source": [
    "groupStructure = [2,2]\n",
    "Z2Z2 = FiniteCyclicGroup([2,2])\n",
    "@time s22 = sample(4, H22, 2^20); ## get the sample points (< 2 seconds usually)\n",
    "println(length(s22))"
   ]
  },
  {
   "cell_type": "code",
   "execution_count": 57,
   "id": "645c93c7",
   "metadata": {
    "scrolled": true
   },
   "outputs": [
    {
     "ename": "UndefVarError",
     "evalue": "UndefVarError: s22 not defined",
     "output_type": "error",
     "traceback": [
      "UndefVarError: s22 not defined\n",
      "\n",
      "Stacktrace:\n",
      " [1] top-level scope\n",
      "   @ c:\\Users\\spcox\\Documents\\GitHub\\3-Sunlet\\Sampling.ipynb:1"
     ]
    }
   ],
   "source": [
    "ranks = [getRank(s, Z2Z2) for s in collect(values(s22))]; ## get the rank for each sample point\n",
    "R = sort(collect(Set(ranks)))\n",
    "ranksByI = Dict([r=>[s for s in collect(keys(s22)) if getRank(s22[s], Z2Z2)==r] for r in R])\n",
    "println(\"R=\", R)\n",
    "counts = [sum([r==k for r in ranks]) for k in R]; ## tabulate the ranks\n",
    "priors = [c/sum(counts) for c in counts]; ## compute priors (% of samples with given rank)\n",
    "counts"
   ]
  },
  {
   "cell_type": "code",
   "execution_count": 58,
   "id": "45dfe7b0",
   "metadata": {},
   "outputs": [
    {
     "ename": "UndefVarError",
     "evalue": "UndefVarError: ranksByI not defined",
     "output_type": "error",
     "traceback": [
      "UndefVarError: ranksByI not defined\n",
      "\n",
      "Stacktrace:\n",
      " [1] top-level scope\n",
      "   @ c:\\Users\\spcox\\Documents\\GitHub\\3-Sunlet\\Sampling.ipynb:1"
     ]
    }
   ],
   "source": [
    "start_chamber = ranksByI[10][1]"
   ]
  },
  {
   "cell_type": "code",
   "execution_count": 59,
   "id": "8ea4159b",
   "metadata": {},
   "outputs": [
    {
     "ename": "UndefVarError",
     "evalue": "UndefVarError: ranksByI not defined",
     "output_type": "error",
     "traceback": [
      "UndefVarError: ranksByI not defined\n",
      "\n",
      "Stacktrace:\n",
      " [1] top-level scope\n",
      "   @ c:\\Users\\spcox\\Documents\\GitHub\\3-Sunlet\\Sampling.ipynb:1"
     ]
    }
   ],
   "source": [
    "printRanks(ranksByI, \"z2z2_chamber_ranks.txt\")"
   ]
  },
  {
   "cell_type": "code",
   "execution_count": 60,
   "id": "6a7bc9ce",
   "metadata": {},
   "outputs": [
    {
     "ename": "UndefVarError",
     "evalue": "UndefVarError: priors not defined",
     "output_type": "error",
     "traceback": [
      "UndefVarError: priors not defined\n"
     ]
    }
   ],
   "source": [
    "priors"
   ]
  },
  {
   "cell_type": "code",
   "execution_count": 61,
   "id": "901c2824",
   "metadata": {},
   "outputs": [
    {
     "ename": "UndefVarError",
     "evalue": "UndefVarError: s22 not defined",
     "output_type": "error",
     "traceback": [
      "UndefVarError: s22 not defined\n",
      "\n",
      "Stacktrace:\n",
      " [1] top-level scope\n",
      "   @ c:\\Users\\spcox\\Documents\\GitHub\\3-Sunlet\\Sampling.ipynb:1"
     ]
    }
   ],
   "source": [
    "check_neighbors(s22, [2,2])"
   ]
  },
  {
   "cell_type": "code",
   "execution_count": 62,
   "id": "177a7eee",
   "metadata": {},
   "outputs": [
    {
     "ename": "UndefVarError",
     "evalue": "UndefVarError: HToLatex not defined",
     "output_type": "error",
     "traceback": [
      "UndefVarError: HToLatex not defined\n",
      "\n",
      "Stacktrace:\n",
      " [1] top-level scope\n",
      "   @ c:\\Users\\spcox\\Documents\\GitHub\\3-Sunlet\\Sampling.ipynb:1"
     ]
    }
   ],
   "source": [
    "HToLatex(H22, getValidGroupTriples(Z2Z2), coords_4)"
   ]
  },
  {
   "cell_type": "markdown",
   "id": "ad70387b",
   "metadata": {},
   "source": [
    "## Z/5Z"
   ]
  },
  {
   "cell_type": "code",
   "execution_count": 63,
   "id": "72cc4a2a",
   "metadata": {},
   "outputs": [
    {
     "ename": "MethodError",
     "evalue": "MethodError: no method matching sample(::Int64, ::Vector{Any}, ::Int64)\nClosest candidates are:\n  sample(!Matched::FiniteCyclicGroup, ::Any, ::Int64) at c:\\Users\\spcox\\Documents\\GitHub\\3-Sunlet\\sampling.jl:1",
     "output_type": "error",
     "traceback": [
      "MethodError: no method matching sample(::Int64, ::Vector{Any}, ::Int64)\n",
      "Closest candidates are:\n",
      "  sample(!Matched::FiniteCyclicGroup, ::Any, ::Int64) at c:\\Users\\spcox\\Documents\\GitHub\\3-Sunlet\\sampling.jl:1\n",
      "\n",
      "Stacktrace:\n",
      " [1] top-level scope\n",
      "   @ .\\timing.jl:262 [inlined]\n",
      " [2] top-level scope\n",
      "   @ c:\\Users\\spcox\\Documents\\GitHub\\3-Sunlet\\Sampling.ipynb:0"
     ]
    }
   ],
   "source": [
    "@time s5 = sample(5, H5, 2^30); ## get the sample points (~ 22 min w/ laptop set to best performance)\n",
    "println(length(s5))"
   ]
  },
  {
   "cell_type": "code",
   "execution_count": 64,
   "id": "d8c6aab2",
   "metadata": {},
   "outputs": [],
   "source": [
    "# 113350\n",
    "\n",
    "## changing ranks indicates an error in the hyperplane generator... :("
   ]
  },
  {
   "cell_type": "code",
   "execution_count": 65,
   "id": "159f95bf",
   "metadata": {},
   "outputs": [
    {
     "ename": "UndefVarError",
     "evalue": "UndefVarError: s5 not defined",
     "output_type": "error",
     "traceback": [
      "UndefVarError: s5 not defined\n",
      "\n",
      "Stacktrace:\n",
      " [1] top-level scope\n",
      "   @ c:\\Users\\spcox\\Documents\\GitHub\\3-Sunlet\\Sampling.ipynb:1"
     ]
    }
   ],
   "source": [
    "ranks = [getRank(s, Z5) for s in collect(values(s5))]; ## get the rank for each sample point\n",
    "R = sort(collect(Set(ranks)))\n",
    "println(\"R=\", R)\n",
    "counts = [sum([r==k for r in ranks]) for k in R]; ## tabulate the ranks\n",
    "priors = [c/sum(counts) for c in counts]; ## compute priors (% of samples with given rank)\n",
    "counts"
   ]
  },
  {
   "cell_type": "code",
   "execution_count": 66,
   "id": "b268cde5",
   "metadata": {},
   "outputs": [
    {
     "ename": "UndefVarError",
     "evalue": "UndefVarError: priors not defined",
     "output_type": "error",
     "traceback": [
      "UndefVarError: priors not defined\n"
     ]
    }
   ],
   "source": [
    "priors"
   ]
  },
  {
   "cell_type": "code",
   "execution_count": 67,
   "id": "041209e1",
   "metadata": {},
   "outputs": [
    {
     "ename": "UndefVarError",
     "evalue": "UndefVarError: s5 not defined",
     "output_type": "error",
     "traceback": [
      "UndefVarError: s5 not defined\n",
      "\n",
      "Stacktrace:\n",
      " [1] top-level scope\n",
      "   @ c:\\Users\\spcox\\Documents\\GitHub\\3-Sunlet\\Sampling.ipynb:1"
     ]
    }
   ],
   "source": [
    "check_neighbors(s5, [5])"
   ]
  },
  {
   "cell_type": "code",
   "execution_count": 68,
   "id": "c4c5233f",
   "metadata": {},
   "outputs": [
    {
     "ename": "UndefVarError",
     "evalue": "UndefVarError: HToLatex not defined",
     "output_type": "error",
     "traceback": [
      "UndefVarError: HToLatex not defined\n",
      "\n",
      "Stacktrace:\n",
      " [1] top-level scope\n",
      "   @ c:\\Users\\spcox\\Documents\\GitHub\\3-Sunlet\\Sampling.ipynb:2"
     ]
    }
   ],
   "source": [
    "coords_5 = [\"mu_0\", \"mu_1\", \"mu_2\", \"mu_3\", \"mu_4\", \"eta_{10}\", \"eta_{21}\", \"eta_{32}\", \"eta_{43}\", \"eta_{04}\"]\n",
    "HToLatex(H5, coords_5)"
   ]
  },
  {
   "cell_type": "code",
   "execution_count": 69,
   "id": "738ca83c",
   "metadata": {},
   "outputs": [
    {
     "ename": "UndefVarError",
     "evalue": "UndefVarError: s5 not defined",
     "output_type": "error",
     "traceback": [
      "UndefVarError: s5 not defined\n",
      "\n",
      "Stacktrace:\n",
      " [1] top-level scope\n",
      "   @ c:\\Users\\spcox\\Documents\\GitHub\\3-Sunlet\\Sampling.ipynb:1"
     ]
    }
   ],
   "source": [
    "inequalityKeys5 = collect(keys(s5))"
   ]
  },
  {
   "cell_type": "code",
   "execution_count": 70,
   "id": "c75a58c9",
   "metadata": {},
   "outputs": [
    {
     "ename": "UndefVarError",
     "evalue": "UndefVarError: inequalityKeys5 not defined",
     "output_type": "error",
     "traceback": [
      "UndefVarError: inequalityKeys5 not defined\n",
      "\n",
      "Stacktrace:\n",
      " [1] top-level scope\n",
      "   @ c:\\Users\\spcox\\Documents\\GitHub\\3-Sunlet\\Sampling.ipynb:1"
     ]
    }
   ],
   "source": [
    "for i=eachindex(inequalityKeys5)\n",
    "    if ranks[i] == 10\n",
    "        println(inequalityKeys5)\n",
    "    end\n",
    "end"
   ]
  },
  {
   "cell_type": "code",
   "execution_count": 71,
   "id": "6a600423",
   "metadata": {},
   "outputs": [],
   "source": []
  }
 ],
 "metadata": {
  "kernelspec": {
   "display_name": "Julia 1.8.5",
   "language": "julia",
   "name": "julia-1.8"
  },
  "language_info": {
   "file_extension": ".jl",
   "mimetype": "application/julia",
   "name": "julia",
   "version": "1.8.5"
  }
 },
 "nbformat": 4,
 "nbformat_minor": 5
}
