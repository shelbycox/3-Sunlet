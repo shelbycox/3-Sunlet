{
 "cells": [
  {
   "cell_type": "code",
   "execution_count": 6,
   "id": "245f5370",
   "metadata": {},
   "outputs": [
    {
     "data": {
      "text/plain": [
       "testPrinting (generic function with 1 method)"
      ]
     },
     "execution_count": 6,
     "metadata": {},
     "output_type": "execute_result"
    }
   ],
   "source": [
    "function testPrinting(filename)\n",
    "    open(filename, \"w\") do io\n",
    "        println(io, \"Hello\")\n",
    "        println(io, \"\")\n",
    "        println(io, \"world\")\n",
    "    end\n",
    "end"
   ]
  },
  {
   "cell_type": "code",
   "execution_count": 7,
   "id": "025abbd1",
   "metadata": {},
   "outputs": [],
   "source": [
    "testPrinting(\"test_print.txt\")"
   ]
  },
  {
   "cell_type": "code",
   "execution_count": null,
   "id": "b9870cea",
   "metadata": {},
   "outputs": [],
   "source": []
  }
 ],
 "metadata": {
  "kernelspec": {
   "display_name": "Julia 1.8.5",
   "language": "julia",
   "name": "julia-1.8"
  },
  "language_info": {
   "file_extension": ".jl",
   "mimetype": "application/julia",
   "name": "julia",
   "version": "1.8.5"
  }
 },
 "nbformat": 4,
 "nbformat_minor": 5
}
