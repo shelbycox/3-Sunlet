{
 "cells": [
  {
   "cell_type": "code",
   "execution_count": null,
   "id": "73500a27",
   "metadata": {},
   "outputs": [],
   "source": [
    "include(\"Lambda\")"
   ]
  }
 ],
 "metadata": {
  "kernelspec": {
   "display_name": "Julia 1.6.3",
   "language": "julia",
   "name": "julia-1.6"
  }
 },
 "nbformat": 4,
 "nbformat_minor": 5
}
