{
 "cells": [
  {
   "cell_type": "markdown",
   "id": "1aeae5ba",
   "metadata": {},
   "source": [
    "# Random Sampling in a Hyperplane Arrangement Complement\n",
    "\n",
    "### Import Packages"
   ]
  },
  {
   "cell_type": "code",
   "execution_count": 1,
   "id": "a5b9cee3",
   "metadata": {},
   "outputs": [
    {
     "data": {
      "text/plain": [
       "getRank (generic function with 1 method)"
      ]
     },
     "execution_count": 1,
     "metadata": {},
     "output_type": "execute_result"
    }
   ],
   "source": [
    "using LinearAlgebra\n",
    "include(\"lambda_cyclic.jl\")"
   ]
  },
  {
   "cell_type": "markdown",
   "id": "27a81f04",
   "metadata": {},
   "source": [
    "### Generate a random point"
   ]
  },
  {
   "cell_type": "code",
   "execution_count": 2,
   "id": "7a5bbb1e",
   "metadata": {},
   "outputs": [
    {
     "data": {
      "text/plain": [
       "p (generic function with 1 method)"
      ]
     },
     "execution_count": 2,
     "metadata": {},
     "output_type": "execute_result"
    }
   ],
   "source": [
    "p(n) = [rand(Float64)-.5 for j=1:n]"
   ]
  },
  {
   "cell_type": "markdown",
   "id": "7df7fe6c",
   "metadata": {},
   "source": [
    "### Generate the 3-Sunlet hyperplanes"
   ]
  },
  {
   "cell_type": "code",
   "execution_count": 3,
   "id": "92476b9b",
   "metadata": {},
   "outputs": [
    {
     "data": {
      "text/plain": [
       "getH (generic function with 1 method)"
      ]
     },
     "execution_count": 3,
     "metadata": {},
     "output_type": "execute_result"
    }
   ],
   "source": [
    "function getH(k)\n",
    "    H = []\n",
    "    v = zero(rand(2*k))\n",
    "    v[1] = 1\n",
    "    push!(H, v)\n",
    "    \n",
    "    for i=2:k\n",
    "        for j=(k+1):(2*k)\n",
    "            v = zero(rand(2*k))\n",
    "            v[i] = v[j] = 1\n",
    "            push!(H, v)\n",
    "            \n",
    "            w = zero(rand(2*k))\n",
    "            w[i] = 1\n",
    "            w[j] = -1\n",
    "            push!(H, w)\n",
    "        end\n",
    "    end\n",
    "    return H\n",
    "end"
   ]
  },
  {
   "cell_type": "code",
   "execution_count": 4,
   "id": "4eead8a7",
   "metadata": {},
   "outputs": [
    {
     "data": {
      "text/plain": [
       "7-element Vector{Matrix{Int64}}:\n",
       " [1 0 … 0 0]\n",
       " [0 1 … 0 0]\n",
       " [0 1 … -1 0]\n",
       " [0 1 … 0 -1]\n",
       " [0 0 … 0 0]\n",
       " [0 0 … 1 0]\n",
       " [0 0 … 0 1]"
      ]
     },
     "execution_count": 4,
     "metadata": {},
     "output_type": "execute_result"
    }
   ],
   "source": [
    "H3 = [[1 0 0 0 0 0], [0 1 0 -1 0 0], [0 1 0 0 -1 0], [0 1 0 0 0 -1], [0 0 1 1 0 0], [0 0 1 0 1 0], [0 0 1 0 0 1]];\n",
    "H3"
   ]
  },
  {
   "cell_type": "code",
   "execution_count": 5,
   "id": "64e9184e",
   "metadata": {},
   "outputs": [
    {
     "data": {
      "text/plain": [
       "1-element Vector{String}:\n",
       " \"mu_0\""
      ]
     },
     "execution_count": 5,
     "metadata": {},
     "output_type": "execute_result"
    }
   ],
   "source": [
    "coords_3 = [\"mu_0\", \"mu_1\", \"mu_2\", \"eta_{10}\", \"eta_{21}\", \"eta_{02}\"]\n",
    "coords_3[[i for i in eachindex(H3[1]) if H3[1][i] != 0]]"
   ]
  },
  {
   "cell_type": "code",
   "execution_count": 6,
   "id": "a8630f3b",
   "metadata": {},
   "outputs": [
    {
     "name": "stdout",
     "output_type": "stream",
     "text": [
      "$H_1$ & 1 & 0 & 0 & 0 & 0 & 0 & "
     ]
    },
    {
     "ename": "LoadError",
     "evalue": "UndefVarError: coords not defined",
     "output_type": "error",
     "traceback": [
      "UndefVarError: coords not defined",
      "",
      "Stacktrace:",
      " [1] top-level scope",
      "   @ In[6]:8"
     ]
    }
   ],
   "source": [
    "for h in eachindex(H3)\n",
    "    H = H3[h]\n",
    "    print(\"\\$H_\", h, \"\\$ & \")\n",
    "    for j in eachindex(H)\n",
    "        print(H[j], \" & \")\n",
    "    end\n",
    "    vars = [i for i in eachindex(H) if H[i] != 0]\n",
    "    coord = coords[vars]\n",
    "    coeff = H[vars]\n",
    "    print(\"\\$\")\n",
    "    for v in eachindex(vars)\n",
    "        if v != length(vars)\n",
    "            if coeff[v+1] > 0\n",
    "                print(\"\\\\\", coord[v], \" + \")\n",
    "            else\n",
    "                print(\"\\\\\", coord[v], \" - \")\n",
    "            end\n",
    "        else\n",
    "            print(\"\\\\\", coord[v], \" = 0\\$ \\\\\")\n",
    "        end\n",
    "    end\n",
    "    println()\n",
    "end"
   ]
  },
  {
   "cell_type": "code",
   "execution_count": 7,
   "id": "4951b489",
   "metadata": {},
   "outputs": [
    {
     "data": {
      "text/plain": [
       "8-element Vector{String}:\n",
       " \"mu_0\"\n",
       " \"mu_1\"\n",
       " \"mu_2\"\n",
       " \"mu_3\"\n",
       " \"eta_{10}\"\n",
       " \"eta_{21}\"\n",
       " \"eta_{32}\"\n",
       " \"eta_{03}\""
      ]
     },
     "execution_count": 7,
     "metadata": {},
     "output_type": "execute_result"
    }
   ],
   "source": [
    "coords_4 = [\"mu_0\", \"mu_1\", \"mu_2\", \"mu_3\", \"eta_{10}\", \"eta_{21}\", \"eta_{32}\", \"eta_{03}\"]"
   ]
  },
  {
   "cell_type": "code",
   "execution_count": 8,
   "id": "a5d9ef39",
   "metadata": {},
   "outputs": [
    {
     "name": "stdout",
     "output_type": "stream",
     "text": [
      "$H_1$ & 1 & 0 & 0 & 0 & 0 & 0 & "
     ]
    },
    {
     "ename": "LoadError",
     "evalue": "UndefVarError: coords not defined",
     "output_type": "error",
     "traceback": [
      "UndefVarError: coords not defined",
      "",
      "Stacktrace:",
      " [1] top-level scope",
      "   @ In[8]:8"
     ]
    }
   ],
   "source": [
    "for h in eachindex(H3)\n",
    "    H = H3[h]\n",
    "    print(\"\\$H_\", h, \"\\$ & \")\n",
    "    for j in eachindex(H)\n",
    "        print(H[j], \" & \")\n",
    "    end\n",
    "    vars = [i for i in eachindex(H) if H[i] != 0]\n",
    "    coord = coords[vars]\n",
    "    coeff = H[vars]\n",
    "    print(\"\\$\")\n",
    "    for v in eachindex(vars)\n",
    "        if v != length(vars)\n",
    "            if coeff[v+1] > 0\n",
    "                print(\"\\\\\", coord[v], \" + \")\n",
    "            else\n",
    "                print(\"\\\\\", coord[v], \" - \")\n",
    "            end\n",
    "        else\n",
    "            print(\"\\\\\", coord[v], \" = 0\\$ \\\\\")\n",
    "        end\n",
    "    end\n",
    "    println()\n",
    "end"
   ]
  },
  {
   "cell_type": "code",
   "execution_count": 28,
   "id": "f63729e6",
   "metadata": {},
   "outputs": [
    {
     "data": {
      "text/plain": [
       "HToLatex (generic function with 1 method)"
      ]
     },
     "execution_count": 28,
     "metadata": {},
     "output_type": "execute_result"
    }
   ],
   "source": [
    "function HToLatex(Hs, coords)\n",
    "    for h in eachindex(Hs)\n",
    "        H = Hs[h]\n",
    "        print(\"\\$H_\", h, \"\\$ & \")\n",
    "        for j in eachindex(H)\n",
    "            print(H[j], \" & \")\n",
    "        end\n",
    "        \n",
    "        vars = [i for i in eachindex(H) if H[i] != 0]\n",
    "        coord = coords[vars]\n",
    "        coeff = H[vars]\n",
    "        print(\"\\$\")\n",
    "        for v in eachindex(vars)\n",
    "            if v != length(vars)\n",
    "                if coeff[v+1] > 0\n",
    "                     print(\"\\\\\", coord[v], \" + \")\n",
    "                else\n",
    "                    print(\"\\\\\", coord[v], \" - \")\n",
    "                end\n",
    "            else\n",
    "                print(\"\\\\\", coord[v], \" = 0\\$ \\\\\")\n",
    "            end\n",
    "        end\n",
    "        println()\n",
    "    end\n",
    "end"
   ]
  },
  {
   "cell_type": "code",
   "execution_count": 10,
   "id": "3420689a",
   "metadata": {},
   "outputs": [
    {
     "ename": "LoadError",
     "evalue": "UndefVarError: H4 not defined",
     "output_type": "error",
     "traceback": [
      "UndefVarError: H4 not defined",
      "",
      "Stacktrace:",
      " [1] top-level scope",
      "   @ In[10]:1"
     ]
    }
   ],
   "source": [
    "HToLatex(H4, coords_4)"
   ]
  },
  {
   "cell_type": "code",
   "execution_count": 11,
   "id": "5063ed8c",
   "metadata": {},
   "outputs": [
    {
     "data": {
      "text/plain": [
       "generateSunletArr (generic function with 1 method)"
      ]
     },
     "execution_count": 11,
     "metadata": {},
     "output_type": "execute_result"
    }
   ],
   "source": [
    "function generateSunletArr(groupStructure)\n",
    "    groupSize = prod(groupStructure)\n",
    "    validTriples = getValidGroupTriples(groupStructure)\n",
    "    groupElements = vec(getGroupElements(groupStructure))\n",
    "    numFactors = length(groupStructure)\n",
    "    \n",
    "    H = []\n",
    "    \n",
    "    mu0 = zeros(Int, 2*groupSize)\n",
    "    mu0[1] = Int(1)\n",
    "    push!(H, mu0)\n",
    "    \n",
    "    for G in validTriples\n",
    "        if G[1] != zeros(Int, numFactors)\n",
    "            ## get the mu index\n",
    "            muIndex = findfirst(x -> x == G[1], groupElements)\n",
    "            etaIndex = [findfirst(x -> x == ((G[1] .+ G[2]) .% groupStructure), groupElements), findfirst(x -> x == G[2], groupElements)]\n",
    "            \n",
    "            ## also need to determine the sign of eta\n",
    "            ## +1 if g_1 + g_2 index is higher than g_2 index, -1 otherwise\n",
    "            etaSign = Int((Int(etaIndex[1] > etaIndex[2])-.5)*2)\n",
    "            \n",
    "            ## convert eta index if necessary\n",
    "            if Set(etaIndex) == Set([1, groupSize])\n",
    "                etaIndex = groupSize\n",
    "                etaSign = -etaSign\n",
    "            elseif abs(etaIndex[1] - etaIndex[2]) > 1\n",
    "                newEtaIndex = [i for i=(minimum(etaIndex)+1):maximum(etaIndex)]\n",
    "                etaIndex = newEtaIndex\n",
    "            else\n",
    "                etaIndex = maximum(etaIndex)-1\n",
    "            end\n",
    "            \n",
    "            ##                        1  2  3  4  5       n\n",
    "            ## eta coordinate order: 10 21 32 43 54 ... 0(n-1)\n",
    "            newHyperplane = [Int(i-groupSize in etaIndex)*etaSign for i=1:2*groupSize]\n",
    "            newHyperplane[muIndex] = 1\n",
    "            push!(H, newHyperplane)\n",
    "        end\n",
    "    end\n",
    "    return H\n",
    "end"
   ]
  },
  {
   "cell_type": "code",
   "execution_count": 12,
   "id": "3cdbe016",
   "metadata": {},
   "outputs": [
    {
     "data": {
      "text/plain": [
       "21-element Vector{Any}:\n",
       " [0, 0, 0, 0, 1, -1, 0, 0, 0, 0]\n",
       " [0, 0, 0, 0, 1, 0, -1, 0, 0, 0]\n",
       " [0, 0, 0, 0, 1, 0, 0, -1, 0, 0]\n",
       " [0, 0, 0, 0, 1, 0, 0, 0, -1, 0]\n",
       " [0, 0, 0, 0, 1, 0, 0, 0, 0, -1]\n",
       " [0, 0, 0, 1, 0, 0, -1, -1, 0, 0]\n",
       " [0, 0, 0, 1, 0, 0, 0, -1, -1, 0]\n",
       " [0, 0, 0, 1, 0, 0, 0, 0, -1, -1]\n",
       " [0, 0, 0, 1, 0, 0, 0, 1, 1, 1]\n",
       " [0, 0, 0, 1, 0, 0, 1, 1, 1, 0]\n",
       " [0, 0, 1, 0, 0, 0, -1, -1, -1, 0]\n",
       " [0, 0, 1, 0, 0, 0, 0, -1, -1, -1]\n",
       " [0, 0, 1, 0, 0, 0, 0, 0, 1, 1]\n",
       " [0, 0, 1, 0, 0, 0, 0, 1, 1, 0]\n",
       " [0, 0, 1, 0, 0, 0, 1, 1, 0, 0]\n",
       " [0, 1, 0, 0, 0, 0, 0, 0, 0, 1]\n",
       " [0, 1, 0, 0, 0, 0, 0, 0, 1, 0]\n",
       " [0, 1, 0, 0, 0, 0, 0, 1, 0, 0]\n",
       " [0, 1, 0, 0, 0, 0, 1, 0, 0, 0]\n",
       " [0, 1, 0, 0, 0, 1, 0, 0, 0, 0]\n",
       " [1, 0, 0, 0, 0, 0, 0, 0, 0, 0]"
      ]
     },
     "execution_count": 12,
     "metadata": {},
     "output_type": "execute_result"
    }
   ],
   "source": [
    "H5 = generateSunletArr([5])\n",
    "sort(H5)"
   ]
  },
  {
   "cell_type": "markdown",
   "id": "5ec77cec",
   "metadata": {},
   "source": [
    "### Inequality vector"
   ]
  },
  {
   "cell_type": "code",
   "execution_count": 13,
   "id": "7a293df4",
   "metadata": {},
   "outputs": [
    {
     "data": {
      "text/plain": [
       "ineq (generic function with 1 method)"
      ]
     },
     "execution_count": 13,
     "metadata": {},
     "output_type": "execute_result"
    }
   ],
   "source": [
    "ineq(v, H) = [LinearAlgebra.dot(v, h) > 0 for h in H]"
   ]
  },
  {
   "cell_type": "code",
   "execution_count": 14,
   "id": "d0cc6f75",
   "metadata": {},
   "outputs": [
    {
     "data": {
      "text/plain": [
       "neighbors (generic function with 1 method)"
      ]
     },
     "execution_count": 14,
     "metadata": {},
     "output_type": "execute_result"
    }
   ],
   "source": [
    "neighbors(I, J) = (sum(I .⊻ J) == 1)"
   ]
  },
  {
   "cell_type": "markdown",
   "id": "484452af",
   "metadata": {},
   "source": [
    "### Sampling Algorithm"
   ]
  },
  {
   "cell_type": "code",
   "execution_count": 15,
   "id": "ad16d9ee",
   "metadata": {},
   "outputs": [
    {
     "data": {
      "text/plain": [
       "sample"
      ]
     },
     "execution_count": 15,
     "metadata": {},
     "output_type": "execute_result"
    }
   ],
   "source": [
    "\"\"\"\n",
    "H is the hyperplane arrangement\n",
    "N is the number of samples to take\n",
    "groupStructure is a list of factors for the finite abelian group\n",
    "\"\"\"\n",
    "function sample(groupSize::Int, H, N::Int)\n",
    "    sample = Dict()\n",
    "    for i=1:N\n",
    "        v = p(2*groupSize)\n",
    "        v[end] = -sum(v[(groupSize+1):(end-1)]) ## making sure the condition on the sum of the lambda holds\n",
    "        sample[ineq(v, H)] = v\n",
    "    end\n",
    "    return sample\n",
    "end"
   ]
  },
  {
   "cell_type": "markdown",
   "id": "47061da0",
   "metadata": {},
   "source": [
    "## Example $n = 3$"
   ]
  },
  {
   "cell_type": "code",
   "execution_count": 17,
   "id": "9a0439ee",
   "metadata": {},
   "outputs": [
    {
     "name": "stdout",
     "output_type": "stream",
     "text": [
      "  0.479135 seconds (3.15 M allocations: 256.006 MiB, 9.36% gc time)\n",
      "92\n",
      "R=Set([7, 9, 8])\n"
     ]
    },
    {
     "data": {
      "text/plain": [
       "3-element Vector{Int64}:\n",
       "  4\n",
       " 64\n",
       " 24"
      ]
     },
     "execution_count": 17,
     "metadata": {},
     "output_type": "execute_result"
    }
   ],
   "source": [
    "n = 3\n",
    "@time s3 = sample(3, H3, 2^20); ## get the sample points (< 2 seconds usually)\n",
    "println(length(s3))\n",
    "ranks = [getRank(s, n) for s in collect(values(s3))]; ## get the rank for each sample point\n",
    "R = Set(ranks)\n",
    "println(\"R=\", R)\n",
    "counts = [sum([r==k for r in ranks]) for k in R]; ## tabulate the ranks\n",
    "priors = [c/sum(counts) for c in counts]; ## compute priors (% of samples with given rank)\n",
    "counts"
   ]
  },
  {
   "cell_type": "markdown",
   "id": "0d9bcb76",
   "metadata": {},
   "source": [
    "## checking if $\\mu_0$ does anything..."
   ]
  },
  {
   "cell_type": "code",
   "execution_count": 46,
   "id": "49be7f14",
   "metadata": {},
   "outputs": [
    {
     "name": "stdout",
     "output_type": "stream",
     "text": [
      "00000000000000000000000000000000000000000000000000000000000000000000000000000000000000000000"
     ]
    }
   ],
   "source": [
    "inequalityKeys = collect(keys(s3))\n",
    "for I in inequalityKeys\n",
    "    for J in inequalityKeys\n",
    "#         println(I .⊻ J)\n",
    "        if I .⊻ J == [Bool(1), Bool(0), Bool(0), Bool(0), Bool(0), Bool(0), Bool(0)]\n",
    "            print(getRank(s3[I], [3]) - getRank(s3[J], [3]))\n",
    "        end\n",
    "    end\n",
    "end"
   ]
  },
  {
   "cell_type": "code",
   "execution_count": 44,
   "id": "e89d0bf5",
   "metadata": {},
   "outputs": [
    {
     "name": "stdout",
     "output_type": "stream",
     "text": [
      "Bool[1, 0, 0, 0, 0, 0]"
     ]
    }
   ],
   "source": [
    "print([Bool(1), Bool(0), Bool(0), Bool(0), Bool(0), Bool(0)])"
   ]
  },
  {
   "cell_type": "markdown",
   "id": "4ae13198",
   "metadata": {},
   "source": [
    "### Test Neighbors"
   ]
  },
  {
   "cell_type": "code",
   "execution_count": 15,
   "id": "a3958755",
   "metadata": {},
   "outputs": [
    {
     "name": "stdout",
     "output_type": "stream",
     "text": [
      "10010001011111011110111100000101101111000000000000001101111110110000000000000011110110100000111101111101111010010100110111101001000100011001101001011000100010000000110001111011111100000000011001111101011000110011000011001111101000000000000000010101111110010100101001010111100000000111110101000000001111100010110100011111101111010010010111011100000001001001111100000000111110010110100101000111110010100000000000000110111100011110000001100011111101100000000001110111111101111000000000011000110001010000011001101100010010111011"
     ]
    }
   ],
   "source": [
    "for I in collect(keys(s3))\n",
    "    s = s3[I]\n",
    "    curr_rank = getRank(s, n)\n",
    "    for J in collect(keys(s3))\n",
    "        if neighbors(I, J)\n",
    "            neighbor = s3[J]\n",
    "            n_rank = getRank(neighbor, n)\n",
    "            print(abs(curr_rank - n_rank))\n",
    "        end\n",
    "    end\n",
    "end"
   ]
  },
  {
   "cell_type": "markdown",
   "id": "8110e81e",
   "metadata": {},
   "source": [
    "### Parochial Chambers"
   ]
  },
  {
   "cell_type": "code",
   "execution_count": 16,
   "id": "91824154",
   "metadata": {},
   "outputs": [
    {
     "name": "stdout",
     "output_type": "stream",
     "text": [
      "77\n"
     ]
    },
    {
     "ename": "LoadError",
     "evalue": "UndefVarError: parochial not defined",
     "output_type": "error",
     "traceback": [
      "UndefVarError: parochial not defined",
      "",
      "Stacktrace:",
      " [1] top-level scope",
      "   @ In[16]:6"
     ]
    }
   ],
   "source": [
    "p1 = s3[[1, 1, 1, 1, 1, 1, 1]];\n",
    "p2 = s3[[0, 0, 0, 0, 0, 0, 0]];\n",
    "r1 = getRank(p1, n);\n",
    "r2 = getRank(p2, n);\n",
    "println(r1, r2)\n",
    "parochial(s3, 7)\n",
    "# keys(s3)"
   ]
  },
  {
   "cell_type": "code",
   "execution_count": 17,
   "id": "f59a9e86",
   "metadata": {},
   "outputs": [
    {
     "data": {
      "text/plain": [
       "parochial (generic function with 1 method)"
      ]
     },
     "execution_count": 17,
     "metadata": {},
     "output_type": "execute_result"
    }
   ],
   "source": [
    "function parochial(S, k)\n",
    "    p0 = S[zeros(Bool, k)]\n",
    "    p1 = S[ones(Bool, k)]\n",
    "    r0 = getRank(p0, n)\n",
    "    r1 = getRank(p1, n)\n",
    "    print(r0, ' ', r1)\n",
    "end"
   ]
  },
  {
   "cell_type": "code",
   "execution_count": 18,
   "id": "8b65ab9e",
   "metadata": {},
   "outputs": [
    {
     "data": {
      "text/plain": [
       "8"
      ]
     },
     "execution_count": 18,
     "metadata": {},
     "output_type": "execute_result"
    }
   ],
   "source": [
    "p_avg = (p1 .+ p2)./2; ## average the sample representing parochial chambers\n",
    "r_avg = getRank(p_avg, n) ## the average happens to have full rank"
   ]
  },
  {
   "cell_type": "markdown",
   "id": "7acc5231",
   "metadata": {},
   "source": [
    "### Low Rank Chambers"
   ]
  },
  {
   "cell_type": "code",
   "execution_count": 19,
   "id": "153d1ad4",
   "metadata": {},
   "outputs": [
    {
     "data": {
      "text/plain": [
       "4"
      ]
     },
     "execution_count": 19,
     "metadata": {},
     "output_type": "execute_result"
    }
   ],
   "source": [
    "low_rank = []\n",
    "s3_keys = collect(keys(s3))\n",
    "for s in eachindex(s3_keys)\n",
    "    if ranks[s] == 7\n",
    "        push!(low_rank, s)\n",
    "    end\n",
    "end\n",
    "length(low_rank)"
   ]
  },
  {
   "cell_type": "code",
   "execution_count": 20,
   "id": "a5fc647b",
   "metadata": {},
   "outputs": [
    {
     "data": {
      "text/plain": [
       "4-element Vector{Any}:\n",
       " Bool[1, 1, 1, 1, 1, 1, 1]\n",
       " Bool[1, 0, 0, 0, 0, 0, 0]\n",
       " Bool[0, 1, 1, 1, 1, 1, 1]\n",
       " Bool[0, 0, 0, 0, 0, 0, 0]"
      ]
     },
     "execution_count": 20,
     "metadata": {},
     "output_type": "execute_result"
    }
   ],
   "source": [
    "## two of the chambers are parochial\n",
    "s3_keys[low_rank]"
   ]
  },
  {
   "cell_type": "markdown",
   "id": "2512c7db",
   "metadata": {},
   "source": [
    "### Testing to_lambda function"
   ]
  },
  {
   "cell_type": "code",
   "execution_count": 21,
   "id": "ab749e5c",
   "metadata": {},
   "outputs": [
    {
     "data": {
      "text/plain": [
       "7-element Vector{Bool}:\n",
       " 0\n",
       " 0\n",
       " 0\n",
       " 1\n",
       " 1\n",
       " 1\n",
       " 1"
      ]
     },
     "execution_count": 21,
     "metadata": {},
     "output_type": "execute_result"
    }
   ],
   "source": [
    "s0 = collect(values(s3))[1];\n",
    "ineq(s0, H3)"
   ]
  },
  {
   "cell_type": "code",
   "execution_count": 22,
   "id": "9a1c44c3",
   "metadata": {},
   "outputs": [
    {
     "ename": "LoadError",
     "evalue": "UndefVarError: m1 not defined",
     "output_type": "error",
     "traceback": [
      "UndefVarError: m1 not defined",
      "",
      "Stacktrace:",
      " [1] top-level scope",
      "   @ .\\In[22]:3"
     ]
    }
   ],
   "source": [
    "G = [[0, 2, 1], [1, 1, 1], [1, 0, 2], [1, 2, 0], [2, 2, 2], [2, 1, 0], [2, 0, 1]]\n",
    "for g in G\n",
    "    print(computeLambda(g, m1, to_lambda(s0[1:3], s0[4:6], 3), 3), ' ')\n",
    "    println(computeLambda(g, m2, to_lambda(s0[1:3], s0[4:6], 3), 3))\n",
    "end"
   ]
  },
  {
   "cell_type": "code",
   "execution_count": 23,
   "id": "80dbe4bf",
   "metadata": {},
   "outputs": [
    {
     "data": {
      "text/plain": [
       "6-element Vector{Float64}:\n",
       " -0.37278034640847113\n",
       " -0.193400337932362\n",
       "  0.38174121635480174\n",
       " -0.13205504763953946\n",
       "  0.42126038943258004\n",
       " -0.2892053417930406"
      ]
     },
     "execution_count": 23,
     "metadata": {},
     "output_type": "execute_result"
    }
   ],
   "source": [
    "s0"
   ]
  },
  {
   "cell_type": "markdown",
   "id": "2f26351c",
   "metadata": {},
   "source": [
    "## Example $n = 4$"
   ]
  },
  {
   "cell_type": "markdown",
   "id": "c0c321b3",
   "metadata": {},
   "source": [
    "### Generate the Hyperplanes"
   ]
  },
  {
   "cell_type": "code",
   "execution_count": 49,
   "id": "0c961fd7",
   "metadata": {},
   "outputs": [
    {
     "data": {
      "text/plain": [
       "13-element Vector{Matrix{Int64}}:\n",
       " [1 0 … 0 0]\n",
       " [0 0 … -1 0]\n",
       " [0 0 … 0 0]\n",
       " [0 0 … 1 0]\n",
       " [0 0 … 0 0]\n",
       " [0 1 … -1 0]\n",
       " [0 1 … 0 0]\n",
       " [0 1 … 0 0]\n",
       " [0 1 … 0 -1]\n",
       " [0 0 … 0 1]\n",
       " [0 0 … 1 0]\n",
       " [0 0 … 0 0]\n",
       " [0 0 … 0 0]"
      ]
     },
     "execution_count": 49,
     "metadata": {},
     "output_type": "execute_result"
    }
   ],
   "source": [
    "## mu 0 1 2 3 eta 10 21 32 03\n",
    "H4 = [[1 0 0 0 0 0 0 0], [0 0 1 0 0 -1 -1 0], [0 0 1 0 -1 -1 0 0], [0 0 1 0 0 1 1 0], [0 0 1 0 1 1 0 0], [0 1 0 0 0 0 -1 0], [0 1 0 0 0 -1 0 0], [0 1 0 0 -1 0 0 0], [0 1 0 0 0 0 0 -1], [0 0 0 1 0 0 0 1], [0 0 0 1 0 0 1 0], [0 0 0 1 0 1 0 0], [0 0 0 1 1 0 0 0]]"
   ]
  },
  {
   "cell_type": "markdown",
   "id": "87fc300b",
   "metadata": {},
   "source": [
    "### Generate Sample Points"
   ]
  },
  {
   "cell_type": "code",
   "execution_count": 25,
   "id": "39ab8365",
   "metadata": {},
   "outputs": [],
   "source": [
    "## 2328"
   ]
  },
  {
   "cell_type": "code",
   "execution_count": 47,
   "id": "97048d12",
   "metadata": {},
   "outputs": [
    {
     "data": {
      "text/plain": [
       "sample_info (generic function with 1 method)"
      ]
     },
     "execution_count": 47,
     "metadata": {},
     "output_type": "execute_result"
    }
   ],
   "source": [
    "function sample_info(n, H, N)\n",
    "    @time S = sample(n, H, N)\n",
    "    println(length(S))\n",
    "    ranks = [getRank(s, n) for s in collect(values(S))];\n",
    "    R = sort(collect(Set(ranks)))\n",
    "    println(\"R=\", R)\n",
    "    counts = [sum([r==k for r in ranks]) for k in R]; ## tabulate the ranks\n",
    "    println(counts)\n",
    "    priors = [100*c/sum(counts) for c in counts]; ## compute priors (% of samples with given rank)\n",
    "    println(priors)\n",
    "    return S\n",
    "end"
   ]
  },
  {
   "cell_type": "code",
   "execution_count": 50,
   "id": "a5e4e060",
   "metadata": {},
   "outputs": [
    {
     "name": "stdout",
     "output_type": "stream",
     "text": [
      "  1.113067 seconds (3.15 M allocations: 272.111 MiB, 8.59% gc time)\n",
      "2328\n",
      "R=[10, 11, 12, 13, 14, 15, 16]\n",
      "[4, 48, 180, 496, 864, 624, 112]\n",
      "[0.1718213058419244, 2.0618556701030926, 7.731958762886598, 21.305841924398624, 37.11340206185567, 26.804123711340207, 4.810996563573883]\n"
     ]
    }
   ],
   "source": [
    "s4 = sample_info(4, H4, 2^20);"
   ]
  },
  {
   "cell_type": "code",
   "execution_count": 52,
   "id": "cb41c1b4",
   "metadata": {},
   "outputs": [
    {
     "name": "stdout",
     "output_type": "stream",
     "text": [
      "00-10000-100000000001010-10001010-10000000000-2100-10000000201-1000-100-1-111000000010000-110000-100000000010000010-1-1100100-2-2000000000100000-100-100100-10020000-1200-110000000000-10-1000-10010000000011-20000-100010-1-10-10010001100-1000000101000000000100-200000-1001-10-10000000010100001000-10-100010000000-11011010000-100010000020010000010-200010000000-1000-1000-1000000002-1200000000000-10000000000000000-10000000-1000-1100000000000000-101000-10-1000-111000000000100-10000000100001000-1000000100-101-102000-102000-10000-1-100010-10101-1000000000001000000000000010000100001-10000-102000-1110100-1000111-1-1-100-1000010000-100000-100100-1-10200010000-10000000-121000-10001000010-1000100100-101-10-10-1000-11100-100000-10100000000-2-100-10-1-1000000000000001000000-1000-20-200000000000110000-1-1000000010-10000-100010-12000000-11000001-10-1100000010000100-1100000000000-1000-10100000010-10-1000001000001-100000-2000010-1010200-10101000-1-10000000-10000000000000000000100-1-1000000201000101-10-101000100-1001-110000000000010000001-11010101000-1000000000000-1-2000000000010100-100-1000-2000-10000010000010-10-11000001-1000000-100010-11111000000-200000000-1000101000000-10000000001-1000010110-1010010-1000010000010-2100000100-110000010000-1000000000-100001-1000010000001000000-1-1010000000000-1000-10000000001000-200000-1002010100000000000100000-10100000-1000000000-2000-1-1000-10000-10000010-100-1200000000000-1-1102-10-1000-11000002000-1100000000000-10-1010000201000120000000000000000001-100010-10000001000-10100000010200-1001000-10000000010-100000-11000000-1000010000-20-100000000-10-1-100010-10010-1020000000000-10000000-1000000-110-10000000-1000-1101000010000-10-100101000001000010-1000000100001-20-100000-1-10000-10-100000000101-1000-10000000001-1000000010000000000-110001-2000-10000-10101-10000-2000001100-2-10100000000000100100000-20-10000-10-100000000000-10000200-100-1010000000000000-10000-100001000000000000-1010000000-10-100000-20-10-10000020010000-1000-1010000100-10-210-100000002010010000001000-100-1000-1000-100-101000-1000-10001100-100110100-1-100000-10000-1-1001-1000-1010-100100010001010110101001000000-100010000-20000100-1100000100000000-1001100000-1000011000-20110000010001000000000-100-2000000100000000-100000000100001001000-10100-10110-20000010000-121-1000000-200110001001000000-100000000-10000101000-1000000101000200-1100000-11000120000100000-1000001000000-2-101-2000001-2010010-11000000011001010000001000-1000-1-10000000100-110000000101000-10-1000-10-10-100-10-100000-1-1-10000-10010010000000200-100000000-10000-1000-100000-101-10000010000-1000200-1-100-1-102000-1000000000011020000-10000001000000000"
     ]
    }
   ],
   "source": [
    "inequalityKeys = collect(keys(s4))\n",
    "for I in inequalityKeys\n",
    "    for J in inequalityKeys\n",
    "#         println(I .⊻ J)\n",
    "        if I .⊻ J == [Bool(1), Bool(0), Bool(0), Bool(0), Bool(0), Bool(0), Bool(0), Bool(0), Bool(0), Bool(0), Bool(0), Bool(0), Bool(0)]\n",
    "            print(getRank(s4[I], [3]) - getRank(s4[J], [3]))\n",
    "        end\n",
    "    end\n",
    "end"
   ]
  },
  {
   "cell_type": "markdown",
   "id": "37e6bf51",
   "metadata": {},
   "source": [
    "### Check Neighbors"
   ]
  },
  {
   "cell_type": "code",
   "execution_count": 24,
   "id": "0731f92a",
   "metadata": {},
   "outputs": [
    {
     "data": {
      "text/plain": [
       "check_neighbors (generic function with 1 method)"
      ]
     },
     "execution_count": 24,
     "metadata": {},
     "output_type": "execute_result"
    }
   ],
   "source": [
    "function check_neighbors(S, groupStructure)\n",
    "    for I in collect(keys(S))\n",
    "        s = S[I]\n",
    "        curr_rank = getRank(s, groupStructure)\n",
    "        for J in collect(keys(S))\n",
    "            if neighbors(I, J)\n",
    "                neighbor = S[J]\n",
    "                n_rank = getRank(neighbor, groupStructure)\n",
    "                diff = abs(curr_rank - n_rank)\n",
    "                if diff > 1\n",
    "                    print(diff)\n",
    "                end\n",
    "            end\n",
    "        end\n",
    "    end\n",
    "end"
   ]
  },
  {
   "cell_type": "code",
   "execution_count": 29,
   "id": "bfb1229b",
   "metadata": {},
   "outputs": [],
   "source": [
    "check_neighbors(s4, 4)"
   ]
  },
  {
   "cell_type": "markdown",
   "id": "32c9c361",
   "metadata": {},
   "source": [
    "### Check Parochial Chambers"
   ]
  },
  {
   "cell_type": "code",
   "execution_count": 30,
   "id": "f81757b4",
   "metadata": {},
   "outputs": [
    {
     "name": "stdout",
     "output_type": "stream",
     "text": [
      "10 10"
     ]
    }
   ],
   "source": [
    "p0 = s4[[0, 0, 0, 0, 0, 0, 0, 0, 0, 0, 0, 0, 0]];\n",
    "p1 = s4[[1, 1, 1, 1, 1, 1, 1, 1, 1, 1, 1, 1, 1]];\n",
    "r0 = getRank(p0, 4)\n",
    "r1 = getRank(p1, 4)\n",
    "print(r0, ' ', r1)"
   ]
  },
  {
   "cell_type": "markdown",
   "id": "5baa3f61",
   "metadata": {},
   "source": [
    "### Low Rank Chambers"
   ]
  },
  {
   "cell_type": "code",
   "execution_count": 31,
   "id": "ad414a0a",
   "metadata": {},
   "outputs": [
    {
     "data": {
      "text/plain": [
       "4"
      ]
     },
     "execution_count": 31,
     "metadata": {},
     "output_type": "execute_result"
    }
   ],
   "source": [
    "low_rank_4 = []\n",
    "for s in collect(keys(s4))\n",
    "    if getRank(s4[s], 4) == 10\n",
    "        push!(low_rank_4, s)\n",
    "    end\n",
    "end\n",
    "length(low_rank)"
   ]
  },
  {
   "cell_type": "code",
   "execution_count": 32,
   "id": "f585fc4a",
   "metadata": {},
   "outputs": [
    {
     "data": {
      "text/plain": [
       "4-element Vector{Any}:\n",
       " Bool[0, 0, 0, 0, 0, 0, 0, 0, 0, 0, 0, 0, 0]\n",
       " Bool[1, 0, 0, 0, 0, 0, 0, 0, 0, 0, 0, 0, 0]\n",
       " Bool[0, 1, 1, 1, 1, 1, 1, 1, 1, 1, 1, 1, 1]\n",
       " Bool[1, 1, 1, 1, 1, 1, 1, 1, 1, 1, 1, 1, 1]"
      ]
     },
     "execution_count": 32,
     "metadata": {},
     "output_type": "execute_result"
    }
   ],
   "source": [
    "low_rank_4"
   ]
  },
  {
   "cell_type": "markdown",
   "id": "54666d0e",
   "metadata": {},
   "source": [
    "### Dictionary of ranks => inequalities"
   ]
  },
  {
   "cell_type": "code",
   "execution_count": 33,
   "id": "e9c78376",
   "metadata": {},
   "outputs": [
    {
     "data": {
      "text/plain": [
       "Dict{Int64, Vector{Vector{Bool}}} with 3 entries:\n",
       "  7 => [[1, 1, 1, 1, 1, 1, 1], [1, 0, 0, 0, 0, 0, 0], [0, 1, 1, 1, 1, 1, 1], [0…\n",
       "  9 => [[0, 0, 0, 1, 1, 1, 1], [1, 1, 0, 1, 0, 0, 0], [0, 1, 1, 0, 1, 0, 1], [1…\n",
       "  8 => [[1, 0, 1, 0, 0, 0, 0], [0, 0, 0, 0, 1, 0, 0], [1, 1, 1, 1, 1, 0, 1], [1…"
      ]
     },
     "execution_count": 33,
     "metadata": {},
     "output_type": "execute_result"
    }
   ],
   "source": [
    "rdict_3 = Dict([r => [s3_keys[s] for s in eachindex(collect(keys(s3))) if ranks[s] == r] for r in R])"
   ]
  },
  {
   "cell_type": "code",
   "execution_count": 34,
   "id": "37278f38",
   "metadata": {},
   "outputs": [
    {
     "data": {
      "text/plain": [
       "64"
      ]
     },
     "execution_count": 34,
     "metadata": {},
     "output_type": "execute_result"
    }
   ],
   "source": [
    "length(rdict_3[9])"
   ]
  },
  {
   "cell_type": "code",
   "execution_count": 35,
   "id": "cd321831",
   "metadata": {},
   "outputs": [
    {
     "data": {
      "text/plain": [
       "rankToIDict (generic function with 1 method)"
      ]
     },
     "execution_count": 35,
     "metadata": {},
     "output_type": "execute_result"
    }
   ],
   "source": [
    "function rankToIDict(S, R)\n",
    "    rToI = Dict()\n",
    "    K = collect(keys(S))\n",
    "    for r in Set(R)\n",
    "        rToI[r] = [K[s] for s in eachindex(K) if R[s] == r]\n",
    "    end\n",
    "    return rToI\n",
    "end"
   ]
  },
  {
   "cell_type": "code",
   "execution_count": 36,
   "id": "ecc0188a",
   "metadata": {},
   "outputs": [
    {
     "data": {
      "text/plain": [
       "Dict{Any, Any} with 7 entries:\n",
       "  13 => Vector{Bool}[[0, 0, 1, 0, 0, 0, 1, 0, 1, 0, 0, 0, 0], [1, 1, 1, 1, 1, 1…\n",
       "  16 => Vector{Bool}[[1, 0, 0, 1, 0, 0, 0, 1, 1, 1, 1, 1, 0], [0, 0, 1, 1, 0, 0…\n",
       "  15 => Vector{Bool}[[1, 1, 1, 0, 0, 0, 1, 1, 0, 1, 1, 1, 0], [0, 0, 1, 1, 0, 0…\n",
       "  11 => Vector{Bool}[[1, 1, 1, 1, 1, 1, 1, 1, 1, 1, 1, 1, 0], [0, 0, 0, 0, 0, 0…\n",
       "  10 => Vector{Bool}[[0, 0, 0, 0, 0, 0, 0, 0, 0, 0, 0, 0, 0], [1, 0, 0, 0, 0, 0…\n",
       "  12 => Vector{Bool}[[0, 0, 1, 0, 0, 0, 0, 0, 0, 0, 1, 0, 0], [1, 1, 1, 1, 1, 1…\n",
       "  14 => Vector{Bool}[[1, 1, 0, 1, 1, 1, 0, 1, 0, 0, 0, 0, 0], [1, 1, 1, 0, 0, 0…"
      ]
     },
     "execution_count": 36,
     "metadata": {},
     "output_type": "execute_result"
    }
   ],
   "source": [
    "rdict_4 = rankToIDict(s4, [getRank(s, 4) for s in collect(values(s4))])"
   ]
  },
  {
   "cell_type": "code",
   "execution_count": 80,
   "id": "528ef114",
   "metadata": {},
   "outputs": [
    {
     "name": "stdout",
     "output_type": "stream",
     "text": [
      "496\n",
      "112\n",
      "624\n",
      "48\n",
      "4\n",
      "180\n",
      "864\n"
     ]
    }
   ],
   "source": [
    "for r in collect(keys(rdict_4))\n",
    "    println(length(rdict_4[r]))\n",
    "end"
   ]
  },
  {
   "cell_type": "code",
   "execution_count": 81,
   "id": "e5924f24",
   "metadata": {},
   "outputs": [
    {
     "data": {
      "text/plain": [
       "printRanks (generic function with 1 method)"
      ]
     },
     "execution_count": 81,
     "metadata": {},
     "output_type": "execute_result"
    }
   ],
   "source": [
    "function printRanks(RI)\n",
    "    for r in sort(collect(keys(RI)))\n",
    "        println(\"## rank = \", r)\n",
    "\n",
    "        count = 0\n",
    "        for I in RI[r]\n",
    "            if count % 5 == 0\n",
    "                println()\n",
    "            end\n",
    "            for b in I\n",
    "                print(Int(b), ' ')\n",
    "            end\n",
    "            println()\n",
    "            count += 1\n",
    "        end\n",
    "\n",
    "        println()\n",
    "    end\n",
    "end"
   ]
  },
  {
   "cell_type": "code",
   "execution_count": 120,
   "id": "a1f58b98",
   "metadata": {},
   "outputs": [
    {
     "data": {
      "text/plain": [
       "latexRanks (generic function with 1 method)"
      ]
     },
     "execution_count": 120,
     "metadata": {},
     "output_type": "execute_result"
    }
   ],
   "source": [
    "function latexRanks(RI)\n",
    "    count = 1\n",
    "    for r in sort(collect(keys(RI)))\n",
    "        for I in RI[r]\n",
    "            print(count, \" & \")\n",
    "            for i in eachindex(I)\n",
    "                if i < length(I)\n",
    "                    print(Int(I[i]), \" & \")\n",
    "                else\n",
    "                    print(Int(I[i]), \" & \", r, \" & \\\\\\\\\")\n",
    "                end\n",
    "            end\n",
    "            println()\n",
    "            count += 1\n",
    "        end\n",
    "    end\n",
    "end"
   ]
  },
  {
   "cell_type": "code",
   "execution_count": 121,
   "id": "8b8e00ae",
   "metadata": {},
   "outputs": [
    {
     "name": "stdout",
     "output_type": "stream",
     "text": [
      "1 & 1 & 1 & 1 & 1 & 1 & 1 & 1 & 7 & \\\\\n",
      "2 & 1 & 0 & 0 & 0 & 0 & 0 & 0 & 7 & \\\\\n",
      "3 & 0 & 1 & 1 & 1 & 1 & 1 & 1 & 7 & \\\\\n",
      "4 & 0 & 0 & 0 & 0 & 0 & 0 & 0 & 7 & \\\\\n",
      "5 & 1 & 0 & 1 & 0 & 0 & 0 & 0 & 8 & \\\\\n",
      "6 & 0 & 0 & 0 & 0 & 1 & 0 & 0 & 8 & \\\\\n",
      "7 & 1 & 1 & 1 & 1 & 1 & 0 & 1 & 8 & \\\\\n",
      "8 & 1 & 1 & 1 & 1 & 1 & 1 & 0 & 8 & \\\\\n",
      "9 & 0 & 0 & 0 & 0 & 0 & 0 & 1 & 8 & \\\\\n",
      "10 & 0 & 0 & 0 & 0 & 0 & 1 & 0 & 8 & \\\\\n",
      "11 & 1 & 1 & 1 & 1 & 0 & 1 & 1 & 8 & \\\\\n",
      "12 & 0 & 1 & 0 & 1 & 1 & 1 & 1 & 8 & \\\\\n",
      "13 & 1 & 0 & 1 & 1 & 1 & 1 & 1 & 8 & \\\\\n",
      "14 & 0 & 0 & 0 & 1 & 0 & 0 & 0 & 8 & \\\\\n",
      "15 & 0 & 1 & 1 & 0 & 1 & 1 & 1 & 8 & \\\\\n",
      "16 & 0 & 0 & 1 & 0 & 0 & 0 & 0 & 8 & \\\\\n",
      "17 & 0 & 1 & 1 & 1 & 1 & 0 & 1 & 8 & \\\\\n",
      "18 & 0 & 1 & 1 & 1 & 1 & 1 & 0 & 8 & \\\\\n",
      "19 & 1 & 1 & 0 & 0 & 0 & 0 & 0 & 8 & \\\\\n",
      "20 & 1 & 0 & 0 & 0 & 1 & 0 & 0 & 8 & \\\\\n",
      "21 & 0 & 1 & 1 & 1 & 0 & 1 & 1 & 8 & \\\\\n",
      "22 & 0 & 0 & 1 & 1 & 1 & 1 & 1 & 8 & \\\\\n",
      "23 & 1 & 0 & 0 & 0 & 0 & 0 & 1 & 8 & \\\\\n",
      "24 & 1 & 0 & 0 & 0 & 0 & 1 & 0 & 8 & \\\\\n",
      "25 & 1 & 1 & 0 & 1 & 1 & 1 & 1 & 8 & \\\\\n",
      "26 & 1 & 1 & 1 & 0 & 1 & 1 & 1 & 8 & \\\\\n",
      "27 & 1 & 0 & 0 & 1 & 0 & 0 & 0 & 8 & \\\\\n",
      "28 & 0 & 1 & 0 & 0 & 0 & 0 & 0 & 8 & \\\\\n",
      "29 & 0 & 0 & 0 & 1 & 1 & 1 & 1 & 9 & \\\\\n",
      "30 & 1 & 1 & 0 & 1 & 0 & 0 & 0 & 9 & \\\\\n",
      "31 & 0 & 1 & 1 & 0 & 1 & 0 & 1 & 9 & \\\\\n",
      "32 & 1 & 0 & 0 & 1 & 1 & 0 & 0 & 9 & \\\\\n",
      "33 & 1 & 1 & 0 & 0 & 0 & 1 & 1 & 9 & \\\\\n",
      "34 & 0 & 1 & 1 & 1 & 0 & 0 & 0 & 9 & \\\\\n",
      "35 & 1 & 0 & 0 & 0 & 1 & 1 & 1 & 9 & \\\\\n",
      "36 & 0 & 0 & 1 & 1 & 1 & 0 & 0 & 9 & \\\\\n",
      "37 & 0 & 1 & 1 & 0 & 0 & 1 & 1 & 9 & \\\\\n",
      "38 & 1 & 0 & 0 & 1 & 0 & 1 & 0 & 9 & \\\\\n",
      "39 & 0 & 0 & 1 & 0 & 1 & 1 & 1 & 9 & \\\\\n",
      "40 & 1 & 1 & 1 & 0 & 0 & 0 & 0 & 9 & \\\\\n",
      "41 & 1 & 0 & 1 & 0 & 1 & 0 & 0 & 9 & \\\\\n",
      "42 & 0 & 1 & 0 & 0 & 0 & 0 & 1 & 9 & \\\\\n",
      "43 & 1 & 1 & 0 & 0 & 1 & 1 & 1 & 9 & \\\\\n",
      "44 & 0 & 1 & 1 & 1 & 1 & 0 & 0 & 9 & \\\\\n",
      "45 & 1 & 0 & 1 & 0 & 0 & 0 & 1 & 9 & \\\\\n",
      "46 & 0 & 0 & 0 & 0 & 1 & 0 & 1 & 9 & \\\\\n",
      "47 & 0 & 1 & 0 & 0 & 0 & 1 & 0 & 9 & \\\\\n",
      "48 & 1 & 1 & 0 & 1 & 0 & 1 & 0 & 9 & \\\\\n",
      "49 & 0 & 0 & 0 & 0 & 1 & 1 & 0 & 9 & \\\\\n",
      "50 & 1 & 0 & 0 & 1 & 1 & 1 & 0 & 9 & \\\\\n",
      "51 & 0 & 1 & 1 & 1 & 0 & 0 & 1 & 9 & \\\\\n",
      "52 & 0 & 0 & 1 & 1 & 1 & 0 & 1 & 9 & \\\\\n",
      "53 & 0 & 1 & 1 & 1 & 0 & 1 & 0 & 9 & \\\\\n",
      "54 & 0 & 0 & 0 & 0 & 0 & 1 & 1 & 9 & \\\\\n",
      "55 & 0 & 0 & 1 & 1 & 1 & 1 & 0 & 9 & \\\\\n",
      "56 & 1 & 1 & 1 & 0 & 0 & 0 & 1 & 9 & \\\\\n",
      "57 & 1 & 0 & 1 & 0 & 1 & 0 & 1 & 9 & \\\\\n",
      "58 & 0 & 1 & 0 & 1 & 0 & 0 & 0 & 9 & \\\\\n",
      "59 & 1 & 1 & 0 & 1 & 1 & 1 & 0 & 9 & \\\\\n",
      "60 & 1 & 0 & 1 & 1 & 0 & 0 & 0 & 9 & \\\\\n",
      "61 & 0 & 0 & 0 & 1 & 1 & 0 & 0 & 9 & \\\\\n",
      "62 & 0 & 1 & 0 & 0 & 0 & 1 & 1 & 9 & \\\\\n",
      "63 & 1 & 1 & 0 & 1 & 0 & 1 & 1 & 9 & \\\\\n",
      "64 & 0 & 0 & 0 & 0 & 1 & 1 & 1 & 9 & \\\\\n",
      "65 & 1 & 0 & 0 & 1 & 1 & 1 & 1 & 9 & \\\\\n",
      "66 & 0 & 0 & 0 & 1 & 0 & 1 & 0 & 9 & \\\\\n",
      "67 & 1 & 1 & 1 & 0 & 1 & 0 & 1 & 9 & \\\\\n",
      "68 & 0 & 1 & 1 & 0 & 0 & 0 & 0 & 9 & \\\\\n",
      "69 & 1 & 1 & 1 & 1 & 0 & 0 & 0 & 9 & \\\\\n",
      "70 & 0 & 0 & 1 & 0 & 1 & 0 & 0 & 9 & \\\\\n",
      "71 & 1 & 0 & 1 & 1 & 1 & 0 & 0 & 9 & \\\\\n",
      "72 & 1 & 1 & 1 & 0 & 0 & 1 & 1 & 9 & \\\\\n",
      "73 & 0 & 1 & 0 & 0 & 1 & 1 & 1 & 9 & \\\\\n",
      "74 & 0 & 0 & 1 & 0 & 0 & 0 & 1 & 9 & \\\\\n",
      "75 & 1 & 0 & 1 & 0 & 1 & 1 & 1 & 9 & \\\\\n",
      "76 & 0 & 1 & 0 & 1 & 0 & 1 & 0 & 9 & \\\\\n",
      "77 & 0 & 0 & 0 & 1 & 1 & 1 & 0 & 9 & \\\\\n",
      "78 & 1 & 1 & 0 & 0 & 0 & 0 & 1 & 9 & \\\\\n",
      "79 & 1 & 1 & 1 & 1 & 1 & 0 & 0 & 9 & \\\\\n",
      "80 & 1 & 1 & 0 & 0 & 0 & 1 & 0 & 9 & \\\\\n",
      "81 & 1 & 0 & 0 & 0 & 1 & 0 & 1 & 9 & \\\\\n",
      "82 & 0 & 1 & 1 & 0 & 0 & 0 & 1 & 9 & \\\\\n",
      "83 & 1 & 0 & 0 & 0 & 1 & 1 & 0 & 9 & \\\\\n",
      "84 & 1 & 1 & 1 & 1 & 0 & 0 & 1 & 9 & \\\\\n",
      "85 & 0 & 0 & 1 & 0 & 1 & 0 & 1 & 9 & \\\\\n",
      "86 & 1 & 1 & 1 & 1 & 0 & 1 & 0 & 9 & \\\\\n",
      "87 & 1 & 0 & 1 & 1 & 1 & 0 & 1 & 9 & \\\\\n",
      "88 & 0 & 1 & 0 & 1 & 1 & 1 & 0 & 9 & \\\\\n",
      "89 & 1 & 0 & 0 & 0 & 0 & 1 & 1 & 9 & \\\\\n",
      "90 & 0 & 0 & 1 & 1 & 0 & 0 & 0 & 9 & \\\\\n",
      "91 & 1 & 0 & 1 & 1 & 1 & 1 & 0 & 9 & \\\\\n",
      "92 & 0 & 1 & 0 & 1 & 0 & 1 & 1 & 9 & \\\\\n"
     ]
    }
   ],
   "source": [
    "latexRanks(rdict_3);"
   ]
  },
  {
   "cell_type": "markdown",
   "id": "c243e159",
   "metadata": {},
   "source": [
    "## Z2 x Z2"
   ]
  },
  {
   "cell_type": "code",
   "execution_count": 32,
   "id": "48460f3d",
   "metadata": {},
   "outputs": [
    {
     "data": {
      "text/plain": [
       "13-element Vector{Matrix{Int64}}:\n",
       " [1 0 … 0 0]\n",
       " [0 1 … 0 0]\n",
       " [0 1 … 1 0]\n",
       " [0 1 … 0 0]\n",
       " [0 1 … -1 0]\n",
       " [0 0 … 0 0]\n",
       " [0 0 … 1 0]\n",
       " [0 0 … 0 0]\n",
       " [0 0 … -1 0]\n",
       " [0 0 … 0 1]\n",
       " [0 0 … 0 0]\n",
       " [0 0 … 0 -1]\n",
       " [0 0 … 0 0]"
      ]
     },
     "execution_count": 32,
     "metadata": {},
     "output_type": "execute_result"
    }
   ],
   "source": [
    "## mu 0 1 2 3, eta 10 21 32 03\n",
    "H22 = [[1 0 0 0 0 0 0 0], [0 1 0 0 1 0 0 0], [0 1 0 0 0 0 1 0], [0 1 0 0 -1 0 0 0], [0 1 0 0 0 0 -1 0], [0 0 1 0 1 1 0 0], [0 0 1 0 0 1 1 0], [0 0 1 0 -1 -1 0 0], [0 0 1 0 0 -1 -1 0], [0 0 0 1 0 0 0 1], [0 0 0 1 0 1 0 0], [0 0 0 1 0 0 0 -1], [0 0 0 1 0 -1 0 0]]"
   ]
  },
  {
   "cell_type": "code",
   "execution_count": 33,
   "id": "ba791365",
   "metadata": {},
   "outputs": [
    {
     "name": "stdout",
     "output_type": "stream",
     "text": [
      "  0.744872 seconds (3.15 M allocations: 272.113 MiB, 9.39% gc time)\n",
      "2328\n"
     ]
    }
   ],
   "source": [
    "groupStructure = [2,2]\n",
    "@time s22 = sample(4, H22, 2^20); ## get the sample points (< 2 seconds usually)\n",
    "println(length(s22))"
   ]
  },
  {
   "cell_type": "code",
   "execution_count": 35,
   "id": "645c93c7",
   "metadata": {},
   "outputs": [
    {
     "name": "stdout",
     "output_type": "stream",
     "text": [
      "R=[10, 11, 12, 13, 14, 15]\n"
     ]
    },
    {
     "data": {
      "text/plain": [
       "6-element Vector{Int64}:\n",
       "    4\n",
       "   48\n",
       "  156\n",
       "  584\n",
       " 1056\n",
       "  480"
      ]
     },
     "execution_count": 35,
     "metadata": {},
     "output_type": "execute_result"
    }
   ],
   "source": [
    "ranks = [getRank(s, [2,2]) for s in collect(values(s22))]; ## get the rank for each sample point\n",
    "R = sort(collect(Set(ranks)))\n",
    "println(\"R=\", R)\n",
    "counts = [sum([r==k for r in ranks]) for k in R]; ## tabulate the ranks\n",
    "priors = [c/sum(counts) for c in counts]; ## compute priors (% of samples with given rank)\n",
    "counts"
   ]
  },
  {
   "cell_type": "code",
   "execution_count": 36,
   "id": "6a7bc9ce",
   "metadata": {},
   "outputs": [
    {
     "data": {
      "text/plain": [
       "6-element Vector{Float64}:\n",
       " 0.001718213058419244\n",
       " 0.020618556701030927\n",
       " 0.06701030927835051\n",
       " 0.2508591065292096\n",
       " 0.4536082474226804\n",
       " 0.20618556701030927"
      ]
     },
     "execution_count": 36,
     "metadata": {},
     "output_type": "execute_result"
    }
   ],
   "source": [
    "priors"
   ]
  },
  {
   "cell_type": "code",
   "execution_count": 37,
   "id": "901c2824",
   "metadata": {},
   "outputs": [],
   "source": [
    "check_neighbors(s22, [2,2])"
   ]
  },
  {
   "cell_type": "code",
   "execution_count": 34,
   "id": "177a7eee",
   "metadata": {},
   "outputs": [
    {
     "name": "stdout",
     "output_type": "stream",
     "text": [
      "$H_1$ & 1 & 0 & 0 & 0 & 0 & 0 & 0 & 0 & $\\mu_0 = 0$ \\\n",
      "$H_2$ & 0 & 1 & 0 & 0 & 1 & 0 & 0 & 0 & $\\mu_1 + \\eta_{10} = 0$ \\\n",
      "$H_3$ & 0 & 1 & 0 & 0 & 0 & 0 & 1 & 0 & $\\mu_1 + \\eta_{32} = 0$ \\\n",
      "$H_4$ & 0 & 1 & 0 & 0 & -1 & 0 & 0 & 0 & $\\mu_1 - \\eta_{10} = 0$ \\\n",
      "$H_5$ & 0 & 1 & 0 & 0 & 0 & 0 & -1 & 0 & $\\mu_1 - \\eta_{32} = 0$ \\\n",
      "$H_6$ & 0 & 0 & 1 & 0 & 1 & 1 & 0 & 0 & $\\mu_2 + \\eta_{10} + \\eta_{21} = 0$ \\\n",
      "$H_7$ & 0 & 0 & 1 & 0 & 0 & 1 & 1 & 0 & $\\mu_2 + \\eta_{21} + \\eta_{32} = 0$ \\\n",
      "$H_8$ & 0 & 0 & 1 & 0 & -1 & -1 & 0 & 0 & $\\mu_2 - \\eta_{10} - \\eta_{21} = 0$ \\\n",
      "$H_9$ & 0 & 0 & 1 & 0 & 0 & -1 & -1 & 0 & $\\mu_2 - \\eta_{21} - \\eta_{32} = 0$ \\\n",
      "$H_10$ & 0 & 0 & 0 & 1 & 0 & 0 & 0 & 1 & $\\mu_3 + \\eta_{03} = 0$ \\\n",
      "$H_11$ & 0 & 0 & 0 & 1 & 0 & 1 & 0 & 0 & $\\mu_3 + \\eta_{21} = 0$ \\\n",
      "$H_12$ & 0 & 0 & 0 & 1 & 0 & 0 & 0 & -1 & $\\mu_3 - \\eta_{03} = 0$ \\\n",
      "$H_13$ & 0 & 0 & 0 & 1 & 0 & -1 & 0 & 0 & $\\mu_3 - \\eta_{21} = 0$ \\\n"
     ]
    }
   ],
   "source": [
    "HToLatex(H22, coords_4)"
   ]
  },
  {
   "cell_type": "markdown",
   "id": "ad70387b",
   "metadata": {},
   "source": [
    "## Z/5Z"
   ]
  },
  {
   "cell_type": "code",
   "execution_count": 20,
   "id": "72cc4a2a",
   "metadata": {},
   "outputs": [
    {
     "name": "stdout",
     "output_type": "stream",
     "text": [
      "1889.224344 seconds (27.92 G allocations: 704.007 GiB, 14.22% gc time)\n",
      "113349\n"
     ]
    }
   ],
   "source": [
    "@time s5 = sample(5, H5, 2^30); ## get the sample points (< 2 seconds usually)\n",
    "println(length(s5))"
   ]
  },
  {
   "cell_type": "code",
   "execution_count": 210,
   "id": "d8c6aab2",
   "metadata": {},
   "outputs": [],
   "source": [
    "# 113350"
   ]
  },
  {
   "cell_type": "code",
   "execution_count": 57,
   "id": "159f95bf",
   "metadata": {},
   "outputs": [
    {
     "name": "stdout",
     "output_type": "stream",
     "text": [
      "R=[13, 14, 15, 16, 17, 18, 19, 20, 21]\n"
     ]
    },
    {
     "data": {
      "text/plain": [
       "9-element Vector{Int64}:\n",
       "    10\n",
       "   268\n",
       "   956\n",
       "  2598\n",
       "  4922\n",
       " 11094\n",
       " 33520\n",
       " 40308\n",
       " 19673"
      ]
     },
     "execution_count": 57,
     "metadata": {},
     "output_type": "execute_result"
    }
   ],
   "source": [
    "ranks = [getRank(s, [5]) for s in collect(values(s5))]; ## get the rank for each sample point\n",
    "R = sort(collect(Set(ranks)))\n",
    "println(\"R=\", R)\n",
    "counts = [sum([r==k for r in ranks]) for k in R]; ## tabulate the ranks\n",
    "priors = [c/sum(counts) for c in counts]; ## compute priors (% of samples with given rank)\n",
    "counts"
   ]
  },
  {
   "cell_type": "code",
   "execution_count": 23,
   "id": "b268cde5",
   "metadata": {},
   "outputs": [
    {
     "data": {
      "text/plain": [
       "9-element Vector{Float64}:\n",
       " 8.822309857166804e-5\n",
       " 0.0023643790417207035\n",
       " 0.008434128223451465\n",
       " 0.022920361008919355\n",
       " 0.04342340911697501\n",
       " 0.09787470555540852\n",
       " 0.29572382641223127\n",
       " 0.3556096657226795\n",
       " 0.17356130182004254"
      ]
     },
     "execution_count": 23,
     "metadata": {},
     "output_type": "execute_result"
    }
   ],
   "source": [
    "priors"
   ]
  },
  {
   "cell_type": "code",
   "execution_count": 26,
   "id": "041209e1",
   "metadata": {},
   "outputs": [
    {
     "name": "stdout",
     "output_type": "stream",
     "text": [
      "23224232324222232222224422323222222323442222242222222222222222223222444354323323322222222222222222223222223232222222222222322232232222222244243223222232222222222433343443222223322222222223222232322222222222223222332222223222222222222242233222222223222222222322222222222222222222222222222322422222222222222222232222224532435223222324222223222322222224232222222222224223333332223433332222222233222322223222224222224232222222422322242233222222222223222322322222322222222222222232332222232222222222322223442343332222223432222324222322222222222224636466323233222322222232323223222232222222222322222232222222222322222222222423222233423233232224222222222222222232323322222222222222222224222222222222222222232222222222324323222222222222223222223222232222223232222223233232223222222222233222222323222222223223342222232223232322232232222222222224322432422222232222322222222222222222222222222222223423442322242222222222222222224222232232222222232322222322232222222232222222222222322422223222232232222222222232334222333233332222223232243432322233222323232322322322232222222222232222222232322223233422253222423222322222223322222222222233334324222322332232323222222223323232222222222222322222223222222223434343222222223232222222222223423222222242222222222223222223322222222222222332222232223222223222223233222222222223332222223222222222222223222222222233222222322222223222233323222222222222232222225222224322222322222243322322322234222222222222322322222233222222332222222322222222222222222222222222222222222222223233422222323322222222224345222333342223222222222322222222222222222222322222222222222222223322222222322332222222222233222222222222234233222222222222222222222222224322222222222222222222322342223222222322222222222332222232222322433223434323422323324222232223222222222233322222223344334332222222234242232222222223222223222232345622333223323222233233223222222222222222222332222222322222244222222222222223332222222223322222222223222222222222222232242222322332233222222223223322232232222222223232222242322243332232322222222222432322322223242232222242333332222323222222225533335244432222222222222332222223222222222323232323332422222222222222223232422222222222223423222222232222222222224322222222222224222222324222322222222233232222222222232222222222223222222222323322223233222222222222222233232222222222222222322222223332222322322223222222222335433232232222252343232222222222222222223432334223222222222322222322222233323342344222343333422432222432322222322222222223523222342332232232222222223223322234332234232333422222222324222322233223332243332323442442232222422222224252332222222223322222334322232222232222222222222223322222322322232333323332234222232342222222322222222222232232222243243322222222232222222222223222222222222222323222222222322222233222223222323242323332232222223222222222223222222222232222222222222222223224222242223323233232343232223222222222222222222222222222222222222222222232222222222322222333432223222222222222222222222222222222223222222222222335222222222222222223222233222222223233223222222222322222223222234222222332222222222222222222322322233322222322222444432322223222222223223323322222222232343424443222222232322222222222222432222322222222222334333423232322222223223222222223224323422222222332222222222223222223322423222223222232222332224222223222222222323322224223232222222243222222222222233232224222222222222223222222223223232232222222342222422222222222232323323322222222233342222223222223222424443222332222242232222222232222233222222222222222222322322223222232223422333342342222224322342422222222322223332223322222222223232222222223322233324334222234222232222222222322323443422322422322222522324222222222234223222222223232326232222324322223222222242222222222222323232232222223222432334233323224222232332222222222223224222222222232244422223222222242322322333222222222222222222522222322232232226322223222223324442322222222222222232222322222232222222222222222222222223224253332222222222423222422222222223333243332352322222222222232322222222222434222332222222222222222222234242423232232242324335322222322222222222232222222222222223232332222222222223222222233224332322222222232322222233233222223332342222232332222222323322332322222222222322222222343322322222322222232233222222222222222332222332222222222322422222222225254222443322222232223222233322223223322222222222222222222223222222222222222223322222223553333443222222222222222222222222322222222233343232232322233322222232233332333322322222222222222222224222222242222222222222222222222222322332342322222222222222422222222222222222222224322222422222222223222222222222222222232233244323222222222333443322222322234622423222222222222424222222223222232223223232423342242222222322223322223322222223323233322222223232242234322232222222222222322222222222222222222222224232423223322222223222322222323433534233223222222332424232424222223232322232222222222222234252222222222233322222222222222222222222222222222222222222242222232222222222222222222222244322222222222222222222332322322222232322222232222223233222222222222222222222222222222422232222222222222222222232222222222223223222222422222222222432222222322222222222222222232232222222222222222332225222222222232222222222222232222222222222222332423223222222232222222223522222222322452223222222222422233223322323222222222222232322222222232224223222222223232222222223232222223252232222222223322323332332332223222253222333422322222222232222222222222222222222232222224222252222232222222222222222223243322222322232445253233224332222322232232222222222233422232222222222332232322222222232222222222322222222222222224422222222222222222222223222232232223232223222222222232223322222222224232222224223222222223322422223223222223433234223232242222222223332222223222233223224332242222332222222223323222222222332322222442222322232222222332223332223422234443545542332342222235334343332322222322332224222222224323323222232233222232222222222222422222222223323322232222222322222332222222244223223233224322222322232242222222222223222322222222322222222322434222322222222222222222222222323523534524222222223322222222522222232232222222222233322222322342322234323222222332322522242222222323232223232223223322223222222223322222222322222222222222332322232422332422222222232223222222222223332222222222232322222322222222222222222222222343422233422422223323323433442224223222222222222232222222222322222222232422222222223222322222222232222323222222222222222223242342222322222222222322222234322433222223322222222222222232424352222222222222224232222222232224222222222222222222223222222332322222344222222322232222222222222222222322332223222222222222233322222222222222232222232324222233222222223343333342232222222222453324222222222222223242232223322234322223422522242242223232222222323222223243424223232222222222222242242322222222222242223222223222222222223222442433422233222222224222223232223334222222233222223222322222223332242423222423222222222222232232222232232252223222222222223322333222222232232323222222222222322222222222222222222222222222333323232222222222222423334322233222222222232222322222222222222232222222222222222232222222222433222223222232222222232222233222222223322232223332222223223222222322222222322222222252223222232222322222222323342233222223222322222242333323324343222222223423322422222422222324232222323432223222422222222222222222224242222232332232332222222336232222222222222232222322222233322242222222223222222232222222222232222222222222222222222222223222222223222222362222222234222223222222243522232223333224232222344343244423222242222322222222222232222222222222224223222222222222222222222322222232322222222222222422223252222222223222322222222222222222222222222223442243222423222222222223232222333222242223222222222222222222223222233232253222222222332223322222222222222222222223232223242222222222223222232222222222222222232222222223232222222223232422222222222223222222222322222222246522222222322322222222232332322222222232233432222222434324324333322323423322262322223222342625242222222222222222222222325223223223222222222222222233232232222222222222222222222322423224523442433222222222222244343433244433232223223222222222222322222332322222222332232222222232222222322222222333233222222222232222223222222222222233222222222222423232322224222222222222245442424223332222232232222252543423223342322223222223"
     ]
    },
    {
     "name": "stdout",
     "output_type": "stream",
     "text": [
      "3222222232222222232222232322222444222233232322423422233432222232352223222222223224322222222222224224222333433232222222222222233342333223222332222222223232322423323322232223332322242223222222232223222222222222224322222222322222232222222222224222322222243522223222222222223222222222222222222224222223242222222234233224223222222232222222222323222222322222223223444245332332222222222223222222222222234253222222222222222264554442423222222222222222222222223222222222222222222223222222222322333322222223332222222222222222322222222232223332322222243233222232242232222232224222233223232222222222422222222222222222222232222222222332322334242222223233232222222222333423222322223222222232222223442224223222232232234332422222322222323222222222222222232222222222222252322332222243323242322222232222224332222223323222222222222422322222222222222222222242222222222222422222222243222222322223222222222343222233224222222222222233233222222343222233332222222222222222322232232222223223222222222322223222222223222222222222222222232222222232222224232222332222222222232222232222222223222222232233233333332222222223342222222222222332222222223222322222222233223222322322323222232322332322232222222222222252332432222223222243322322222222222232222323322422222232322222353242232222222233322232432222232222222222232322222223323222222222222222222222243243222222342322422222222222322233223323223233222222222322222222222222622223223232222322222232222322222222222222332422223222423233242222222222222222322223223222222223322222222242323332222223222222232222222222222222223323223223222222232222223222223232322333222222222222222222324232222222222222222223422422222222222223342222222222222222222222223224332322232222324232222223422223222222332222222222222222222323422222232222322234222432222222244222222432322222222222223324343232223222233324422422222422232222222242222323423222222232223222232232332223244342222222222322232222222222222222223223222222342243334322322222232322322222222222232224342232222222222334222452233323222322223343322322223223223242322222222222222222223222222332322222222222422222223234424222223223222323223222222222222223222222233322442243222322232322322523472224343242232222222223432222323222222222223232232343222442322222222224422232222235222222222322224222222322232222222222323324222223232222232232232222222223322222322222222222222222223322323222222324222245422453432222222222222222222222223322222222232222222222222222222423232222222222222222222222222222222323233222322222223223323222232222222322232222223232222222322222222222222232222222222222222222222443232222233322222233323222232233222222322222322222222222222222232222222222222222222222222222222222222222222232222423422432322222222222222222242422222233322222232222222232233222222222222222342222222222222222232322222222222222222222222222222322242222244322222222222222222233322222222222222223332232222232323222422422222222222223222223223222222222222222243223222322443425444426442322222222222222222222222222222232322223232233332222424222322223222223232222222232233533234422233232222222223222422222222222"
     ]
    },
    {
     "ename": "LoadError",
     "evalue": "InterruptException:",
     "output_type": "error",
     "traceback": [
      "InterruptException:",
      "",
      "Stacktrace:",
      "  [1] try_yieldto(undo::typeof(Base.ensure_rescheduled))",
      "    @ Base .\\task.jl:871",
      "  [2] wait()",
      "    @ Base .\\task.jl:931",
      "  [3] uv_write(s::Base.PipeEndpoint, p::Ptr{UInt8}, n::UInt64)",
      "    @ Base .\\stream.jl:1046",
      "  [4] unsafe_write(s::Base.PipeEndpoint, p::Ptr{UInt8}, n::UInt64)",
      "    @ Base .\\stream.jl:1118",
      "  [5] unsafe_write",
      "    @ .\\io.jl:419 [inlined]",
      "  [6] write",
      "    @ .\\strings\\io.jl:244 [inlined]",
      "  [7] show",
      "    @ .\\show.jl:1061 [inlined]",
      "  [8] print(io::IJulia.IJuliaStdio{Base.PipeEndpoint}, x::Int64)",
      "    @ Base .\\strings\\io.jl:35",
      "  [9] print(xs::Int64)",
      "    @ Base .\\coreio.jl:3",
      " [10] check_neighbors(S::Dict{Any, Any}, groupStructure::Vector{Int64})",
      "    @ Main .\\In[24]:11",
      " [11] top-level scope",
      "    @ In[26]:1"
     ]
    }
   ],
   "source": [
    "check_neighbors(s5, [5])"
   ]
  },
  {
   "cell_type": "code",
   "execution_count": 30,
   "id": "c4c5233f",
   "metadata": {},
   "outputs": [
    {
     "name": "stdout",
     "output_type": "stream",
     "text": [
      "$H_1$ & 1 & 0 & 0 & 0 & 0 & 0 & 0 & 0 & 0 & 0 & $\\mu_0 = 0$ \\\n",
      "$H_2$ & 0 & 0 & 0 & 0 & 1 & -1 & 0 & 0 & 0 & 0 & $\\mu_4 - \\eta_{10} = 0$ \\\n",
      "$H_3$ & 0 & 0 & 0 & 1 & 0 & 0 & -1 & -1 & 0 & 0 & $\\mu_3 - \\eta_{21} - \\eta_{32} = 0$ \\\n",
      "$H_4$ & 0 & 0 & 1 & 0 & 0 & 0 & -1 & -1 & -1 & 0 & $\\mu_2 - \\eta_{21} - \\eta_{32} - \\eta_{43} = 0$ \\\n",
      "$H_5$ & 0 & 1 & 0 & 0 & 0 & 0 & 0 & 0 & 0 & 1 & $\\mu_1 + \\eta_{04} = 0$ \\\n",
      "$H_6$ & 0 & 0 & 0 & 0 & 1 & 0 & 0 & 0 & 0 & -1 & $\\mu_4 - \\eta_{04} = 0$ \\\n",
      "$H_7$ & 0 & 0 & 0 & 1 & 0 & 0 & 0 & 1 & 1 & 1 & $\\mu_3 + \\eta_{32} + \\eta_{43} + \\eta_{04} = 0$ \\\n",
      "$H_8$ & 0 & 0 & 1 & 0 & 0 & 0 & 0 & 0 & 1 & 1 & $\\mu_2 + \\eta_{43} + \\eta_{04} = 0$ \\\n",
      "$H_9$ & 0 & 1 & 0 & 0 & 0 & 0 & 0 & 0 & 1 & 0 & $\\mu_1 + \\eta_{43} = 0$ \\\n",
      "$H_10$ & 0 & 0 & 0 & 1 & 0 & 0 & 1 & 1 & 1 & 0 & $\\mu_3 + \\eta_{21} + \\eta_{32} + \\eta_{43} = 0$ \\\n",
      "$H_11$ & 0 & 0 & 1 & 0 & 0 & 0 & 0 & 1 & 1 & 0 & $\\mu_2 + \\eta_{32} + \\eta_{43} = 0$ \\\n",
      "$H_12$ & 0 & 1 & 0 & 0 & 0 & 0 & 0 & 1 & 0 & 0 & $\\mu_1 + \\eta_{32} = 0$ \\\n",
      "$H_13$ & 0 & 0 & 0 & 0 & 1 & 0 & 0 & 0 & -1 & 0 & $\\mu_4 - \\eta_{43} = 0$ \\\n",
      "$H_14$ & 0 & 0 & 1 & 0 & 0 & 0 & 1 & 1 & 0 & 0 & $\\mu_2 + \\eta_{21} + \\eta_{32} = 0$ \\\n",
      "$H_15$ & 0 & 1 & 0 & 0 & 0 & 0 & 1 & 0 & 0 & 0 & $\\mu_1 + \\eta_{21} = 0$ \\\n",
      "$H_16$ & 0 & 0 & 0 & 0 & 1 & 0 & 0 & -1 & 0 & 0 & $\\mu_4 - \\eta_{32} = 0$ \\\n",
      "$H_17$ & 0 & 0 & 0 & 1 & 0 & 0 & 0 & 0 & -1 & -1 & $\\mu_3 - \\eta_{43} - \\eta_{04} = 0$ \\\n",
      "$H_18$ & 0 & 1 & 0 & 0 & 0 & 1 & 0 & 0 & 0 & 0 & $\\mu_1 + \\eta_{10} = 0$ \\\n",
      "$H_19$ & 0 & 0 & 0 & 0 & 1 & 0 & -1 & 0 & 0 & 0 & $\\mu_4 - \\eta_{21} = 0$ \\\n",
      "$H_20$ & 0 & 0 & 0 & 1 & 0 & 0 & 0 & -1 & -1 & 0 & $\\mu_3 - \\eta_{32} - \\eta_{43} = 0$ \\\n",
      "$H_21$ & 0 & 0 & 1 & 0 & 0 & 0 & 0 & -1 & -1 & -1 & $\\mu_2 - \\eta_{32} - \\eta_{43} - \\eta_{04} = 0$ \\\n"
     ]
    }
   ],
   "source": [
    "coords_5 = [\"mu_0\", \"mu_1\", \"mu_2\", \"mu_3\", \"mu_4\", \"eta_{10}\", \"eta_{21}\", \"eta_{32}\", \"eta_{43}\", \"eta_{04}\"]\n",
    "HToLatex(H5, coords_5)"
   ]
  },
  {
   "cell_type": "code",
   "execution_count": 54,
   "id": "738ca83c",
   "metadata": {},
   "outputs": [
    {
     "data": {
      "text/plain": [
       "113349-element Vector{Any}:\n",
       " Bool[1, 0, 1, 0, 0, 1, 0, 1, 1, 1  …  1, 0, 0, 1, 1, 0, 1, 0, 0, 1]\n",
       " Bool[1, 0, 0, 0, 0, 1, 0, 0, 0, 1  …  0, 1, 0, 0, 0, 1, 1, 0, 0, 1]\n",
       " Bool[0, 1, 1, 0, 1, 0, 1, 1, 0, 1  …  0, 0, 0, 0, 0, 0, 0, 0, 0, 0]\n",
       " Bool[1, 1, 1, 0, 1, 1, 1, 1, 1, 1  …  1, 1, 1, 1, 1, 1, 0, 1, 1, 1]\n",
       " Bool[0, 1, 0, 0, 1, 1, 1, 0, 1, 0  …  1, 1, 0, 1, 1, 0, 1, 1, 0, 0]\n",
       " Bool[0, 1, 0, 0, 0, 1, 1, 1, 1, 1  …  1, 0, 1, 1, 0, 1, 1, 0, 0, 0]\n",
       " Bool[1, 0, 0, 0, 0, 1, 0, 0, 0, 0  …  0, 0, 1, 1, 1, 0, 0, 0, 1, 1]\n",
       " Bool[0, 1, 0, 0, 1, 0, 0, 1, 1, 1  …  1, 1, 1, 1, 1, 0, 0, 0, 1, 1]\n",
       " Bool[0, 0, 1, 1, 0, 1, 0, 0, 1, 1  …  1, 1, 1, 1, 1, 1, 1, 0, 1, 1]\n",
       " Bool[1, 0, 1, 1, 0, 1, 1, 0, 1, 0  …  1, 1, 0, 0, 0, 1, 1, 1, 1, 0]\n",
       " Bool[1, 1, 0, 1, 1, 0, 1, 1, 1, 0  …  1, 1, 0, 0, 0, 0, 1, 1, 0, 0]\n",
       " Bool[1, 0, 0, 0, 0, 1, 0, 0, 1, 1  …  0, 0, 0, 1, 1, 1, 1, 0, 1, 0]\n",
       " Bool[1, 0, 1, 0, 0, 1, 0, 1, 1, 1  …  0, 0, 0, 1, 0, 0, 0, 0, 0, 0]\n",
       " ⋮\n",
       " Bool[1, 1, 0, 1, 1, 1, 0, 1, 1, 1  …  0, 1, 1, 1, 1, 0, 0, 0, 1, 1]\n",
       " Bool[0, 0, 0, 0, 0, 1, 0, 0, 0, 0  …  1, 1, 1, 1, 0, 0, 1, 1, 0, 0]\n",
       " Bool[0, 1, 0, 1, 1, 0, 0, 1, 0, 0  …  0, 0, 1, 1, 1, 0, 0, 0, 0, 1]\n",
       " Bool[0, 0, 1, 0, 1, 0, 1, 1, 0, 1  …  0, 0, 0, 0, 0, 1, 0, 0, 1, 0]\n",
       " Bool[0, 0, 1, 0, 0, 1, 1, 1, 1, 1  …  0, 0, 1, 0, 0, 1, 0, 0, 0, 1]\n",
       " Bool[0, 0, 1, 1, 1, 0, 1, 1, 1, 0  …  0, 0, 0, 0, 0, 0, 1, 0, 1, 1]\n",
       " Bool[0, 0, 1, 0, 1, 1, 1, 0, 1, 1  …  1, 0, 0, 0, 0, 1, 1, 1, 0, 0]\n",
       " Bool[0, 0, 0, 0, 0, 0, 1, 0, 0, 0  …  1, 0, 1, 0, 0, 1, 1, 0, 0, 0]\n",
       " Bool[0, 0, 1, 0, 0, 1, 0, 0, 1, 1  …  1, 1, 0, 1, 0, 1, 1, 1, 1, 1]\n",
       " Bool[0, 1, 0, 1, 0, 0, 1, 1, 0, 1  …  0, 1, 1, 0, 0, 0, 0, 0, 1, 0]\n",
       " Bool[0, 0, 1, 1, 1, 0, 0, 1, 0, 0  …  1, 0, 1, 0, 0, 1, 1, 0, 0, 1]\n",
       " Bool[1, 0, 0, 0, 0, 1, 0, 1, 0, 1  …  0, 0, 0, 0, 1, 0, 0, 0, 0, 1]"
      ]
     },
     "execution_count": 54,
     "metadata": {},
     "output_type": "execute_result"
    }
   ],
   "source": [
    "inequalityKeys5 = collect(keys(s5))"
   ]
  },
  {
   "cell_type": "code",
   "execution_count": 56,
   "id": "c75a58c9",
   "metadata": {},
   "outputs": [],
   "source": [
    "for i=eachindex(inequalityKeys5)\n",
    "    if ranks[i] == 10\n",
    "        println(inequalityKeys5)\n",
    "    end\n",
    "end"
   ]
  },
  {
   "cell_type": "code",
   "execution_count": null,
   "id": "121dbded",
   "metadata": {},
   "outputs": [],
   "source": []
  }
 ],
 "metadata": {
  "kernelspec": {
   "display_name": "Julia 1.8.5",
   "language": "julia",
   "name": "julia-1.8"
  },
  "language_info": {
   "file_extension": ".jl",
   "mimetype": "application/julia",
   "name": "julia",
   "version": "1.8.5"
  }
 },
 "nbformat": 4,
 "nbformat_minor": 5
}
