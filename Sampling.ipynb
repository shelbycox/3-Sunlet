{
 "cells": [
  {
   "cell_type": "markdown",
   "id": "1aeae5ba",
   "metadata": {},
   "source": [
    "# Random Sampling in a Hyperplane Arrangement Complement\n",
    "\n",
    "### Import Packages"
   ]
  },
  {
   "cell_type": "code",
   "execution_count": 43,
   "id": "a5b9cee3",
   "metadata": {},
   "outputs": [
    {
     "data": {
      "text/plain": [
       "getRank (generic function with 1 method)"
      ]
     },
     "execution_count": 43,
     "metadata": {},
     "output_type": "execute_result"
    }
   ],
   "source": [
    "using LinearAlgebra\n",
    "include(\"lambda_cyclic.jl\")"
   ]
  },
  {
   "cell_type": "markdown",
   "id": "27a81f04",
   "metadata": {},
   "source": [
    "### Generate a random point"
   ]
  },
  {
   "cell_type": "code",
   "execution_count": 44,
   "id": "7a5bbb1e",
   "metadata": {},
   "outputs": [
    {
     "data": {
      "text/plain": [
       "p (generic function with 1 method)"
      ]
     },
     "execution_count": 44,
     "metadata": {},
     "output_type": "execute_result"
    }
   ],
   "source": [
    "p(n) = [rand(Float64)-.5 for j=1:n]"
   ]
  },
  {
   "cell_type": "markdown",
   "id": "7df7fe6c",
   "metadata": {},
   "source": [
    "### Generate the 3-Sunlet hyperplanes"
   ]
  },
  {
   "cell_type": "code",
   "execution_count": 45,
   "id": "92476b9b",
   "metadata": {},
   "outputs": [
    {
     "data": {
      "text/plain": [
       "getH (generic function with 1 method)"
      ]
     },
     "execution_count": 45,
     "metadata": {},
     "output_type": "execute_result"
    }
   ],
   "source": [
    "function getH(k)\n",
    "    H = []\n",
    "    v = zero(rand(2*k))\n",
    "    v[1] = 1\n",
    "    push!(H, v)\n",
    "    \n",
    "    for i=2:k\n",
    "        for j=(k+1):(2*k)\n",
    "            v = zero(rand(2*k))\n",
    "            v[i] = v[j] = 1\n",
    "            push!(H, v)\n",
    "            \n",
    "            w = zero(rand(2*k))\n",
    "            w[i] = 1\n",
    "            w[j] = -1\n",
    "            push!(H, w)\n",
    "        end\n",
    "    end\n",
    "    return H\n",
    "end"
   ]
  },
  {
   "cell_type": "code",
   "execution_count": 46,
   "id": "4eead8a7",
   "metadata": {},
   "outputs": [
    {
     "data": {
      "text/plain": [
       "7-element Vector{Matrix{Int64}}:\n",
       " [1 0 … 0 0]\n",
       " [0 1 … 0 0]\n",
       " [0 1 … -1 0]\n",
       " [0 1 … 0 -1]\n",
       " [0 0 … 0 0]\n",
       " [0 0 … 1 0]\n",
       " [0 0 … 0 1]"
      ]
     },
     "execution_count": 46,
     "metadata": {},
     "output_type": "execute_result"
    }
   ],
   "source": [
    "H3 = [[1 0 0 0 0 0], [0 1 0 -1 0 0], [0 1 0 0 -1 0], [0 1 0 0 0 -1], [0 0 1 1 0 0], [0 0 1 0 1 0], [0 0 1 0 0 1]];\n",
    "H3"
   ]
  },
  {
   "cell_type": "code",
   "execution_count": 47,
   "id": "64e9184e",
   "metadata": {},
   "outputs": [
    {
     "data": {
      "text/plain": [
       "1-element Vector{String}:\n",
       " \"mu_0\""
      ]
     },
     "execution_count": 47,
     "metadata": {},
     "output_type": "execute_result"
    }
   ],
   "source": [
    "coords_3 = [\"mu_0\", \"mu_1\", \"mu_2\", \"eta_{10}\", \"eta_{21}\", \"eta_{02}\"]\n",
    "coords_3[[i for i in eachindex(H3[1]) if H3[1][i] != 0]]"
   ]
  },
  {
   "cell_type": "code",
   "execution_count": 48,
   "id": "a8630f3b",
   "metadata": {},
   "outputs": [
    {
     "name": "stdout",
     "output_type": "stream",
     "text": [
      "$H_1$ & 1 & 0 & 0 & 0 & 0 & 0 & "
     ]
    },
    {
     "ename": "LoadError",
     "evalue": "UndefVarError: coords not defined",
     "output_type": "error",
     "traceback": [
      "UndefVarError: coords not defined",
      "",
      "Stacktrace:",
      " [1] top-level scope",
      "   @ In[48]:8"
     ]
    }
   ],
   "source": [
    "for h in eachindex(H3)\n",
    "    H = H3[h]\n",
    "    print(\"\\$H_\", h, \"\\$ & \")\n",
    "    for j in eachindex(H)\n",
    "        print(H[j], \" & \")\n",
    "    end\n",
    "    vars = [i for i in eachindex(H) if H[i] != 0]\n",
    "    coord = coords[vars]\n",
    "    coeff = H[vars]\n",
    "    print(\"\\$\")\n",
    "    for v in eachindex(vars)\n",
    "        if v != length(vars)\n",
    "            if coeff[v+1] > 0\n",
    "                print(\"\\\\\", coord[v], \" + \")\n",
    "            else\n",
    "                print(\"\\\\\", coord[v], \" - \")\n",
    "            end\n",
    "        else\n",
    "            print(\"\\\\\", coord[v], \" = 0\\$ \\\\\")\n",
    "        end\n",
    "    end\n",
    "    println()\n",
    "end"
   ]
  },
  {
   "cell_type": "code",
   "execution_count": 49,
   "id": "4951b489",
   "metadata": {},
   "outputs": [
    {
     "data": {
      "text/plain": [
       "8-element Vector{String}:\n",
       " \"mu_0\"\n",
       " \"mu_1\"\n",
       " \"mu_2\"\n",
       " \"mu_3\"\n",
       " \"eta_{10}\"\n",
       " \"eta_{21}\"\n",
       " \"eta_{32}\"\n",
       " \"eta_{03}\""
      ]
     },
     "execution_count": 49,
     "metadata": {},
     "output_type": "execute_result"
    }
   ],
   "source": [
    "coords_4 = [\"mu_0\", \"mu_1\", \"mu_2\", \"mu_3\", \"eta_{10}\", \"eta_{21}\", \"eta_{32}\", \"eta_{03}\"]"
   ]
  },
  {
   "cell_type": "code",
   "execution_count": 50,
   "id": "a5d9ef39",
   "metadata": {},
   "outputs": [
    {
     "name": "stdout",
     "output_type": "stream",
     "text": [
      "$H_1$ & 1 & 0 & 0 & 0 & 0 & 0 & "
     ]
    },
    {
     "ename": "LoadError",
     "evalue": "UndefVarError: coords not defined",
     "output_type": "error",
     "traceback": [
      "UndefVarError: coords not defined",
      "",
      "Stacktrace:",
      " [1] top-level scope",
      "   @ In[50]:8"
     ]
    }
   ],
   "source": [
    "for h in eachindex(H3)\n",
    "    H = H3[h]\n",
    "    print(\"\\$H_\", h, \"\\$ & \")\n",
    "    for j in eachindex(H)\n",
    "        print(H[j], \" & \")\n",
    "    end\n",
    "    vars = [i for i in eachindex(H) if H[i] != 0]\n",
    "    coord = coords[vars]\n",
    "    coeff = H[vars]\n",
    "    print(\"\\$\")\n",
    "    for v in eachindex(vars)\n",
    "        if v != length(vars)\n",
    "            if coeff[v+1] > 0\n",
    "                print(\"\\\\\", coord[v], \" + \")\n",
    "            else\n",
    "                print(\"\\\\\", coord[v], \" - \")\n",
    "            end\n",
    "        else\n",
    "            print(\"\\\\\", coord[v], \" = 0\\$ \\\\\")\n",
    "        end\n",
    "    end\n",
    "    println()\n",
    "end"
   ]
  },
  {
   "cell_type": "code",
   "execution_count": 51,
   "id": "f63729e6",
   "metadata": {},
   "outputs": [
    {
     "data": {
      "text/plain": [
       "HToLatex (generic function with 1 method)"
      ]
     },
     "execution_count": 51,
     "metadata": {},
     "output_type": "execute_result"
    }
   ],
   "source": [
    "function HToLatex(Hs, coords)\n",
    "    for h in eachindex(Hs)\n",
    "        H = Hs[h]\n",
    "        print(\"\\$H_\", h, \"\\$ & \")\n",
    "        for j in eachindex(H)\n",
    "            print(H[j], \" & \")\n",
    "        end\n",
    "        \n",
    "        vars = [i for i in eachindex(H) if H[i] != 0]\n",
    "        coord = coords[vars]\n",
    "        coeff = H[vars]\n",
    "        print(\"\\$\")\n",
    "        for v in eachindex(vars)\n",
    "            if v != length(vars)\n",
    "                if coeff[v+1] > 0\n",
    "                     print(\"\\\\\", coord[v], \" + \")\n",
    "                else\n",
    "                    print(\"\\\\\", coord[v], \" - \")\n",
    "                end\n",
    "            else\n",
    "                print(\"\\\\\", coord[v], \" = 0\\$ \\\\\")\n",
    "            end\n",
    "        end\n",
    "        println()\n",
    "    end\n",
    "end"
   ]
  },
  {
   "cell_type": "code",
   "execution_count": 52,
   "id": "3420689a",
   "metadata": {},
   "outputs": [
    {
     "ename": "LoadError",
     "evalue": "UndefVarError: H4 not defined",
     "output_type": "error",
     "traceback": [
      "UndefVarError: H4 not defined",
      "",
      "Stacktrace:",
      " [1] top-level scope",
      "   @ In[52]:1"
     ]
    }
   ],
   "source": [
    "HToLatex(H4, coords_4)"
   ]
  },
  {
   "cell_type": "markdown",
   "id": "5ec77cec",
   "metadata": {},
   "source": [
    "### Inequality vector"
   ]
  },
  {
   "cell_type": "code",
   "execution_count": 53,
   "id": "7a293df4",
   "metadata": {},
   "outputs": [
    {
     "data": {
      "text/plain": [
       "ineq (generic function with 1 method)"
      ]
     },
     "execution_count": 53,
     "metadata": {},
     "output_type": "execute_result"
    }
   ],
   "source": [
    "ineq(v, H) = [LinearAlgebra.dot(v, h) > 0 for h in H]"
   ]
  },
  {
   "cell_type": "code",
   "execution_count": 54,
   "id": "d0cc6f75",
   "metadata": {},
   "outputs": [
    {
     "data": {
      "text/plain": [
       "neighbors (generic function with 1 method)"
      ]
     },
     "execution_count": 54,
     "metadata": {},
     "output_type": "execute_result"
    }
   ],
   "source": [
    "neighbors(I, J) = (sum(I .⊻ J) == 1)"
   ]
  },
  {
   "cell_type": "markdown",
   "id": "484452af",
   "metadata": {},
   "source": [
    "### Sampling Algorithm"
   ]
  },
  {
   "cell_type": "code",
   "execution_count": 55,
   "id": "ad16d9ee",
   "metadata": {},
   "outputs": [
    {
     "data": {
      "text/plain": [
       "sample (generic function with 1 method)"
      ]
     },
     "execution_count": 55,
     "metadata": {},
     "output_type": "execute_result"
    }
   ],
   "source": [
    "function sample(k::Int, H, N::Int)\n",
    "    sample = Dict()\n",
    "    for i=1:N\n",
    "        v = p(2*k)\n",
    "        v[end] = -sum(v[(k+1):(end-1)])\n",
    "        sample[ineq(v, H)] = v\n",
    "    end\n",
    "    return sample\n",
    "end"
   ]
  },
  {
   "cell_type": "markdown",
   "id": "47061da0",
   "metadata": {},
   "source": [
    "## Example $n = 3$"
   ]
  },
  {
   "cell_type": "code",
   "execution_count": 56,
   "id": "9a0439ee",
   "metadata": {},
   "outputs": [
    {
     "name": "stdout",
     "output_type": "stream",
     "text": [
      "  0.538691 seconds (3.30 M allocations: 263.452 MiB, 8.11% gc time, 20.45% compilation time)\n",
      "92\n",
      "R=Set([7, 9, 8])\n"
     ]
    },
    {
     "data": {
      "text/plain": [
       "3-element Vector{Int64}:\n",
       "  4\n",
       " 64\n",
       " 24"
      ]
     },
     "execution_count": 56,
     "metadata": {},
     "output_type": "execute_result"
    }
   ],
   "source": [
    "n = 3\n",
    "@time s3 = sample(3, H3, 2^20); ## get the sample points (< 2 seconds usually)\n",
    "println(length(s3))\n",
    "ranks = [getRank(s, n) for s in collect(values(s3))]; ## get the rank for each sample point\n",
    "R = Set(ranks)\n",
    "println(\"R=\", R)\n",
    "counts = [sum([r==k for r in ranks]) for k in R]; ## tabulate the ranks\n",
    "priors = [c/sum(counts) for c in counts]; ## compute priors (% of samples with given rank)\n",
    "counts"
   ]
  },
  {
   "cell_type": "markdown",
   "id": "4ae13198",
   "metadata": {},
   "source": [
    "### Test Neighbors"
   ]
  },
  {
   "cell_type": "code",
   "execution_count": 57,
   "id": "a3958755",
   "metadata": {},
   "outputs": [
    {
     "name": "stdout",
     "output_type": "stream",
     "text": [
      "10010001011111011110111100000101101111000000000000001101111110110000000000000011110110100000111101111101111010010100110111101001000100011001101001011000100010000000110001111011111100000000011001111101011000110011000011001111101000000000000000010101111110010100101001010111100000000111110101000000001111100010101111110100010011011110010111011100000001001001111100000000111110010110100101000111110010100000000000000110111100011110000001100011111101100000000001110111111101111000000000011000110001010000011001101100010010111011"
     ]
    }
   ],
   "source": [
    "for I in collect(keys(s3))\n",
    "    s = s3[I]\n",
    "    curr_rank = getRank(s, n)\n",
    "    for J in collect(keys(s3))\n",
    "        if neighbors(I, J)\n",
    "            neighbor = s3[J]\n",
    "            n_rank = getRank(neighbor, n)\n",
    "            print(abs(curr_rank - n_rank))\n",
    "        end\n",
    "    end\n",
    "end"
   ]
  },
  {
   "cell_type": "markdown",
   "id": "8110e81e",
   "metadata": {},
   "source": [
    "### Parochial Chambers"
   ]
  },
  {
   "cell_type": "code",
   "execution_count": 60,
   "id": "91824154",
   "metadata": {},
   "outputs": [
    {
     "name": "stdout",
     "output_type": "stream",
     "text": [
      "77\n",
      "7 7"
     ]
    }
   ],
   "source": [
    "p1 = s3[[1, 1, 1, 1, 1, 1, 1]];\n",
    "p2 = s3[[0, 0, 0, 0, 0, 0, 0]];\n",
    "r1 = getRank(p1, n);\n",
    "r2 = getRank(p2, n);\n",
    "println(r1, r2)\n",
    "parochial(s3, 7)\n",
    "# keys(s3)"
   ]
  },
  {
   "cell_type": "code",
   "execution_count": 59,
   "id": "f59a9e86",
   "metadata": {},
   "outputs": [
    {
     "data": {
      "text/plain": [
       "parochial (generic function with 1 method)"
      ]
     },
     "execution_count": 59,
     "metadata": {},
     "output_type": "execute_result"
    }
   ],
   "source": [
    "function parochial(S, k)\n",
    "    p0 = S[zeros(Bool, k)]\n",
    "    p1 = S[ones(Bool, k)]\n",
    "    r0 = getRank(p0, n)\n",
    "    r1 = getRank(p1, n)\n",
    "    print(r0, ' ', r1)\n",
    "end"
   ]
  },
  {
   "cell_type": "code",
   "execution_count": 61,
   "id": "8b65ab9e",
   "metadata": {},
   "outputs": [
    {
     "data": {
      "text/plain": [
       "9"
      ]
     },
     "execution_count": 61,
     "metadata": {},
     "output_type": "execute_result"
    }
   ],
   "source": [
    "p_avg = (p1 .+ p2)./2; ## average the sample representing parochial chambers\n",
    "r_avg = getRank(p_avg, n) ## the average happens to have full rank"
   ]
  },
  {
   "cell_type": "markdown",
   "id": "7acc5231",
   "metadata": {},
   "source": [
    "### Low Rank Chambers"
   ]
  },
  {
   "cell_type": "code",
   "execution_count": 62,
   "id": "153d1ad4",
   "metadata": {},
   "outputs": [
    {
     "data": {
      "text/plain": [
       "4"
      ]
     },
     "execution_count": 62,
     "metadata": {},
     "output_type": "execute_result"
    }
   ],
   "source": [
    "low_rank = []\n",
    "s3_keys = collect(keys(s3))\n",
    "for s in eachindex(s3_keys)\n",
    "    if ranks[s] == 7\n",
    "        push!(low_rank, s)\n",
    "    end\n",
    "end\n",
    "length(low_rank)"
   ]
  },
  {
   "cell_type": "code",
   "execution_count": 63,
   "id": "a5fc647b",
   "metadata": {},
   "outputs": [
    {
     "data": {
      "text/plain": [
       "4-element Vector{Any}:\n",
       " Bool[1, 1, 1, 1, 1, 1, 1]\n",
       " Bool[1, 0, 0, 0, 0, 0, 0]\n",
       " Bool[0, 1, 1, 1, 1, 1, 1]\n",
       " Bool[0, 0, 0, 0, 0, 0, 0]"
      ]
     },
     "execution_count": 63,
     "metadata": {},
     "output_type": "execute_result"
    }
   ],
   "source": [
    "## two of the chambers are parochial\n",
    "s3_keys[low_rank]"
   ]
  },
  {
   "cell_type": "markdown",
   "id": "2512c7db",
   "metadata": {},
   "source": [
    "### Testing to_lambda function"
   ]
  },
  {
   "cell_type": "code",
   "execution_count": 64,
   "id": "ab749e5c",
   "metadata": {},
   "outputs": [
    {
     "data": {
      "text/plain": [
       "7-element Vector{Bool}:\n",
       " 0\n",
       " 0\n",
       " 0\n",
       " 1\n",
       " 1\n",
       " 1\n",
       " 1"
      ]
     },
     "execution_count": 64,
     "metadata": {},
     "output_type": "execute_result"
    }
   ],
   "source": [
    "s0 = collect(values(s3))[1];\n",
    "ineq(s0, H3)"
   ]
  },
  {
   "cell_type": "code",
   "execution_count": 65,
   "id": "9a1c44c3",
   "metadata": {},
   "outputs": [
    {
     "ename": "LoadError",
     "evalue": "UndefVarError: m1 not defined",
     "output_type": "error",
     "traceback": [
      "UndefVarError: m1 not defined",
      "",
      "Stacktrace:",
      " [1] top-level scope",
      "   @ .\\In[65]:3"
     ]
    }
   ],
   "source": [
    "G = [[0, 2, 1], [1, 1, 1], [1, 0, 2], [1, 2, 0], [2, 2, 2], [2, 1, 0], [2, 0, 1]]\n",
    "for g in G\n",
    "    print(computeLambda(g, m1, to_lambda(s0[1:3], s0[4:6], 3), 3), ' ')\n",
    "    println(computeLambda(g, m2, to_lambda(s0[1:3], s0[4:6], 3), 3))\n",
    "end"
   ]
  },
  {
   "cell_type": "code",
   "execution_count": 66,
   "id": "80dbe4bf",
   "metadata": {},
   "outputs": [
    {
     "data": {
      "text/plain": [
       "6-element Vector{Float64}:\n",
       " -0.13073104832537963\n",
       " -0.16128647602045898\n",
       "  0.3365483048943869\n",
       "  0.017528504652706944\n",
       "  0.14811789844717083\n",
       " -0.16564640309987777"
      ]
     },
     "execution_count": 66,
     "metadata": {},
     "output_type": "execute_result"
    }
   ],
   "source": [
    "s0"
   ]
  },
  {
   "cell_type": "markdown",
   "id": "2f26351c",
   "metadata": {},
   "source": [
    "## Example $n = 4$"
   ]
  },
  {
   "cell_type": "markdown",
   "id": "c0c321b3",
   "metadata": {},
   "source": [
    "### Generate the Hyperplanes"
   ]
  },
  {
   "cell_type": "code",
   "execution_count": 67,
   "id": "0c961fd7",
   "metadata": {},
   "outputs": [
    {
     "data": {
      "text/plain": [
       "13-element Vector{Matrix{Int64}}:\n",
       " [1 0 … 0 0]\n",
       " [0 0 … -1 0]\n",
       " [0 0 … 0 0]\n",
       " [0 0 … 1 0]\n",
       " [0 0 … 0 0]\n",
       " [0 1 … -1 0]\n",
       " [0 1 … 0 0]\n",
       " [0 1 … 0 0]\n",
       " [0 1 … 0 -1]\n",
       " [0 0 … 0 1]\n",
       " [0 0 … 1 0]\n",
       " [0 0 … 0 0]\n",
       " [0 0 … 0 0]"
      ]
     },
     "execution_count": 67,
     "metadata": {},
     "output_type": "execute_result"
    }
   ],
   "source": [
    "## mu 0 1 2 3 eta 10 21 32 03\n",
    "H4 = [[1 0 0 0 0 0 0 0], [0 0 1 0 0 -1 -1 0], [0 0 1 0 -1 -1 0 0], [0 0 1 0 0 1 1 0], [0 0 1 0 1 1 0 0], [0 1 0 0 0 0 -1 0], [0 1 0 0 0 -1 0 0], [0 1 0 0 -1 0 0 0], [0 1 0 0 0 0 0 -1], [0 0 0 1 0 0 0 1], [0 0 0 1 0 0 1 0], [0 0 0 1 0 1 0 0], [0 0 0 1 1 0 0 0]]"
   ]
  },
  {
   "cell_type": "markdown",
   "id": "87fc300b",
   "metadata": {},
   "source": [
    "### Generate Sample Points"
   ]
  },
  {
   "cell_type": "code",
   "execution_count": 68,
   "id": "39ab8365",
   "metadata": {},
   "outputs": [],
   "source": [
    "## 2328"
   ]
  },
  {
   "cell_type": "code",
   "execution_count": 69,
   "id": "97048d12",
   "metadata": {},
   "outputs": [
    {
     "data": {
      "text/plain": [
       "sample_info (generic function with 1 method)"
      ]
     },
     "execution_count": 69,
     "metadata": {},
     "output_type": "execute_result"
    }
   ],
   "source": [
    "function sample_info(n, H, N)\n",
    "    @time S = sample(n, H, N)\n",
    "    println(length(S))\n",
    "    ranks = [getRank(s, n) for s in collect(values(S))];\n",
    "    R = sort(collect(Set(ranks)))\n",
    "    println(\"R=\", R)\n",
    "    counts = [sum([r==k for r in ranks]) for k in R]; ## tabulate the ranks\n",
    "    println(counts)\n",
    "    priors = [100*c/sum(counts) for c in counts]; ## compute priors (% of samples with given rank)\n",
    "    println(priors)\n",
    "    return S\n",
    "end"
   ]
  },
  {
   "cell_type": "code",
   "execution_count": 70,
   "id": "a5e4e060",
   "metadata": {},
   "outputs": [
    {
     "name": "stdout",
     "output_type": "stream",
     "text": [
      "  0.670202 seconds (3.15 M allocations: 272.112 MiB, 10.65% gc time)\n",
      "2328\n",
      "R=[10, 11, 12, 13, 14, 15, 16]\n",
      "[4, 48, 180, 496, 864, 624, 112]\n",
      "[0.1718213058419244, 2.0618556701030926, 7.731958762886598, 21.305841924398624, 37.11340206185567, 26.804123711340207, 4.810996563573883]\n"
     ]
    }
   ],
   "source": [
    "s4 = sample_info(4, H4, 2^20);"
   ]
  },
  {
   "cell_type": "markdown",
   "id": "37e6bf51",
   "metadata": {},
   "source": [
    "### Check Neighbors"
   ]
  },
  {
   "cell_type": "code",
   "execution_count": 71,
   "id": "0731f92a",
   "metadata": {},
   "outputs": [
    {
     "data": {
      "text/plain": [
       "check_neighbors (generic function with 1 method)"
      ]
     },
     "execution_count": 71,
     "metadata": {},
     "output_type": "execute_result"
    }
   ],
   "source": [
    "function check_neighbors(S, n)\n",
    "    for I in collect(keys(S))\n",
    "        s = S[I]\n",
    "        curr_rank = getRank(s, n)\n",
    "        for J in collect(keys(S))\n",
    "            if neighbors(I, J)\n",
    "                neighbor = S[J]\n",
    "                n_rank = getRank(neighbor, n)\n",
    "                diff = abs(curr_rank - n_rank)\n",
    "                if diff > 1\n",
    "                    print(diff)\n",
    "                end\n",
    "            end\n",
    "        end\n",
    "    end\n",
    "end"
   ]
  },
  {
   "cell_type": "code",
   "execution_count": 72,
   "id": "bfb1229b",
   "metadata": {},
   "outputs": [],
   "source": [
    "check_neighbors(s4, 4)"
   ]
  },
  {
   "cell_type": "markdown",
   "id": "32c9c361",
   "metadata": {},
   "source": [
    "### Check Parochial Chambers"
   ]
  },
  {
   "cell_type": "code",
   "execution_count": 73,
   "id": "f81757b4",
   "metadata": {},
   "outputs": [
    {
     "name": "stdout",
     "output_type": "stream",
     "text": [
      "10 10"
     ]
    }
   ],
   "source": [
    "p0 = s4[[0, 0, 0, 0, 0, 0, 0, 0, 0, 0, 0, 0, 0]];\n",
    "p1 = s4[[1, 1, 1, 1, 1, 1, 1, 1, 1, 1, 1, 1, 1]];\n",
    "r0 = getRank(p0, 4)\n",
    "r1 = getRank(p1, 4)\n",
    "print(r0, ' ', r1)"
   ]
  },
  {
   "cell_type": "markdown",
   "id": "5baa3f61",
   "metadata": {},
   "source": [
    "### Low Rank Chambers"
   ]
  },
  {
   "cell_type": "code",
   "execution_count": 74,
   "id": "ad414a0a",
   "metadata": {},
   "outputs": [
    {
     "data": {
      "text/plain": [
       "4"
      ]
     },
     "execution_count": 74,
     "metadata": {},
     "output_type": "execute_result"
    }
   ],
   "source": [
    "low_rank_4 = []\n",
    "for s in collect(keys(s4))\n",
    "    if getRank(s4[s], 4) == 10\n",
    "        push!(low_rank_4, s)\n",
    "    end\n",
    "end\n",
    "length(low_rank)"
   ]
  },
  {
   "cell_type": "code",
   "execution_count": 75,
   "id": "f585fc4a",
   "metadata": {},
   "outputs": [
    {
     "data": {
      "text/plain": [
       "4-element Vector{Any}:\n",
       " Bool[0, 0, 0, 0, 0, 0, 0, 0, 0, 0, 0, 0, 0]\n",
       " Bool[1, 0, 0, 0, 0, 0, 0, 0, 0, 0, 0, 0, 0]\n",
       " Bool[0, 1, 1, 1, 1, 1, 1, 1, 1, 1, 1, 1, 1]\n",
       " Bool[1, 1, 1, 1, 1, 1, 1, 1, 1, 1, 1, 1, 1]"
      ]
     },
     "execution_count": 75,
     "metadata": {},
     "output_type": "execute_result"
    }
   ],
   "source": [
    "low_rank_4"
   ]
  },
  {
   "cell_type": "markdown",
   "id": "54666d0e",
   "metadata": {},
   "source": [
    "### Dictionary of ranks => inequalities"
   ]
  },
  {
   "cell_type": "code",
   "execution_count": 76,
   "id": "e9c78376",
   "metadata": {},
   "outputs": [
    {
     "data": {
      "text/plain": [
       "Dict{Int64, Vector{Vector{Bool}}} with 3 entries:\n",
       "  7 => [[1, 1, 1, 1, 1, 1, 1], [1, 0, 0, 0, 0, 0, 0], [0, 1, 1, 1, 1, 1, 1], [0…\n",
       "  9 => [[0, 0, 0, 1, 1, 1, 1], [1, 1, 0, 1, 0, 0, 0], [0, 1, 1, 0, 1, 0, 1], [1…\n",
       "  8 => [[1, 0, 1, 0, 0, 0, 0], [0, 0, 0, 0, 1, 0, 0], [1, 1, 1, 1, 1, 0, 1], [1…"
      ]
     },
     "execution_count": 76,
     "metadata": {},
     "output_type": "execute_result"
    }
   ],
   "source": [
    "rdict_3 = Dict([r => [s3_keys[s] for s in eachindex(collect(keys(s3))) if ranks[s] == r] for r in R])"
   ]
  },
  {
   "cell_type": "code",
   "execution_count": 77,
   "id": "37278f38",
   "metadata": {},
   "outputs": [
    {
     "data": {
      "text/plain": [
       "64"
      ]
     },
     "execution_count": 77,
     "metadata": {},
     "output_type": "execute_result"
    }
   ],
   "source": [
    "length(rdict_3[9])"
   ]
  },
  {
   "cell_type": "code",
   "execution_count": 78,
   "id": "cd321831",
   "metadata": {},
   "outputs": [
    {
     "data": {
      "text/plain": [
       "rankToIDict (generic function with 1 method)"
      ]
     },
     "execution_count": 78,
     "metadata": {},
     "output_type": "execute_result"
    }
   ],
   "source": [
    "function rankToIDict(S, R)\n",
    "    rToI = Dict()\n",
    "    K = collect(keys(S))\n",
    "    for r in Set(R)\n",
    "        rToI[r] = [K[s] for s in eachindex(K) if R[s] == r]\n",
    "    end\n",
    "    return rToI\n",
    "end"
   ]
  },
  {
   "cell_type": "code",
   "execution_count": 79,
   "id": "ecc0188a",
   "metadata": {},
   "outputs": [
    {
     "data": {
      "text/plain": [
       "Dict{Any, Any} with 7 entries:\n",
       "  13 => Vector{Bool}[[0, 0, 1, 0, 0, 0, 1, 0, 1, 0, 0, 0, 0], [1, 1, 1, 1, 1, 1…\n",
       "  16 => Vector{Bool}[[1, 0, 0, 1, 0, 0, 0, 1, 1, 1, 1, 1, 0], [0, 0, 1, 1, 0, 0…\n",
       "  15 => Vector{Bool}[[1, 1, 1, 0, 0, 0, 1, 1, 0, 1, 1, 1, 0], [0, 0, 1, 1, 0, 0…\n",
       "  11 => Vector{Bool}[[1, 1, 1, 1, 1, 1, 1, 1, 1, 1, 1, 1, 0], [0, 0, 0, 0, 0, 0…\n",
       "  10 => Vector{Bool}[[0, 0, 0, 0, 0, 0, 0, 0, 0, 0, 0, 0, 0], [1, 0, 0, 0, 0, 0…\n",
       "  12 => Vector{Bool}[[0, 0, 1, 0, 0, 0, 0, 0, 0, 0, 1, 0, 0], [1, 1, 1, 1, 1, 1…\n",
       "  14 => Vector{Bool}[[1, 1, 0, 1, 1, 1, 0, 1, 0, 0, 0, 0, 0], [1, 1, 1, 0, 0, 0…"
      ]
     },
     "execution_count": 79,
     "metadata": {},
     "output_type": "execute_result"
    }
   ],
   "source": [
    "rdict_4 = rankToIDict(s4, [getRank(s, 4) for s in collect(values(s4))])"
   ]
  },
  {
   "cell_type": "code",
   "execution_count": 80,
   "id": "528ef114",
   "metadata": {},
   "outputs": [
    {
     "name": "stdout",
     "output_type": "stream",
     "text": [
      "496\n",
      "112\n",
      "624\n",
      "48\n",
      "4\n",
      "180\n",
      "864\n"
     ]
    }
   ],
   "source": [
    "for r in collect(keys(rdict_4))\n",
    "    println(length(rdict_4[r]))\n",
    "end"
   ]
  },
  {
   "cell_type": "code",
   "execution_count": 81,
   "id": "e5924f24",
   "metadata": {},
   "outputs": [
    {
     "data": {
      "text/plain": [
       "printRanks (generic function with 1 method)"
      ]
     },
     "execution_count": 81,
     "metadata": {},
     "output_type": "execute_result"
    }
   ],
   "source": [
    "function printRanks(RI)\n",
    "    for r in sort(collect(keys(RI)))\n",
    "        println(\"## rank = \", r)\n",
    "\n",
    "        count = 0\n",
    "        for I in RI[r]\n",
    "            if count % 5 == 0\n",
    "                println()\n",
    "            end\n",
    "            for b in I\n",
    "                print(Int(b), ' ')\n",
    "            end\n",
    "            println()\n",
    "            count += 1\n",
    "        end\n",
    "\n",
    "        println()\n",
    "    end\n",
    "end"
   ]
  },
  {
   "cell_type": "code",
   "execution_count": 82,
   "id": "a1f58b98",
   "metadata": {},
   "outputs": [
    {
     "data": {
      "text/plain": [
       "latexRanks (generic function with 1 method)"
      ]
     },
     "execution_count": 82,
     "metadata": {},
     "output_type": "execute_result"
    }
   ],
   "source": [
    "function latexRanks(RI)\n",
    "    count = 1\n",
    "    for r in sort(collect(keys(RI)))\n",
    "        for I in RI[r]\n",
    "            print(count, \" & \")\n",
    "            for i in eachindex(I)\n",
    "                if i < length(I)\n",
    "                    print(Int(I[i]), \" & \")\n",
    "                else\n",
    "                    print(Int(I[i]), \" & \", r, \" & \\\\\\\\\")\n",
    "                end\n",
    "            end\n",
    "            println()\n",
    "            count += 1\n",
    "        end\n",
    "    end\n",
    "end"
   ]
  },
  {
   "cell_type": "code",
   "execution_count": 83,
   "id": "8b8e00ae",
   "metadata": {},
   "outputs": [
    {
     "name": "stdout",
     "output_type": "stream",
     "text": [
      "1 & 1 & 1 & 1 & 1 & 1 & 1 & 1 & 7 & \\\\\n",
      "2 & 1 & 0 & 0 & 0 & 0 & 0 & 0 & 7 & \\\\\n",
      "3 & 0 & 1 & 1 & 1 & 1 & 1 & 1 & 7 & \\\\\n",
      "4 & 0 & 0 & 0 & 0 & 0 & 0 & 0 & 7 & \\\\\n",
      "5 & 1 & 0 & 1 & 0 & 0 & 0 & 0 & 8 & \\\\\n",
      "6 & 0 & 0 & 0 & 0 & 1 & 0 & 0 & 8 & \\\\\n",
      "7 & 1 & 1 & 1 & 1 & 1 & 0 & 1 & 8 & \\\\\n",
      "8 & 1 & 1 & 1 & 1 & 1 & 1 & 0 & 8 & \\\\\n",
      "9 & 0 & 0 & 0 & 0 & 0 & 0 & 1 & 8 & \\\\\n",
      "10 & 0 & 0 & 0 & 0 & 0 & 1 & 0 & 8 & \\\\\n",
      "11 & 1 & 1 & 1 & 1 & 0 & 1 & 1 & 8 & \\\\\n",
      "12 & 0 & 1 & 0 & 1 & 1 & 1 & 1 & 8 & \\\\\n",
      "13 & 1 & 0 & 1 & 1 & 1 & 1 & 1 & 8 & \\\\\n",
      "14 & 0 & 0 & 0 & 1 & 0 & 0 & 0 & 8 & \\\\\n",
      "15 & 0 & 1 & 1 & 0 & 1 & 1 & 1 & 8 & \\\\\n",
      "16 & 0 & 0 & 1 & 0 & 0 & 0 & 0 & 8 & \\\\\n",
      "17 & 0 & 1 & 1 & 1 & 1 & 0 & 1 & 8 & \\\\\n",
      "18 & 0 & 1 & 1 & 1 & 1 & 1 & 0 & 8 & \\\\\n",
      "19 & 1 & 1 & 0 & 0 & 0 & 0 & 0 & 8 & \\\\\n",
      "20 & 1 & 0 & 0 & 0 & 1 & 0 & 0 & 8 & \\\\\n",
      "21 & 0 & 1 & 1 & 1 & 0 & 1 & 1 & 8 & \\\\\n",
      "22 & 0 & 0 & 1 & 1 & 1 & 1 & 1 & 8 & \\\\\n",
      "23 & 1 & 0 & 0 & 0 & 0 & 0 & 1 & 8 & \\\\\n",
      "24 & 1 & 0 & 0 & 0 & 0 & 1 & 0 & 8 & \\\\\n",
      "25 & 1 & 1 & 0 & 1 & 1 & 1 & 1 & 8 & \\\\\n",
      "26 & 1 & 1 & 1 & 0 & 1 & 1 & 1 & 8 & \\\\\n",
      "27 & 1 & 0 & 0 & 1 & 0 & 0 & 0 & 8 & \\\\\n",
      "28 & 0 & 1 & 0 & 0 & 0 & 0 & 0 & 8 & \\\\\n",
      "29 & 0 & 0 & 0 & 1 & 1 & 1 & 1 & 9 & \\\\\n",
      "30 & 1 & 1 & 0 & 1 & 0 & 0 & 0 & 9 & \\\\\n",
      "31 & 0 & 1 & 1 & 0 & 1 & 0 & 1 & 9 & \\\\\n",
      "32 & 1 & 0 & 0 & 1 & 1 & 0 & 0 & 9 & \\\\\n",
      "33 & 1 & 1 & 0 & 0 & 0 & 1 & 1 & 9 & \\\\\n",
      "34 & 0 & 1 & 1 & 1 & 0 & 0 & 0 & 9 & \\\\\n",
      "35 & 1 & 0 & 0 & 0 & 1 & 1 & 1 & 9 & \\\\\n",
      "36 & 0 & 0 & 1 & 1 & 1 & 0 & 0 & 9 & \\\\\n",
      "37 & 0 & 1 & 1 & 0 & 0 & 1 & 1 & 9 & \\\\\n",
      "38 & 1 & 0 & 0 & 1 & 0 & 1 & 0 & 9 & \\\\\n",
      "39 & 0 & 0 & 1 & 0 & 1 & 1 & 1 & 9 & \\\\\n",
      "40 & 1 & 1 & 1 & 0 & 0 & 0 & 0 & 9 & \\\\\n",
      "41 & 1 & 0 & 1 & 0 & 1 & 0 & 0 & 9 & \\\\\n",
      "42 & 0 & 1 & 0 & 0 & 0 & 0 & 1 & 9 & \\\\\n",
      "43 & 1 & 1 & 0 & 0 & 1 & 1 & 1 & 9 & \\\\\n",
      "44 & 0 & 1 & 1 & 1 & 1 & 0 & 0 & 9 & \\\\\n",
      "45 & 1 & 0 & 1 & 0 & 0 & 0 & 1 & 9 & \\\\\n",
      "46 & 0 & 0 & 0 & 0 & 1 & 0 & 1 & 9 & \\\\\n",
      "47 & 0 & 1 & 0 & 0 & 0 & 1 & 0 & 9 & \\\\\n",
      "48 & 1 & 1 & 0 & 1 & 0 & 1 & 0 & 9 & \\\\\n",
      "49 & 0 & 0 & 0 & 0 & 1 & 1 & 0 & 9 & \\\\\n",
      "50 & 1 & 0 & 0 & 1 & 1 & 1 & 0 & 9 & \\\\\n",
      "51 & 0 & 1 & 1 & 1 & 0 & 0 & 1 & 9 & \\\\\n",
      "52 & 0 & 1 & 1 & 1 & 0 & 1 & 0 & 9 & \\\\\n",
      "53 & 0 & 0 & 1 & 1 & 1 & 0 & 1 & 9 & \\\\\n",
      "54 & 0 & 0 & 0 & 0 & 0 & 1 & 1 & 9 & \\\\\n",
      "55 & 0 & 0 & 1 & 1 & 1 & 1 & 0 & 9 & \\\\\n",
      "56 & 1 & 1 & 1 & 0 & 0 & 0 & 1 & 9 & \\\\\n",
      "57 & 1 & 0 & 1 & 0 & 1 & 0 & 1 & 9 & \\\\\n",
      "58 & 0 & 1 & 0 & 1 & 0 & 0 & 0 & 9 & \\\\\n",
      "59 & 1 & 1 & 0 & 1 & 1 & 1 & 0 & 9 & \\\\\n",
      "60 & 1 & 0 & 1 & 1 & 0 & 0 & 0 & 9 & \\\\\n",
      "61 & 0 & 0 & 0 & 1 & 1 & 0 & 0 & 9 & \\\\\n",
      "62 & 0 & 1 & 0 & 0 & 0 & 1 & 1 & 9 & \\\\\n",
      "63 & 1 & 1 & 0 & 1 & 0 & 1 & 1 & 9 & \\\\\n",
      "64 & 0 & 0 & 0 & 0 & 1 & 1 & 1 & 9 & \\\\\n",
      "65 & 1 & 0 & 0 & 1 & 1 & 1 & 1 & 9 & \\\\\n",
      "66 & 0 & 0 & 0 & 1 & 0 & 1 & 0 & 9 & \\\\\n",
      "67 & 1 & 1 & 1 & 0 & 1 & 0 & 1 & 9 & \\\\\n",
      "68 & 0 & 1 & 1 & 0 & 0 & 0 & 0 & 9 & \\\\\n",
      "69 & 1 & 1 & 1 & 1 & 0 & 0 & 0 & 9 & \\\\\n",
      "70 & 0 & 0 & 1 & 0 & 1 & 0 & 0 & 9 & \\\\\n",
      "71 & 1 & 0 & 1 & 1 & 1 & 0 & 0 & 9 & \\\\\n",
      "72 & 1 & 1 & 1 & 0 & 0 & 1 & 1 & 9 & \\\\\n",
      "73 & 0 & 1 & 0 & 0 & 1 & 1 & 1 & 9 & \\\\\n",
      "74 & 0 & 0 & 1 & 0 & 0 & 0 & 1 & 9 & \\\\\n",
      "75 & 1 & 0 & 1 & 0 & 1 & 1 & 1 & 9 & \\\\\n",
      "76 & 0 & 1 & 0 & 1 & 0 & 1 & 0 & 9 & \\\\\n",
      "77 & 0 & 0 & 0 & 1 & 1 & 1 & 0 & 9 & \\\\\n",
      "78 & 1 & 1 & 0 & 0 & 0 & 0 & 1 & 9 & \\\\\n",
      "79 & 1 & 1 & 1 & 1 & 1 & 0 & 0 & 9 & \\\\\n",
      "80 & 1 & 0 & 0 & 0 & 1 & 0 & 1 & 9 & \\\\\n",
      "81 & 1 & 1 & 0 & 0 & 0 & 1 & 0 & 9 & \\\\\n",
      "82 & 0 & 1 & 1 & 0 & 0 & 0 & 1 & 9 & \\\\\n",
      "83 & 1 & 0 & 0 & 0 & 1 & 1 & 0 & 9 & \\\\\n",
      "84 & 1 & 1 & 1 & 1 & 0 & 0 & 1 & 9 & \\\\\n",
      "85 & 0 & 0 & 1 & 0 & 1 & 0 & 1 & 9 & \\\\\n",
      "86 & 1 & 1 & 1 & 1 & 0 & 1 & 0 & 9 & \\\\\n",
      "87 & 1 & 0 & 1 & 1 & 1 & 0 & 1 & 9 & \\\\\n",
      "88 & 0 & 1 & 0 & 1 & 1 & 1 & 0 & 9 & \\\\\n",
      "89 & 1 & 0 & 0 & 0 & 0 & 1 & 1 & 9 & \\\\\n",
      "90 & 0 & 0 & 1 & 1 & 0 & 0 & 0 & 9 & \\\\\n",
      "91 & 1 & 0 & 1 & 1 & 1 & 1 & 0 & 9 & \\\\\n",
      "92 & 0 & 1 & 0 & 1 & 0 & 1 & 1 & 9 & \\\\\n"
     ]
    }
   ],
   "source": [
    "latexRanks(rdict_3)"
   ]
  },
  {
   "cell_type": "markdown",
   "id": "7993328d",
   "metadata": {},
   "source": [
    "## Z2 x Z2"
   ]
  },
  {
   "cell_type": "code",
   "execution_count": 84,
   "id": "48460f3d",
   "metadata": {},
   "outputs": [
    {
     "data": {
      "text/plain": [
       "13-element Vector{Matrix{Int64}}:\n",
       " [1 0 … 0 0]\n",
       " [0 1 … 0 0]\n",
       " [0 1 … 0 1]\n",
       " [0 1 … 0 0]\n",
       " [0 1 … 0 -1]\n",
       " [0 0 … 0 0]\n",
       " [0 0 … 1 0]\n",
       " [0 0 … 0 0]\n",
       " [0 0 … -1 0]\n",
       " [0 0 … 0 0]\n",
       " [0 0 … 0 0]\n",
       " [0 0 … 0 0]\n",
       " [0 0 … 0 0]"
      ]
     },
     "execution_count": 84,
     "metadata": {},
     "output_type": "execute_result"
    }
   ],
   "source": [
    "## mu 0 1 2 3, eta 10 20 21 30 31 32\n",
    "H22 = [[1 0 0 0 0 0 0 0 0 0], [0 1 0 0 1 0 0 0 0 0], [0 1 0 0 0 0 0 0 0 1], [0 1 0 0 -1 0 0 0 0 0], [0 1 0 0 0 0 0 0 0 -1], [0 0 1 0 0 1 0 0 0 0], [0 0 1 0 0 0 0 0 1 0], [0 0 1 0 0 -1 0 0 0 0], [0 0 1 0 0 0 0 0 -1 0], [0 0 0 1 0 0 1 0 0 0], [0 0 0 1 0 0 0 1 0 0], [0 0 0 1 0 0 -1 0 0 0], [0 0 0 1 0 0 0 -1 0 0]]"
   ]
  },
  {
   "cell_type": "code",
   "execution_count": null,
   "id": "b70e6cc1",
   "metadata": {},
   "outputs": [],
   "source": [
    "groupStructure = 4\n",
    "@time s22 = sample([2, 2], H22, 2^20); ## get the sample points (< 2 seconds usually)\n",
    "println(length(s22))\n",
    "ranks = [getRank(s, n) for s in collect(values(s22))]; ## get the rank for each sample point\n",
    "R = Set(ranks)\n",
    "println(\"R=\", R)\n",
    "counts = [sum([r==k for r in ranks]) for k in R]; ## tabulate the ranks\n",
    "priors = [c/sum(counts) for c in counts]; ## compute priors (% of samples with given rank)\n",
    "counts"
   ]
  }
 ],
 "metadata": {
  "kernelspec": {
   "display_name": "Julia 1.8.5",
   "language": "julia",
   "name": "julia-1.8"
  },
  "language_info": {
   "file_extension": ".jl",
   "mimetype": "application/julia",
   "name": "julia",
   "version": "1.8.5"
  }
 },
 "nbformat": 4,
 "nbformat_minor": 5
}
