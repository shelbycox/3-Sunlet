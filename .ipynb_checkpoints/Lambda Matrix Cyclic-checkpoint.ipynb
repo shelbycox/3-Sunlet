{
 "cells": [
  {
   "cell_type": "code",
   "execution_count": 14,
   "id": "e936d971",
   "metadata": {},
   "outputs": [],
   "source": [
    "using LinearAlgebra, Combinatorics"
   ]
  },
  {
   "cell_type": "markdown",
   "id": "61c058d4",
   "metadata": {},
   "source": [
    "## Model Presets\n",
    "\n",
    "#### n\n",
    "The size of the cyclic group.\n",
    "\n",
    "#### m1, m2\n",
    "A choice of basis for the 3-sunlet model."
   ]
  },
  {
   "cell_type": "code",
   "execution_count": 2,
   "id": "db617117",
   "metadata": {},
   "outputs": [
    {
     "data": {
      "text/plain": [
       "2-element Vector{Dict{Int64, Vector{Int64}}}:\n",
       " Dict(5 => [1], 4 => [1, 2])\n",
       " Dict(4 => [2], 6 => [1])"
      ]
     },
     "execution_count": 2,
     "metadata": {},
     "output_type": "execute_result"
    }
   ],
   "source": [
    "m1 = Dict([4=>[1,2], 5=>[1]])\n",
    "m2 = Dict([4=>[2], 6=>[1]])\n",
    "M = [m1, m2]"
   ]
  },
  {
   "cell_type": "markdown",
   "id": "e55cb4ee",
   "metadata": {},
   "source": [
    "### computeLambda\n",
    "\n",
    "Computes lambda(m) for a choice of the following parameters:\n",
    "\n",
    "- lambda in R^3\n",
    "- m one of m1 or m2\n",
    "- G a triple of group elements"
   ]
  },
  {
   "cell_type": "code",
   "execution_count": 3,
   "id": "cdda8e8a",
   "metadata": {},
   "outputs": [
    {
     "data": {
      "text/plain": [
       "computeLambda (generic function with 1 method)"
      ]
     },
     "execution_count": 3,
     "metadata": {},
     "output_type": "execute_result"
    }
   ],
   "source": [
    "function computeLambda(G, m, l, n)\n",
    "    func = []\n",
    "    \n",
    "    for i in collect(keys(m))\n",
    "        lower_index = i\n",
    "        upper_index = (sum([G[j] for j in m[i]]) % n)\n",
    "        push!(func, (lower_index, upper_index))\n",
    "    end\n",
    "    \n",
    "    return sum([l[I] for I in func])\n",
    "end"
   ]
  },
  {
   "cell_type": "markdown",
   "id": "0760ad93",
   "metadata": {},
   "source": [
    "### make a table \n",
    "\n",
    "- columns are lambda(m1), lambda(m2),\n",
    "- rows are triples of group elements that sum to 0"
   ]
  },
  {
   "cell_type": "code",
   "execution_count": 4,
   "id": "752b2dc9",
   "metadata": {},
   "outputs": [
    {
     "data": {
      "text/plain": [
       "4×2 Matrix{Int64}:\n",
       " -1   2\n",
       "  1  -2\n",
       " -1   2\n",
       "  1  -2"
      ]
     },
     "execution_count": 4,
     "metadata": {},
     "output_type": "execute_result"
    }
   ],
   "source": [
    "lam = Dict([(5,0)=>-1, (5,1)=>1, (6,0)=>2, (6,1)=>-2, (4,1)=>0, (4,0)=>0])\n",
    "\n",
    "## make a table for the small example Sam gave\n",
    "T = Matrix{Int64}(undef, 4, 2)\n",
    "for i=1:2\n",
    "    col = []\n",
    "    for g in [[0,0,0], [1,0,1], [0,1,1], [1,1,0]]\n",
    "        push!(col, computeLambda(g, M[i], lam, 2))\n",
    "    end\n",
    "    T[:,i] = col\n",
    "end\n",
    "\n",
    "T"
   ]
  },
  {
   "cell_type": "markdown",
   "id": "96b9041b",
   "metadata": {},
   "source": [
    "## getWinner\n",
    "\n",
    "Given\n",
    "- a triple of group elements G\n",
    "- a vector lambda in R^(5n)\n",
    "\n",
    "return i such that lambda(mi) < lambda(mj), {i,j} = {1,2}"
   ]
  },
  {
   "cell_type": "code",
   "execution_count": 5,
   "id": "2783547b",
   "metadata": {},
   "outputs": [
    {
     "data": {
      "text/plain": [
       "getWinner (generic function with 1 method)"
      ]
     },
     "execution_count": 5,
     "metadata": {},
     "output_type": "execute_result"
    }
   ],
   "source": [
    "function getWinner(G, l, n)\n",
    "    s1 = computeLambda(G, m1, l, n)\n",
    "    s2 = computeLambda(G, m2, l, n)\n",
    "    \n",
    "    if s1 <= s2\n",
    "        return 1\n",
    "    else\n",
    "        return 2\n",
    "    end\n",
    "end"
   ]
  },
  {
   "cell_type": "markdown",
   "id": "a948fcb5",
   "metadata": {},
   "source": [
    "## getVector\n",
    "Given\n",
    "\n",
    "- a triple of group elements g\n",
    "- a choice m of m1, m2\n",
    "\n",
    "return the corresponding 0-1 exponent vector."
   ]
  },
  {
   "cell_type": "code",
   "execution_count": 6,
   "id": "72d97f5a",
   "metadata": {},
   "outputs": [
    {
     "data": {
      "text/plain": [
       "getVector (generic function with 1 method)"
      ]
     },
     "execution_count": 6,
     "metadata": {},
     "output_type": "execute_result"
    }
   ],
   "source": [
    "## indexes are off, so \n",
    "function getVector(g, m, n)\n",
    "    vector = Array{Int64}(undef, n*5, 1)\n",
    "    \n",
    "    g1, g2, g3 = g\n",
    "    \n",
    "    a2 = [0 for i=1:n]\n",
    "    if g2 == n\n",
    "        a2[1] = 1\n",
    "    else\n",
    "        a2[g2 + 1] = 1\n",
    "    end\n",
    "    vector[1:n,:] = a2\n",
    "    \n",
    "    a3 = [0 for i=1:n]\n",
    "    if g3 == n\n",
    "        a3[1] = 1\n",
    "    else\n",
    "        a3[g3 + 1] = 1\n",
    "    end\n",
    "    vector[n+1:2*n,:] = a3\n",
    "    \n",
    "    for i=4:6\n",
    "        entry = [0 for k=1:n]\n",
    "        if i in keys(m)\n",
    "            e = (sum([g[j] for j in m[i]]) % n) + 1\n",
    "            entry[e] = 1\n",
    "        end\n",
    "        vector[(i-2)*n+1:(i-1)*n,:] = entry\n",
    "    end\n",
    "    \n",
    "    return collect(vector)\n",
    "end"
   ]
  },
  {
   "cell_type": "code",
   "execution_count": 7,
   "id": "2461b0be",
   "metadata": {},
   "outputs": [
    {
     "data": {
      "text/plain": [
       "10×1 Matrix{Int64}:\n",
       " 1\n",
       " 0\n",
       " 1\n",
       " 0\n",
       " 1\n",
       " 0\n",
       " 1\n",
       " 0\n",
       " 0\n",
       " 0"
      ]
     },
     "execution_count": 7,
     "metadata": {},
     "output_type": "execute_result"
    }
   ],
   "source": [
    "getVector([2,2,2], m1, 2)"
   ]
  },
  {
   "cell_type": "markdown",
   "id": "5b3c65db",
   "metadata": {},
   "source": [
    "## getMatrix\n",
    "\n",
    "Given\n",
    "\n",
    "- a vector l in R^(5n)\n",
    "\n",
    "Return the corresponding matrix of exponent vectors."
   ]
  },
  {
   "cell_type": "code",
   "execution_count": 8,
   "id": "b7efc426",
   "metadata": {},
   "outputs": [
    {
     "data": {
      "text/plain": [
       "getMatrix (generic function with 1 method)"
      ]
     },
     "execution_count": 8,
     "metadata": {},
     "output_type": "execute_result"
    }
   ],
   "source": [
    "function getMatrix(l, n)\n",
    "    ## list of triples of group elements\n",
    "    G = [t for t in collect(Iterators.product(1:n,1:n,1:n)) if (sum(t) % n) == 0]\n",
    "    \n",
    "    A = Matrix{Int64}(undef, n*5, length(G))\n",
    "    \n",
    "    ## for each group element, compute the winner and then the corresponding vector\n",
    "    for i=1:length(G)\n",
    "        g = G[i]\n",
    "        \n",
    "        ## computing the winner\n",
    "        winner = getWinner(g, l, n)\n",
    "        \n",
    "        ## getting the corresponding vector\n",
    "        A[:,i] = getVector(g, M[winner], n)\n",
    "    end\n",
    "    \n",
    "    return A\n",
    "end"
   ]
  },
  {
   "cell_type": "markdown",
   "id": "29f416e9",
   "metadata": {},
   "source": [
    "### Get the rank of the matrix using LinearAlgebra.jl"
   ]
  },
  {
   "cell_type": "code",
   "execution_count": 9,
   "id": "293bc90f",
   "metadata": {},
   "outputs": [
    {
     "name": "stdout",
     "output_type": "stream",
     "text": [
      "4[(2, 1, 1), (1, 2, 1), (1, 1, 2), (2, 2, 2)]"
     ]
    },
    {
     "data": {
      "text/plain": [
       "10×4 Matrix{Int64}:\n",
       " 0  1  0  1\n",
       " 1  0  1  0\n",
       " 0  0  1  1\n",
       " 1  1  0  0\n",
       " 0  1  0  1\n",
       " 1  0  1  0\n",
       " 1  0  0  1\n",
       " 0  0  0  0\n",
       " 0  0  0  0\n",
       " 0  1  1  0"
      ]
     },
     "execution_count": 9,
     "metadata": {},
     "output_type": "execute_result"
    }
   ],
   "source": [
    "## check the rank of the matrix\n",
    "n = 2\n",
    "\n",
    "A = getMatrix(lam, 2)\n",
    "\n",
    "print(LinearAlgebra.rank(A))\n",
    "print([t for t in collect(Iterators.product(1:n,1:n,1:n)) if (sum(t) % n) == 0])\n",
    "A"
   ]
  },
  {
   "cell_type": "markdown",
   "id": "dd417ea8",
   "metadata": {},
   "source": [
    "### Random lambda generator"
   ]
  },
  {
   "cell_type": "code",
   "execution_count": 16,
   "id": "046f5dee",
   "metadata": {},
   "outputs": [
    {
     "data": {
      "text/plain": [
       "rlam (generic function with 1 method)"
      ]
     },
     "execution_count": 16,
     "metadata": {},
     "output_type": "execute_result"
    }
   ],
   "source": [
    "rlam(n) = Dict([(i,j)=>rand(Float64)-.5 for i=4:6, j=0:(n-1)])"
   ]
  },
  {
   "cell_type": "code",
   "execution_count": 17,
   "id": "f8f5f683",
   "metadata": {},
   "outputs": [
    {
     "data": {
      "text/plain": [
       "30×36 Matrix{Int64}:\n",
       " 0  0  0  0  0  1  0  0  0  0  0  1  0  …  0  0  0  0  0  1  0  0  0  0  0  1\n",
       " 1  0  0  0  0  0  1  0  0  0  0  0  1     1  0  0  0  0  0  1  0  0  0  0  0\n",
       " 0  1  0  0  0  0  0  1  0  0  0  0  0     0  1  0  0  0  0  0  1  0  0  0  0\n",
       " 0  0  1  0  0  0  0  0  1  0  0  0  0     0  0  1  0  0  0  0  0  1  0  0  0\n",
       " 0  0  0  1  0  0  0  0  0  1  0  0  0     0  0  0  1  0  0  0  0  0  1  0  0\n",
       " 0  0  0  0  1  0  0  0  0  0  1  0  0  …  0  0  0  0  1  0  0  0  0  0  1  0\n",
       " 0  0  0  0  0  0  0  0  0  0  0  0  0     0  0  0  0  0  0  1  1  1  1  1  1\n",
       " 1  1  1  1  1  1  0  0  0  0  0  0  0     0  0  0  0  0  0  0  0  0  0  0  0\n",
       " 0  0  0  0  0  0  1  1  1  1  1  1  0     0  0  0  0  0  0  0  0  0  0  0  0\n",
       " 0  0  0  0  0  0  0  0  0  0  0  0  1     0  0  0  0  0  0  0  0  0  0  0  0\n",
       " 0  0  0  0  0  0  0  0  0  0  0  0  0  …  0  0  0  0  0  0  0  0  0  0  0  0\n",
       " 0  0  0  0  0  0  0  0  0  0  0  0  0     1  1  1  1  1  1  0  0  0  0  0  0\n",
       " 0  0  0  0  0  0  0  0  0  0  0  0  0     0  0  0  0  0  1  1  1  0  0  0  1\n",
       " ⋮              ⋮              ⋮        ⋱     ⋮              ⋮              ⋮\n",
       " 0  0  0  0  1  0  0  0  0  1  0  0  0     1  0  0  0  0  0  0  0  0  0  0  1\n",
       " 0  0  0  0  0  0  0  0  0  0  0  0  0     0  0  0  0  0  0  0  0  0  0  0  0\n",
       " 0  0  0  0  0  0  0  0  0  0  0  0  0  …  0  0  0  0  0  0  0  0  0  0  0  0\n",
       " 0  0  0  0  0  0  0  0  0  0  0  0  0     0  0  0  0  0  0  0  0  0  0  0  0\n",
       " 0  0  0  0  0  0  0  0  0  0  0  1  0     0  0  0  0  0  0  0  1  0  0  0  0\n",
       " 0  0  0  0  0  1  0  0  0  0  1  0  0     0  1  0  0  0  0  1  0  0  0  0  0\n",
       " 0  0  0  0  0  0  0  0  0  0  0  0  0     0  0  0  0  0  0  0  0  0  0  0  0\n",
       " 0  0  0  1  0  0  0  0  1  0  0  0  0  …  0  0  0  0  0  1  0  0  0  0  1  0\n",
       " 0  0  1  0  0  0  0  1  0  0  0  0  1     0  0  0  0  1  0  0  0  0  1  0  0\n",
       " 0  1  0  0  0  0  1  0  0  0  0  0  0     0  0  0  1  0  0  0  0  1  0  0  0\n",
       " 1  0  0  0  0  0  0  0  0  0  0  0  0     0  0  1  0  0  0  0  0  0  0  0  0\n",
       " 0  0  0  0  0  0  0  0  0  0  0  0  0     0  0  0  0  0  0  0  0  0  0  0  0"
      ]
     },
     "execution_count": 17,
     "metadata": {},
     "output_type": "execute_result"
    }
   ],
   "source": [
    "A = getMatrix(rlam(6), 6)"
   ]
  },
  {
   "cell_type": "code",
   "execution_count": 18,
   "id": "ba6f689b",
   "metadata": {},
   "outputs": [
    {
     "data": {
      "text/plain": [
       "23"
      ]
     },
     "execution_count": 18,
     "metadata": {},
     "output_type": "execute_result"
    }
   ],
   "source": [
    "LinearAlgebra.rank(A)"
   ]
  },
  {
   "cell_type": "code",
   "execution_count": 19,
   "id": "fe94311c",
   "metadata": {},
   "outputs": [
    {
     "data": {
      "text/plain": [
       "genData (generic function with 1 method)"
      ]
     },
     "execution_count": 19,
     "metadata": {},
     "output_type": "execute_result"
    }
   ],
   "source": [
    "function genData(n, N)\n",
    "    # for now just recording the rank\n",
    "    data = []\n",
    "    for i=1:N\n",
    "        l = rlam(n)\n",
    "        A = getMatrix(l, n)\n",
    "        r = LinearAlgebra.rank(A)\n",
    "        push!(data, r)\n",
    "    end\n",
    "    \n",
    "    return data\n",
    "end"
   ]
  },
  {
   "cell_type": "code",
   "execution_count": 20,
   "id": "6e8e8ede",
   "metadata": {},
   "outputs": [],
   "source": [
    "D = genData(6,10000);"
   ]
  },
  {
   "cell_type": "code",
   "execution_count": 21,
   "id": "54099799",
   "metadata": {},
   "outputs": [
    {
     "name": "stdout",
     "output_type": "stream",
     "text": [
      "16 24.3363 26"
     ]
    }
   ],
   "source": [
    "print(minimum(D), ' ', sum(D)/10000, ' ', maximum(D))"
   ]
  },
  {
   "cell_type": "markdown",
   "id": "20046c58",
   "metadata": {},
   "source": [
    "### Testing Systematically\n",
    "\n",
    "The matrix obtained depends on the choice signs in the following inequalities:\n",
    "\n",
    "- $\\mu_0$ ? 0\n",
    "- $\\mu_i$ ? $\\eta_j$\n",
    "\n",
    "where $\\mu_k = \\lambda_6^k - \\lambda_5^k$ and $\\eta_k = \\lambda_4^k - \\lambda_4^{k-1}$. The code below generates a lambda for each collection of sign choices."
   ]
  },
  {
   "cell_type": "code",
   "execution_count": 16,
   "id": "cd0c06a9",
   "metadata": {},
   "outputs": [],
   "source": [
    "## doing n = 6 first\n",
    "##      40 41 42 43 44 45 50 51 52 53 54 55 60 61 62 63 64 65\n",
    "sample_6 = collect(Iterators.product(0, 0:2, 0:2, 0:2, 0:2, 0:2, 0, 0, 0, 0, 0, 0, -1:1, -1:1, -1:1, -1:1, -1:1, -1:1));\n",
    "indices_6 = vec([(i,j) for j=0:5, i=4:6]);"
   ]
  },
  {
   "cell_type": "code",
   "execution_count": 17,
   "id": "c0691626",
   "metadata": {},
   "outputs": [],
   "source": [
    "sample_5 = collect(Iterators.product(0, 0:2, 0:2, 0:2, 0:2, 0, 0, 0, 0, 0, -1:1, -1:1, -1:1, -1:1, -1:1));\n",
    "indices_5 = vec([(i,j) for j=0:4, i=4:6]);"
   ]
  },
  {
   "cell_type": "code",
   "execution_count": 18,
   "id": "58ffb928",
   "metadata": {},
   "outputs": [
    {
     "data": {
      "text/plain": [
       "18"
      ]
     },
     "execution_count": 18,
     "metadata": {},
     "output_type": "execute_result"
    }
   ],
   "source": [
    "length(indices_6)"
   ]
  },
  {
   "cell_type": "code",
   "execution_count": 22,
   "id": "b5e5a1a4",
   "metadata": {},
   "outputs": [
    {
     "data": {
      "text/plain": [
       "sample (generic function with 1 method)"
      ]
     },
     "execution_count": 22,
     "metadata": {},
     "output_type": "execute_result"
    }
   ],
   "source": [
    "## in general\n",
    "indices(n) = vec([(i,j) for j=0:(n-1), i=4:6])\n",
    "\n",
    "function sample_ranges(n)\n",
    "    ranges = [0:0]\n",
    "    for i=1:(n-1)\n",
    "        push!(ranges, 0:2)\n",
    "    end\n",
    "\n",
    "    for i=1:n\n",
    "        push!(ranges, 0:0)\n",
    "    end\n",
    "\n",
    "    for i=1:n\n",
    "        push!(ranges, -1:1)\n",
    "    end\n",
    "    \n",
    "    return ranges\n",
    "end\n",
    "\n",
    "function sample(n)\n",
    "    sample_0 = collect(Iterators.flatten(Iterators.product(sample_ranges(n)...)))\n",
    "    \n",
    "    sample = [sample_0[3*n*k+1:3*n*k+3*n] for k=0:-1+Int(trunc(length(sample_0)/(3*n)))]\n",
    "    \n",
    "    return sample\n",
    "end"
   ]
  },
  {
   "cell_type": "code",
   "execution_count": 23,
   "id": "768915b7",
   "metadata": {},
   "outputs": [],
   "source": [
    "indices_4 = indices(4);\n",
    "sample_4 = sample(4);"
   ]
  },
  {
   "cell_type": "code",
   "execution_count": null,
   "id": "a2188061",
   "metadata": {},
   "outputs": [],
   "source": []
  },
  {
   "cell_type": "code",
   "execution_count": 64,
   "id": "735d70db",
   "metadata": {},
   "outputs": [
    {
     "name": "stdout",
     "output_type": "stream",
     "text": [
      "18 177147"
     ]
    }
   ],
   "source": [
    "indices_6 = indices(6);\n",
    "samples_6 = sample(6);\n",
    "print(length(indices_6), ' ', length(sample_6))"
   ]
  },
  {
   "cell_type": "code",
   "execution_count": 65,
   "id": "9e84c8ca",
   "metadata": {},
   "outputs": [],
   "source": [
    "data = []\n",
    "for s in sample_6\n",
    "    L = Dict([indices_6[i]=>s[i] for i=1:18])\n",
    "    B = getMatrix(L, 6)\n",
    "    r = LinearAlgebra.rank(B)\n",
    "    push!(data, r)\n",
    "end"
   ]
  },
  {
   "cell_type": "code",
   "execution_count": 24,
   "id": "54ca63ca",
   "metadata": {},
   "outputs": [
    {
     "data": {
      "text/plain": [
       "get_data (generic function with 1 method)"
      ]
     },
     "execution_count": 24,
     "metadata": {},
     "output_type": "execute_result"
    }
   ],
   "source": [
    "function get_data(sample, indices, n)\n",
    "    data = []\n",
    "    for s in sample\n",
    "        L = Dict([indices[i]=>s[i] for i=1:3*n])\n",
    "        B = getMatrix(L, n)\n",
    "        r = LinearAlgebra.rank(B)\n",
    "        ## maybe add more to data here?\n",
    "        push!(data, r)\n",
    "    end\n",
    "    return data\n",
    "end"
   ]
  },
  {
   "cell_type": "code",
   "execution_count": 23,
   "id": "5be89262",
   "metadata": {},
   "outputs": [
    {
     "data": {
      "text/plain": [
       "19683-element Vector{Any}:\n",
       " 13\n",
       " 17\n",
       " 17\n",
       " 17\n",
       " 19\n",
       " 20\n",
       " 17\n",
       " 20\n",
       " 19\n",
       " 17\n",
       " 19\n",
       " 20\n",
       " 19\n",
       "  ⋮\n",
       " 17\n",
       " 15\n",
       " 16\n",
       " 19\n",
       " 17\n",
       " 19\n",
       " 17\n",
       " 15\n",
       " 16\n",
       " 19\n",
       " 16\n",
       " 17"
      ]
     },
     "execution_count": 23,
     "metadata": {},
     "output_type": "execute_result"
    }
   ],
   "source": [
    "d5 = get_data(sample_5, indices_5, 5);"
   ]
  },
  {
   "cell_type": "code",
   "execution_count": 68,
   "id": "3d6a99af",
   "metadata": {},
   "outputs": [],
   "source": [
    "d6 = get_data(sample_6, indices_6, 6);"
   ]
  },
  {
   "cell_type": "code",
   "execution_count": 25,
   "id": "796ac631",
   "metadata": {},
   "outputs": [
    {
     "data": {
      "text/plain": [
       "2187-element Vector{Any}:\n",
       " 10\n",
       " 13\n",
       " 13\n",
       " 13\n",
       " 14\n",
       " 15\n",
       " 13\n",
       " 15\n",
       " 14\n",
       " 13\n",
       " 13\n",
       " 14\n",
       " 14\n",
       "  ⋮\n",
       " 12\n",
       " 11\n",
       " 12\n",
       " 13\n",
       " 12\n",
       " 13\n",
       " 12\n",
       " 11\n",
       " 12\n",
       " 14\n",
       " 12\n",
       " 13"
      ]
     },
     "execution_count": 25,
     "metadata": {},
     "output_type": "execute_result"
    }
   ],
   "source": [
    "d4 = get_data(sample_4, indices_4, 4)"
   ]
  },
  {
   "cell_type": "code",
   "execution_count": 27,
   "id": "4d44f27c",
   "metadata": {},
   "outputs": [],
   "source": [
    "mma(D) = print(minimum(D), ' ', sum(D)/length(D), ' ', maximum(D));"
   ]
  },
  {
   "cell_type": "code",
   "execution_count": 26,
   "id": "e2abf399",
   "metadata": {},
   "outputs": [
    {
     "name": "stdout",
     "output_type": "stream",
     "text": [
      "13 19.261240664532846 21"
     ]
    }
   ],
   "source": [
    "mma(d5)"
   ]
  },
  {
   "cell_type": "code",
   "execution_count": 69,
   "id": "bbdb255a",
   "metadata": {},
   "outputs": [
    {
     "name": "stdout",
     "output_type": "stream",
     "text": [
      "16 24.450490270792056 26"
     ]
    }
   ],
   "source": [
    "mma(d6)"
   ]
  },
  {
   "cell_type": "code",
   "execution_count": 28,
   "id": "33d23011",
   "metadata": {},
   "outputs": [
    {
     "name": "stdout",
     "output_type": "stream",
     "text": [
      "10 13.709190672153635 16"
     ]
    }
   ],
   "source": [
    "mma(d4)"
   ]
  },
  {
   "cell_type": "code",
   "execution_count": 30,
   "id": "9911d7da",
   "metadata": {},
   "outputs": [
    {
     "name": "stdout",
     "output_type": "stream",
     "text": [
      "Set(Any[10, 14, 11, 12, 16, 15, 13])"
     ]
    }
   ],
   "source": [
    "print(Set(d4))"
   ]
  },
  {
   "cell_type": "code",
   "execution_count": 41,
   "id": "b4ae1548",
   "metadata": {},
   "outputs": [],
   "source": [
    "indices_3 = indices(3);\n",
    "sample_3 = sample(3);\n",
    "\n",
    "D3 = extended_data(sample_3, indices_3, 3);"
   ]
  },
  {
   "cell_type": "code",
   "execution_count": 42,
   "id": "5ef1cf3a",
   "metadata": {},
   "outputs": [
    {
     "data": {
      "text/plain": [
       "Set{Int64} with 3 elements:\n",
       "  9\n",
       "  8\n",
       "  7"
      ]
     },
     "execution_count": 42,
     "metadata": {},
     "output_type": "execute_result"
    }
   ],
   "source": [
    "ranks_3 = Set([d[3] for d in D3])"
   ]
  },
  {
   "cell_type": "code",
   "execution_count": 43,
   "id": "5ce3956f",
   "metadata": {},
   "outputs": [
    {
     "data": {
      "text/plain": [
       "Set{Any} with 3 elements:\n",
       "  9\n",
       "  8\n",
       "  7"
      ]
     },
     "execution_count": 43,
     "metadata": {},
     "output_type": "execute_result"
    }
   ],
   "source": [
    "d3 = get_data(sample_3, indices_3, 3);\n",
    "Set(d3)"
   ]
  },
  {
   "cell_type": "code",
   "execution_count": 28,
   "id": "291d4e6d",
   "metadata": {},
   "outputs": [
    {
     "name": "stdout",
     "output_type": "stream",
     "text": [
      "16 24.450490270792056 26"
     ]
    }
   ],
   "source": [
    "print(minimum(data), ' ', sum(data)/length(sample_6), ' ', maximum(data))"
   ]
  },
  {
   "cell_type": "code",
   "execution_count": 29,
   "id": "020f4416",
   "metadata": {},
   "outputs": [],
   "source": [
    "Data = []\n",
    "for s in sample_6\n",
    "    L = Dict([indices_6[i]=>s[i] for i=1:18])\n",
    "    B = getMatrix(L, 6)\n",
    "    r = LinearAlgebra.rank(B)\n",
    "    push!(Data, (L, B, r))\n",
    "end"
   ]
  },
  {
   "cell_type": "code",
   "execution_count": 32,
   "id": "774dce3b",
   "metadata": {},
   "outputs": [
    {
     "data": {
      "text/plain": [
       "extended_data (generic function with 1 method)"
      ]
     },
     "execution_count": 32,
     "metadata": {},
     "output_type": "execute_result"
    }
   ],
   "source": [
    "function extended_data(sample, indices, n)\n",
    "    data = []\n",
    "    for s in sample\n",
    "        L = Dict([indices[i]=>s[i] for i=1:3*n])\n",
    "        B = getMatrix(L, n)\n",
    "        r = LinearAlgebra.rank(B)\n",
    "        push!(data, (L, B, r))\n",
    "    end\n",
    "    return data\n",
    "end"
   ]
  },
  {
   "cell_type": "code",
   "execution_count": 31,
   "id": "b834ce66",
   "metadata": {},
   "outputs": [],
   "source": [
    "D5 = extended_data(sample_5, indices_5, 5);"
   ]
  },
  {
   "cell_type": "code",
   "execution_count": 32,
   "id": "5a833e9d",
   "metadata": {},
   "outputs": [],
   "source": [
    "maxes = []\n",
    "for d in Data\n",
    "    if d[3] == 26\n",
    "        push!(maxes, d[1])\n",
    "    end\n",
    "end"
   ]
  },
  {
   "cell_type": "code",
   "execution_count": 33,
   "id": "1f7ec49f",
   "metadata": {},
   "outputs": [
    {
     "data": {
      "text/plain": [
       "get_maxes (generic function with 1 method)"
      ]
     },
     "execution_count": 33,
     "metadata": {},
     "output_type": "execute_result"
    }
   ],
   "source": [
    "function get_maxes(data, n)\n",
    "    maxes = []\n",
    "    for d in data\n",
    "        if d[3] == 1 + 5*(n-1)\n",
    "            ## we can just get the matrix again if we want to, so don't record it for now\n",
    "            push!(maxes, d[1])\n",
    "        end\n",
    "    end\n",
    "    return maxes\n",
    "end"
   ]
  },
  {
   "cell_type": "code",
   "execution_count": 34,
   "id": "764e967e",
   "metadata": {},
   "outputs": [],
   "source": [
    "M5 = get_maxes(D5, 5);"
   ]
  },
  {
   "cell_type": "code",
   "execution_count": 35,
   "id": "88f7dd7f",
   "metadata": {},
   "outputs": [
    {
     "data": {
      "text/plain": [
       "0.18289894833104708"
      ]
     },
     "execution_count": 35,
     "metadata": {},
     "output_type": "execute_result"
    }
   ],
   "source": [
    "length(M5)/length(D5)"
   ]
  },
  {
   "cell_type": "code",
   "execution_count": 36,
   "id": "88171f47",
   "metadata": {},
   "outputs": [
    {
     "data": {
      "text/plain": [
       "Dict{Tuple{Int64, Int64}, Int64} with 15 entries:\n",
       "  (5, 0) => 0\n",
       "  (4, 2) => 2\n",
       "  (5, 1) => 0\n",
       "  (6, 2) => -1\n",
       "  (4, 3) => 1\n",
       "  (6, 3) => -1\n",
       "  (4, 4) => 0\n",
       "  (6, 4) => -1\n",
       "  (4, 0) => 0\n",
       "  (6, 0) => -1\n",
       "  (5, 2) => 0\n",
       "  (4, 1) => 1\n",
       "  (6, 1) => -1\n",
       "  (5, 3) => 0\n",
       "  (5, 4) => 0"
      ]
     },
     "execution_count": 36,
     "metadata": {},
     "output_type": "execute_result"
    }
   ],
   "source": [
    "M5[1]"
   ]
  },
  {
   "cell_type": "code",
   "execution_count": 37,
   "id": "3946154b",
   "metadata": {},
   "outputs": [],
   "source": [
    "## there is some issue with the code, because I should get up to 26 at least I think... \n",
    "## or that's what I thought I was getting before...\n",
    "## 1 + 5l"
   ]
  },
  {
   "cell_type": "code",
   "execution_count": 63,
   "id": "ea1e9fec",
   "metadata": {},
   "outputs": [
    {
     "data": {
      "text/plain": [
       "etas (generic function with 1 method)"
      ]
     },
     "execution_count": 63,
     "metadata": {},
     "output_type": "execute_result"
    }
   ],
   "source": [
    "mu(lambda, i) = lambda[(6,i)] - lambda[(5,i)]\n",
    "eta(lambda, i, n) = lambda[(4,i)] - lambda[(4,(i-1+n) % n)]\n",
    "mus(lambda, n) = [mu(lambda, i) for i=0:(n-1)]\n",
    "etas(lambda, n) = [eta(lambda, i, n) for i=0:(n-1)]"
   ]
  },
  {
   "cell_type": "code",
   "execution_count": 67,
   "id": "2e44e5b9",
   "metadata": {},
   "outputs": [
    {
     "data": {
      "text/plain": [
       "0"
      ]
     },
     "execution_count": 67,
     "metadata": {},
     "output_type": "execute_result"
    }
   ],
   "source": [
    "(0 + 3) % 3"
   ]
  },
  {
   "cell_type": "code",
   "execution_count": 39,
   "id": "fd7f5304",
   "metadata": {},
   "outputs": [
    {
     "data": {
      "text/plain": [
       "get_ineq (generic function with 1 method)"
      ]
     },
     "execution_count": 39,
     "metadata": {},
     "output_type": "execute_result"
    }
   ],
   "source": [
    "function get_ineq(lambda, n)\n",
    "    ineq = []\n",
    "    push!(ineq, (\"mu_0 > 0\", mu(lambda, 0) > 0))\n",
    "    for i=1:(n-1)\n",
    "        for j=1:n-1\n",
    "            push!(ineq, (\"mu_$(i) > eta_$(j)\", mu(lambda, i) > eta(lambda, j)))\n",
    "        end\n",
    "    end\n",
    "    return ineq\n",
    "end"
   ]
  },
  {
   "cell_type": "code",
   "execution_count": 41,
   "id": "caa4f784",
   "metadata": {},
   "outputs": [],
   "source": [
    "open(\"working_lambdas.txt\", \"w\") do file\n",
    "    for l in maxes\n",
    "        write(file, string(l))\n",
    "        write(file, \"\\n\")\n",
    "    end\n",
    "end"
   ]
  },
  {
   "cell_type": "code",
   "execution_count": 42,
   "id": "076c5497",
   "metadata": {},
   "outputs": [],
   "source": [
    "open(\"working_ineq_6.txt\", \"w\") do file\n",
    "    for l in maxes\n",
    "        write(file, string(get_ineq(l, 6)))\n",
    "        write(file, \"\\n\")\n",
    "    end\n",
    "end"
   ]
  },
  {
   "cell_type": "code",
   "execution_count": 44,
   "id": "cc27c0b1",
   "metadata": {},
   "outputs": [],
   "source": [
    "I = []\n",
    "S = []\n",
    "for i=3:7\n",
    "    push!(I, indices(i))\n",
    "    push!(S, sample(i))\n",
    "end"
   ]
  },
  {
   "cell_type": "code",
   "execution_count": 46,
   "id": "80c2305e",
   "metadata": {},
   "outputs": [
    {
     "name": "stdout",
     "output_type": "stream",
     "text": [
      "34567"
     ]
    },
    {
     "ename": "InterruptException",
     "evalue": "InterruptException:",
     "output_type": "error",
     "traceback": [
      "InterruptException:",
      "",
      "Stacktrace:",
      "  [1] try_yieldto(undo::typeof(Base.ensure_rescheduled))",
      "    @ Base .\\task.jl:710",
      "  [2] wait()",
      "    @ Base .\\task.jl:770",
      "  [3] yield()",
      "    @ Base .\\task.jl:662",
      "  [4] oslibuv_flush",
      "    @ C:\\Users\\Shelby Cox\\.julia\\packages\\IJulia\\AQu2H\\src\\stdio.jl:269 [inlined]",
      "  [5] flush(io::IJulia.IJuliaStdio{Base.PipeEndpoint})",
      "    @ IJulia C:\\Users\\Shelby Cox\\.julia\\packages\\IJulia\\AQu2H\\src\\stdio.jl:276",
      "  [6] flush_all()",
      "    @ IJulia C:\\Users\\Shelby Cox\\.julia\\packages\\IJulia\\AQu2H\\src\\stdio.jl:259",
      "  [7] execute_request(socket::ZMQ.Socket, msg::IJulia.Msg)",
      "    @ IJulia C:\\Users\\Shelby Cox\\.julia\\packages\\IJulia\\AQu2H\\src\\execute_request.jl:105",
      "  [8] #invokelatest#2",
      "    @ .\\essentials.jl:708 [inlined]",
      "  [9] invokelatest",
      "    @ .\\essentials.jl:706 [inlined]",
      " [10] eventloop(socket::ZMQ.Socket)",
      "    @ IJulia C:\\Users\\Shelby Cox\\.julia\\packages\\IJulia\\AQu2H\\src\\eventloop.jl:8",
      " [11] (::IJulia.var\"#15#18\")()",
      "    @ IJulia .\\task.jl:411"
     ]
    }
   ],
   "source": [
    "D = []\n",
    "for i=3:7\n",
    "    print(i)\n",
    "    push!(D, get_data(S[i-2], I[i-2], i))\n",
    "end"
   ]
  },
  {
   "cell_type": "code",
   "execution_count": 47,
   "id": "65bdd5a1",
   "metadata": {},
   "outputs": [
    {
     "data": {
      "text/plain": [
       "5-element Vector{Vector{Any}}:\n",
       " [(Dict((5, 0) => 0, (4, 0) => 0, (6, 0) => -1, (5, 2) => 0, (4, 2) => 0, (5, 1) => 0, (4, 1) => 0, (6, 1) => -1, (6, 2) => -1), [0 0 … 0 1; 1 0 … 0 0; … ; 1 0 … 1 0; 0 0 … 0 0], 7), (Dict((5, 0) => 0, (4, 0) => 0, (6, 0) => -1, (5, 2) => 0, (4, 2) => 0, (5, 1) => 0, (4, 1) => 1, (6, 1) => -1, (6, 2) => -1), [0 0 … 0 1; 1 0 … 0 0; … ; 0 0 … 1 0; 0 0 … 0 0], 9), (Dict((5, 0) => 0, (4, 0) => 0, (6, 0) => -1, (5, 2) => 0, (4, 2) => 0, (5, 1) => 0, (4, 1) => 2, (6, 1) => -1, (6, 2) => -1), [0 0 … 0 1; 1 0 … 0 0; … ; 0 0 … 1 0; 0 0 … 0 0], 9), (Dict((5, 0) => 0, (4, 0) => 0, (6, 0) => -1, (5, 2) => 0, (4, 2) => 1, (5, 1) => 0, (4, 1) => 0, (6, 1) => -1, (6, 2) => -1), [0 0 … 0 1; 1 0 … 0 0; … ; 1 0 … 0 0; 0 0 … 0 0], 9), (Dict((5, 0) => 0, (4, 0) => 0, (6, 0) => -1, (5, 2) => 0, (4, 2) => 1, (5, 1) => 0, (4, 1) => 1, (6, 1) => -1, (6, 2) => -1), [0 0 … 0 1; 1 0 … 0 0; … ; 1 0 … 0 0; 0 0 … 0 0], 9), (Dict((5, 0) => 0, (4, 0) => 0, (6, 0) => -1, (5, 2) => 0, (4, 2) => 1, (5, 1) => 0, (4, 1) => 2, (6, 1) => -1, (6, 2) => -1), [0 0 … 0 1; 1 0 … 0 0; … ; 0 0 … 0 0; 0 0 … 0 0], 9), (Dict((5, 0) => 0, (4, 0) => 0, (6, 0) => -1, (5, 2) => 0, (4, 2) => 2, (5, 1) => 0, (4, 1) => 0, (6, 1) => -1, (6, 2) => -1), [0 0 … 0 1; 1 0 … 0 0; … ; 1 0 … 0 0; 0 0 … 0 0], 9), (Dict((5, 0) => 0, (4, 0) => 0, (6, 0) => -1, (5, 2) => 0, (4, 2) => 2, (5, 1) => 0, (4, 1) => 1, (6, 1) => -1, (6, 2) => -1), [0 0 … 0 1; 1 0 … 0 0; … ; 1 0 … 0 0; 0 0 … 0 0], 9), (Dict((5, 0) => 0, (4, 0) => 0, (6, 0) => -1, (5, 2) => 0, (4, 2) => 2, (5, 1) => 0, (4, 1) => 2, (6, 1) => -1, (6, 2) => -1), [0 0 … 0 1; 1 0 … 0 0; … ; 1 0 … 0 0; 0 0 … 0 0], 9), (Dict((5, 0) => 0, (4, 0) => 0, (6, 0) => 0, (5, 2) => 0, (4, 2) => 0, (5, 1) => 0, (4, 1) => 0, (6, 1) => -1, (6, 2) => -1), [0 0 … 0 1; 1 0 … 0 0; … ; 1 0 … 1 0; 0 0 … 0 0], 7)  …  (Dict((5, 0) => 0, (4, 0) => 0, (6, 0) => 0, (5, 2) => 0, (4, 2) => 2, (5, 1) => 0, (4, 1) => 2, (6, 1) => 1, (6, 2) => 1), [0 0 … 0 1; 1 0 … 0 0; … ; 0 0 … 0 0; 0 0 … 0 0], 9), (Dict((5, 0) => 0, (4, 0) => 0, (6, 0) => 1, (5, 2) => 0, (4, 2) => 0, (5, 1) => 0, (4, 1) => 0, (6, 1) => 1, (6, 2) => 1), [0 0 … 0 1; 1 0 … 0 0; … ; 0 0 … 0 0; 0 0 … 0 0], 7), (Dict((5, 0) => 0, (4, 0) => 0, (6, 0) => 1, (5, 2) => 0, (4, 2) => 0, (5, 1) => 0, (4, 1) => 1, (6, 1) => 1, (6, 2) => 1), [0 0 … 0 1; 1 0 … 0 0; … ; 0 0 … 0 0; 0 0 … 0 0], 7), (Dict((5, 0) => 0, (4, 0) => 0, (6, 0) => 1, (5, 2) => 0, (4, 2) => 0, (5, 1) => 0, (4, 1) => 2, (6, 1) => 1, (6, 2) => 1), [0 0 … 0 1; 1 0 … 0 0; … ; 0 0 … 0 0; 0 0 … 0 0], 9), (Dict((5, 0) => 0, (4, 0) => 0, (6, 0) => 1, (5, 2) => 0, (4, 2) => 1, (5, 1) => 0, (4, 1) => 0, (6, 1) => 1, (6, 2) => 1), [0 0 … 0 1; 1 0 … 0 0; … ; 0 0 … 0 0; 0 0 … 0 0], 7), (Dict((5, 0) => 0, (4, 0) => 0, (6, 0) => 1, (5, 2) => 0, (4, 2) => 1, (5, 1) => 0, (4, 1) => 1, (6, 1) => 1, (6, 2) => 1), [0 0 … 0 1; 1 0 … 0 0; … ; 0 0 … 0 0; 0 0 … 0 0], 7), (Dict((5, 0) => 0, (4, 0) => 0, (6, 0) => 1, (5, 2) => 0, (4, 2) => 1, (5, 1) => 0, (4, 1) => 2, (6, 1) => 1, (6, 2) => 1), [0 0 … 0 1; 1 0 … 0 0; … ; 0 0 … 0 0; 0 0 … 0 0], 8), (Dict((5, 0) => 0, (4, 0) => 0, (6, 0) => 1, (5, 2) => 0, (4, 2) => 2, (5, 1) => 0, (4, 1) => 0, (6, 1) => 1, (6, 2) => 1), [0 0 … 0 1; 1 0 … 0 0; … ; 1 0 … 0 0; 0 0 … 0 0], 9), (Dict((5, 0) => 0, (4, 0) => 0, (6, 0) => 1, (5, 2) => 0, (4, 2) => 2, (5, 1) => 0, (4, 1) => 1, (6, 1) => 1, (6, 2) => 1), [0 0 … 0 1; 1 0 … 0 0; … ; 0 0 … 0 0; 0 0 … 0 0], 8), (Dict((5, 0) => 0, (4, 0) => 0, (6, 0) => 1, (5, 2) => 0, (4, 2) => 2, (5, 1) => 0, (4, 1) => 2, (6, 1) => 1, (6, 2) => 1), [0 0 … 0 1; 1 0 … 0 0; … ; 0 0 … 0 0; 0 0 … 0 0], 9)]\n",
       " [(Dict((5, 0) => 0, (4, 2) => 0, (5, 1) => 0, (6, 2) => -1, (4, 3) => 0, (6, 3) => -1, (4, 0) => 0, (6, 0) => -1, (5, 2) => 0, (4, 1) => 0…), [0 0 … 0 1; 1 0 … 0 0; … ; 1 0 … 0 0; 0 0 … 0 0], 10), (Dict((5, 0) => 0, (4, 2) => 0, (5, 1) => 0, (6, 2) => -1, (4, 3) => 0, (6, 3) => -1, (4, 0) => 0, (6, 0) => -1, (5, 2) => 0, (4, 1) => 1…), [0 0 … 0 1; 1 0 … 0 0; … ; 0 0 … 0 0; 0 0 … 0 0], 13), (Dict((5, 0) => 0, (4, 2) => 0, (5, 1) => 0, (6, 2) => -1, (4, 3) => 0, (6, 3) => -1, (4, 0) => 0, (6, 0) => -1, (5, 2) => 0, (4, 1) => 2…), [0 0 … 0 1; 1 0 … 0 0; … ; 0 0 … 0 0; 0 0 … 0 0], 13), (Dict((5, 0) => 0, (4, 2) => 1, (5, 1) => 0, (6, 2) => -1, (4, 3) => 0, (6, 3) => -1, (4, 0) => 0, (6, 0) => -1, (5, 2) => 0, (4, 1) => 0…), [0 0 … 0 1; 1 0 … 0 0; … ; 1 0 … 0 0; 0 0 … 0 0], 13), (Dict((5, 0) => 0, (4, 2) => 1, (5, 1) => 0, (6, 2) => -1, (4, 3) => 0, (6, 3) => -1, (4, 0) => 0, (6, 0) => -1, (5, 2) => 0, (4, 1) => 1…), [0 0 … 0 1; 1 0 … 0 0; … ; 0 0 … 0 0; 0 0 … 0 0], 14), (Dict((5, 0) => 0, (4, 2) => 1, (5, 1) => 0, (6, 2) => -1, (4, 3) => 0, (6, 3) => -1, (4, 0) => 0, (6, 0) => -1, (5, 2) => 0, (4, 1) => 2…), [0 0 … 0 1; 1 0 … 0 0; … ; 0 0 … 0 0; 0 0 … 0 0], 15), (Dict((5, 0) => 0, (4, 2) => 2, (5, 1) => 0, (6, 2) => -1, (4, 3) => 0, (6, 3) => -1, (4, 0) => 0, (6, 0) => -1, (5, 2) => 0, (4, 1) => 0…), [0 0 … 0 1; 1 0 … 0 0; … ; 1 0 … 0 0; 0 0 … 0 0], 13), (Dict((5, 0) => 0, (4, 2) => 2, (5, 1) => 0, (6, 2) => -1, (4, 3) => 0, (6, 3) => -1, (4, 0) => 0, (6, 0) => -1, (5, 2) => 0, (4, 1) => 1…), [0 0 … 0 1; 1 0 … 0 0; … ; 0 0 … 0 0; 0 0 … 0 0], 15), (Dict((5, 0) => 0, (4, 2) => 2, (5, 1) => 0, (6, 2) => -1, (4, 3) => 0, (6, 3) => -1, (4, 0) => 0, (6, 0) => -1, (5, 2) => 0, (4, 1) => 2…), [0 0 … 0 1; 1 0 … 0 0; … ; 0 0 … 0 0; 0 0 … 0 0], 14), (Dict((5, 0) => 0, (4, 2) => 0, (5, 1) => 0, (6, 2) => -1, (4, 3) => 1, (6, 3) => -1, (4, 0) => 0, (6, 0) => -1, (5, 2) => 0, (4, 1) => 0…), [0 0 … 0 1; 1 0 … 0 0; … ; 1 0 … 0 0; 0 0 … 0 0], 13)  …  (Dict((5, 0) => 0, (4, 2) => 2, (5, 1) => 0, (6, 2) => 1, (4, 3) => 1, (6, 3) => 1, (4, 0) => 0, (6, 0) => 1, (5, 2) => 0, (4, 1) => 2…), [0 0 … 0 1; 1 0 … 0 0; … ; 0 0 … 0 0; 0 0 … 0 0], 12), (Dict((5, 0) => 0, (4, 2) => 0, (5, 1) => 0, (6, 2) => 1, (4, 3) => 2, (6, 3) => 1, (4, 0) => 0, (6, 0) => 1, (5, 2) => 0, (4, 1) => 0…), [0 0 … 0 1; 1 0 … 0 0; … ; 1 0 … 0 0; 0 0 … 0 0], 13), (Dict((5, 0) => 0, (4, 2) => 0, (5, 1) => 0, (6, 2) => 1, (4, 3) => 2, (6, 3) => 1, (4, 0) => 0, (6, 0) => 1, (5, 2) => 0, (4, 1) => 1…), [0 0 … 0 1; 1 0 … 0 0; … ; 0 0 … 0 0; 0 0 … 0 0], 12), (Dict((5, 0) => 0, (4, 2) => 0, (5, 1) => 0, (6, 2) => 1, (4, 3) => 2, (6, 3) => 1, (4, 0) => 0, (6, 0) => 1, (5, 2) => 0, (4, 1) => 2…), [0 0 … 0 1; 1 0 … 0 0; … ; 0 0 … 0 0; 0 0 … 0 0], 13), (Dict((5, 0) => 0, (4, 2) => 1, (5, 1) => 0, (6, 2) => 1, (4, 3) => 2, (6, 3) => 1, (4, 0) => 0, (6, 0) => 1, (5, 2) => 0, (4, 1) => 0…), [0 0 … 0 1; 1 0 … 0 0; … ; 1 0 … 0 0; 0 0 … 0 0], 12), (Dict((5, 0) => 0, (4, 2) => 1, (5, 1) => 0, (6, 2) => 1, (4, 3) => 2, (6, 3) => 1, (4, 0) => 0, (6, 0) => 1, (5, 2) => 0, (4, 1) => 1…), [0 0 … 0 1; 1 0 … 0 0; … ; 0 0 … 0 0; 0 0 … 0 0], 11), (Dict((5, 0) => 0, (4, 2) => 1, (5, 1) => 0, (6, 2) => 1, (4, 3) => 2, (6, 3) => 1, (4, 0) => 0, (6, 0) => 1, (5, 2) => 0, (4, 1) => 2…), [0 0 … 0 1; 1 0 … 0 0; … ; 0 0 … 0 0; 0 0 … 0 0], 12), (Dict((5, 0) => 0, (4, 2) => 2, (5, 1) => 0, (6, 2) => 1, (4, 3) => 2, (6, 3) => 1, (4, 0) => 0, (6, 0) => 1, (5, 2) => 0, (4, 1) => 0…), [0 0 … 0 1; 1 0 … 0 0; … ; 1 0 … 0 0; 0 0 … 0 0], 14), (Dict((5, 0) => 0, (4, 2) => 2, (5, 1) => 0, (6, 2) => 1, (4, 3) => 2, (6, 3) => 1, (4, 0) => 0, (6, 0) => 1, (5, 2) => 0, (4, 1) => 1…), [0 0 … 0 1; 1 0 … 0 0; … ; 0 0 … 0 0; 0 0 … 0 0], 12), (Dict((5, 0) => 0, (4, 2) => 2, (5, 1) => 0, (6, 2) => 1, (4, 3) => 2, (6, 3) => 1, (4, 0) => 0, (6, 0) => 1, (5, 2) => 0, (4, 1) => 2…), [0 0 … 0 1; 1 0 … 0 0; … ; 0 0 … 0 0; 0 0 … 0 0], 13)]\n",
       " [(Dict((5, 0) => 0, (4, 2) => 0, (5, 1) => 0, (6, 2) => -1, (4, 3) => 0, (6, 3) => -1, (4, 4) => 0, (6, 4) => -1, (4, 0) => 0, (6, 0) => -1…), [0 0 … 0 1; 1 0 … 0 0; … ; 1 0 … 0 0; 0 0 … 0 0], 13), (Dict((5, 0) => 0, (4, 2) => 0, (5, 1) => 0, (6, 2) => -1, (4, 3) => 0, (6, 3) => -1, (4, 4) => 0, (6, 4) => -1, (4, 0) => 0, (6, 0) => -1…), [0 0 … 0 1; 1 0 … 0 0; … ; 0 0 … 0 0; 0 0 … 0 0], 17), (Dict((5, 0) => 0, (4, 2) => 0, (5, 1) => 0, (6, 2) => -1, (4, 3) => 0, (6, 3) => -1, (4, 4) => 0, (6, 4) => -1, (4, 0) => 0, (6, 0) => -1…), [0 0 … 0 1; 1 0 … 0 0; … ; 0 0 … 0 0; 0 0 … 0 0], 17), (Dict((5, 0) => 0, (4, 2) => 1, (5, 1) => 0, (6, 2) => -1, (4, 3) => 0, (6, 3) => -1, (4, 4) => 0, (6, 4) => -1, (4, 0) => 0, (6, 0) => -1…), [0 0 … 0 1; 1 0 … 0 0; … ; 1 0 … 0 0; 0 0 … 0 0], 17), (Dict((5, 0) => 0, (4, 2) => 1, (5, 1) => 0, (6, 2) => -1, (4, 3) => 0, (6, 3) => -1, (4, 4) => 0, (6, 4) => -1, (4, 0) => 0, (6, 0) => -1…), [0 0 … 0 1; 1 0 … 0 0; … ; 0 0 … 0 0; 0 0 … 0 0], 19), (Dict((5, 0) => 0, (4, 2) => 1, (5, 1) => 0, (6, 2) => -1, (4, 3) => 0, (6, 3) => -1, (4, 4) => 0, (6, 4) => -1, (4, 0) => 0, (6, 0) => -1…), [0 0 … 0 1; 1 0 … 0 0; … ; 0 0 … 0 0; 0 0 … 0 0], 20), (Dict((5, 0) => 0, (4, 2) => 2, (5, 1) => 0, (6, 2) => -1, (4, 3) => 0, (6, 3) => -1, (4, 4) => 0, (6, 4) => -1, (4, 0) => 0, (6, 0) => -1…), [0 0 … 0 1; 1 0 … 0 0; … ; 1 0 … 0 0; 0 0 … 0 0], 17), (Dict((5, 0) => 0, (4, 2) => 2, (5, 1) => 0, (6, 2) => -1, (4, 3) => 0, (6, 3) => -1, (4, 4) => 0, (6, 4) => -1, (4, 0) => 0, (6, 0) => -1…), [0 0 … 0 1; 1 0 … 0 0; … ; 0 0 … 0 0; 0 0 … 0 0], 20), (Dict((5, 0) => 0, (4, 2) => 2, (5, 1) => 0, (6, 2) => -1, (4, 3) => 0, (6, 3) => -1, (4, 4) => 0, (6, 4) => -1, (4, 0) => 0, (6, 0) => -1…), [0 0 … 0 1; 1 0 … 0 0; … ; 0 0 … 0 0; 0 0 … 0 0], 19), (Dict((5, 0) => 0, (4, 2) => 0, (5, 1) => 0, (6, 2) => -1, (4, 3) => 1, (6, 3) => -1, (4, 4) => 0, (6, 4) => -1, (4, 0) => 0, (6, 0) => -1…), [0 0 … 0 1; 1 0 … 0 0; … ; 1 0 … 0 0; 0 0 … 0 0], 17)  …  (Dict((5, 0) => 0, (4, 2) => 2, (5, 1) => 0, (6, 2) => 1, (4, 3) => 1, (6, 3) => 1, (4, 4) => 2, (6, 4) => 1, (4, 0) => 0, (6, 0) => 1…), [0 0 … 0 1; 1 0 … 0 0; … ; 0 0 … 0 0; 0 0 … 0 0], 16), (Dict((5, 0) => 0, (4, 2) => 0, (5, 1) => 0, (6, 2) => 1, (4, 3) => 2, (6, 3) => 1, (4, 4) => 2, (6, 4) => 1, (4, 0) => 0, (6, 0) => 1…), [0 0 … 0 1; 1 0 … 0 0; … ; 1 0 … 0 0; 0 0 … 0 0], 19), (Dict((5, 0) => 0, (4, 2) => 0, (5, 1) => 0, (6, 2) => 1, (4, 3) => 2, (6, 3) => 1, (4, 4) => 2, (6, 4) => 1, (4, 0) => 0, (6, 0) => 1…), [0 0 … 0 1; 1 0 … 0 0; … ; 0 0 … 0 0; 0 0 … 0 0], 17), (Dict((5, 0) => 0, (4, 2) => 0, (5, 1) => 0, (6, 2) => 1, (4, 3) => 2, (6, 3) => 1, (4, 4) => 2, (6, 4) => 1, (4, 0) => 0, (6, 0) => 1…), [0 0 … 0 1; 1 0 … 0 0; … ; 0 0 … 0 0; 0 0 … 0 0], 19), (Dict((5, 0) => 0, (4, 2) => 1, (5, 1) => 0, (6, 2) => 1, (4, 3) => 2, (6, 3) => 1, (4, 4) => 2, (6, 4) => 1, (4, 0) => 0, (6, 0) => 1…), [0 0 … 0 1; 1 0 … 0 0; … ; 1 0 … 0 0; 0 0 … 0 0], 17), (Dict((5, 0) => 0, (4, 2) => 1, (5, 1) => 0, (6, 2) => 1, (4, 3) => 2, (6, 3) => 1, (4, 4) => 2, (6, 4) => 1, (4, 0) => 0, (6, 0) => 1…), [0 0 … 0 1; 1 0 … 0 0; … ; 0 0 … 0 0; 0 0 … 0 0], 15), (Dict((5, 0) => 0, (4, 2) => 1, (5, 1) => 0, (6, 2) => 1, (4, 3) => 2, (6, 3) => 1, (4, 4) => 2, (6, 4) => 1, (4, 0) => 0, (6, 0) => 1…), [0 0 … 0 1; 1 0 … 0 0; … ; 0 0 … 0 0; 0 0 … 0 0], 16), (Dict((5, 0) => 0, (4, 2) => 2, (5, 1) => 0, (6, 2) => 1, (4, 3) => 2, (6, 3) => 1, (4, 4) => 2, (6, 4) => 1, (4, 0) => 0, (6, 0) => 1…), [0 0 … 0 1; 1 0 … 0 0; … ; 1 0 … 0 0; 0 0 … 0 0], 19), (Dict((5, 0) => 0, (4, 2) => 2, (5, 1) => 0, (6, 2) => 1, (4, 3) => 2, (6, 3) => 1, (4, 4) => 2, (6, 4) => 1, (4, 0) => 0, (6, 0) => 1…), [0 0 … 0 1; 1 0 … 0 0; … ; 0 0 … 0 0; 0 0 … 0 0], 16), (Dict((5, 0) => 0, (4, 2) => 2, (5, 1) => 0, (6, 2) => 1, (4, 3) => 2, (6, 3) => 1, (4, 4) => 2, (6, 4) => 1, (4, 0) => 0, (6, 0) => 1…), [0 0 … 0 1; 1 0 … 0 0; … ; 0 0 … 0 0; 0 0 … 0 0], 17)]\n",
       " [(Dict((5, 0) => 0, (4, 5) => 0, (6, 5) => -1, (4, 2) => 0, (5, 1) => 0, (6, 2) => -1, (4, 3) => 0, (6, 3) => -1, (4, 4) => 0, (6, 4) => -1…), [0 0 … 0 1; 1 0 … 0 0; … ; 1 0 … 0 0; 0 0 … 0 0], 16), (Dict((5, 0) => 0, (4, 5) => 0, (6, 5) => -1, (4, 2) => 0, (5, 1) => 0, (6, 2) => -1, (4, 3) => 0, (6, 3) => -1, (4, 4) => 0, (6, 4) => -1…), [0 0 … 0 1; 1 0 … 0 0; … ; 0 0 … 0 0; 0 0 … 0 0], 21), (Dict((5, 0) => 0, (4, 5) => 0, (6, 5) => -1, (4, 2) => 0, (5, 1) => 0, (6, 2) => -1, (4, 3) => 0, (6, 3) => -1, (4, 4) => 0, (6, 4) => -1…), [0 0 … 0 1; 1 0 … 0 0; … ; 0 0 … 0 0; 0 0 … 0 0], 21), (Dict((5, 0) => 0, (4, 5) => 0, (6, 5) => -1, (4, 2) => 1, (5, 1) => 0, (6, 2) => -1, (4, 3) => 0, (6, 3) => -1, (4, 4) => 0, (6, 4) => -1…), [0 0 … 0 1; 1 0 … 0 0; … ; 1 0 … 0 0; 0 0 … 0 0], 21), (Dict((5, 0) => 0, (4, 5) => 0, (6, 5) => -1, (4, 2) => 1, (5, 1) => 0, (6, 2) => -1, (4, 3) => 0, (6, 3) => -1, (4, 4) => 0, (6, 4) => -1…), [0 0 … 0 1; 1 0 … 0 0; … ; 0 0 … 0 0; 0 0 … 0 0], 24), (Dict((5, 0) => 0, (4, 5) => 0, (6, 5) => -1, (4, 2) => 1, (5, 1) => 0, (6, 2) => -1, (4, 3) => 0, (6, 3) => -1, (4, 4) => 0, (6, 4) => -1…), [0 0 … 0 1; 1 0 … 0 0; … ; 0 0 … 0 0; 0 0 … 0 0], 25), (Dict((5, 0) => 0, (4, 5) => 0, (6, 5) => -1, (4, 2) => 2, (5, 1) => 0, (6, 2) => -1, (4, 3) => 0, (6, 3) => -1, (4, 4) => 0, (6, 4) => -1…), [0 0 … 0 1; 1 0 … 0 0; … ; 1 0 … 0 0; 0 0 … 0 0], 21), (Dict((5, 0) => 0, (4, 5) => 0, (6, 5) => -1, (4, 2) => 2, (5, 1) => 0, (6, 2) => -1, (4, 3) => 0, (6, 3) => -1, (4, 4) => 0, (6, 4) => -1…), [0 0 … 0 1; 1 0 … 0 0; … ; 0 0 … 0 0; 0 0 … 0 0], 25), (Dict((5, 0) => 0, (4, 5) => 0, (6, 5) => -1, (4, 2) => 2, (5, 1) => 0, (6, 2) => -1, (4, 3) => 0, (6, 3) => -1, (4, 4) => 0, (6, 4) => -1…), [0 0 … 0 1; 1 0 … 0 0; … ; 0 0 … 0 0; 0 0 … 0 0], 24), (Dict((5, 0) => 0, (4, 5) => 0, (6, 5) => -1, (4, 2) => 0, (5, 1) => 0, (6, 2) => -1, (4, 3) => 1, (6, 3) => -1, (4, 4) => 0, (6, 4) => -1…), [0 0 … 0 1; 1 0 … 0 0; … ; 1 0 … 0 0; 0 0 … 0 0], 21)  …  (Dict((5, 0) => 0, (4, 5) => 2, (6, 5) => 1, (4, 2) => 2, (5, 1) => 0, (6, 2) => 1, (4, 3) => 1, (6, 3) => 1, (4, 4) => 2, (6, 4) => 1…), [0 0 … 0 1; 1 0 … 0 0; … ; 0 0 … 0 0; 0 0 … 0 0], 20), (Dict((5, 0) => 0, (4, 5) => 2, (6, 5) => 1, (4, 2) => 0, (5, 1) => 0, (6, 2) => 1, (4, 3) => 2, (6, 3) => 1, (4, 4) => 2, (6, 4) => 1…), [0 0 … 0 1; 1 0 … 0 0; … ; 1 0 … 0 0; 0 0 … 0 0], 24), (Dict((5, 0) => 0, (4, 5) => 2, (6, 5) => 1, (4, 2) => 0, (5, 1) => 0, (6, 2) => 1, (4, 3) => 2, (6, 3) => 1, (4, 4) => 2, (6, 4) => 1…), [0 0 … 0 1; 1 0 … 0 0; … ; 0 0 … 0 0; 0 0 … 0 0], 22), (Dict((5, 0) => 0, (4, 5) => 2, (6, 5) => 1, (4, 2) => 0, (5, 1) => 0, (6, 2) => 1, (4, 3) => 2, (6, 3) => 1, (4, 4) => 2, (6, 4) => 1…), [0 0 … 0 1; 1 0 … 0 0; … ; 0 0 … 0 0; 0 0 … 0 0], 24), (Dict((5, 0) => 0, (4, 5) => 2, (6, 5) => 1, (4, 2) => 1, (5, 1) => 0, (6, 2) => 1, (4, 3) => 2, (6, 3) => 1, (4, 4) => 2, (6, 4) => 1…), [0 0 … 0 1; 1 0 … 0 0; … ; 1 0 … 0 0; 0 0 … 0 0], 22), (Dict((5, 0) => 0, (4, 5) => 2, (6, 5) => 1, (4, 2) => 1, (5, 1) => 0, (6, 2) => 1, (4, 3) => 2, (6, 3) => 1, (4, 4) => 2, (6, 4) => 1…), [0 0 … 0 1; 1 0 … 0 0; … ; 0 0 … 0 0; 0 0 … 0 0], 19), (Dict((5, 0) => 0, (4, 5) => 2, (6, 5) => 1, (4, 2) => 1, (5, 1) => 0, (6, 2) => 1, (4, 3) => 2, (6, 3) => 1, (4, 4) => 2, (6, 4) => 1…), [0 0 … 0 1; 1 0 … 0 0; … ; 0 0 … 0 0; 0 0 … 0 0], 20), (Dict((5, 0) => 0, (4, 5) => 2, (6, 5) => 1, (4, 2) => 2, (5, 1) => 0, (6, 2) => 1, (4, 3) => 2, (6, 3) => 1, (4, 4) => 2, (6, 4) => 1…), [0 0 … 0 1; 1 0 … 0 0; … ; 1 0 … 0 0; 0 0 … 0 0], 24), (Dict((5, 0) => 0, (4, 5) => 2, (6, 5) => 1, (4, 2) => 2, (5, 1) => 0, (6, 2) => 1, (4, 3) => 2, (6, 3) => 1, (4, 4) => 2, (6, 4) => 1…), [0 0 … 0 1; 1 0 … 0 0; … ; 0 0 … 0 0; 0 0 … 0 0], 20), (Dict((5, 0) => 0, (4, 5) => 2, (6, 5) => 1, (4, 2) => 2, (5, 1) => 0, (6, 2) => 1, (4, 3) => 2, (6, 3) => 1, (4, 4) => 2, (6, 4) => 1…), [0 0 … 0 1; 1 0 … 0 0; … ; 0 0 … 0 0; 0 0 … 0 0], 21)]\n",
       " [(Dict((5, 0) => 0, (4, 5) => 0, (6, 5) => -1, (4, 2) => 0, (5, 1) => 0, (6, 2) => -1, (4, 3) => 0, (4, 6) => 0, (6, 3) => -1, (6, 6) => -1…), [0 0 … 0 1; 1 0 … 0 0; … ; 1 0 … 0 0; 0 0 … 0 0], 19), (Dict((5, 0) => 0, (4, 5) => 0, (6, 5) => -1, (4, 2) => 0, (5, 1) => 0, (6, 2) => -1, (4, 3) => 0, (4, 6) => 0, (6, 3) => -1, (6, 6) => -1…), [0 0 … 0 1; 1 0 … 0 0; … ; 0 0 … 0 0; 0 0 … 0 0], 25), (Dict((5, 0) => 0, (4, 5) => 0, (6, 5) => -1, (4, 2) => 0, (5, 1) => 0, (6, 2) => -1, (4, 3) => 0, (4, 6) => 0, (6, 3) => -1, (6, 6) => -1…), [0 0 … 0 1; 1 0 … 0 0; … ; 0 0 … 0 0; 0 0 … 0 0], 25), (Dict((5, 0) => 0, (4, 5) => 0, (6, 5) => -1, (4, 2) => 1, (5, 1) => 0, (6, 2) => -1, (4, 3) => 0, (4, 6) => 0, (6, 3) => -1, (6, 6) => -1…), [0 0 … 0 1; 1 0 … 0 0; … ; 1 0 … 0 0; 0 0 … 0 0], 25), (Dict((5, 0) => 0, (4, 5) => 0, (6, 5) => -1, (4, 2) => 1, (5, 1) => 0, (6, 2) => -1, (4, 3) => 0, (4, 6) => 0, (6, 3) => -1, (6, 6) => -1…), [0 0 … 0 1; 1 0 … 0 0; … ; 0 0 … 0 0; 0 0 … 0 0], 29), (Dict((5, 0) => 0, (4, 5) => 0, (6, 5) => -1, (4, 2) => 1, (5, 1) => 0, (6, 2) => -1, (4, 3) => 0, (4, 6) => 0, (6, 3) => -1, (6, 6) => -1…), [0 0 … 0 1; 1 0 … 0 0; … ; 0 0 … 0 0; 0 0 … 0 0], 30), (Dict((5, 0) => 0, (4, 5) => 0, (6, 5) => -1, (4, 2) => 2, (5, 1) => 0, (6, 2) => -1, (4, 3) => 0, (4, 6) => 0, (6, 3) => -1, (6, 6) => -1…), [0 0 … 0 1; 1 0 … 0 0; … ; 1 0 … 0 0; 0 0 … 0 0], 25), (Dict((5, 0) => 0, (4, 5) => 0, (6, 5) => -1, (4, 2) => 2, (5, 1) => 0, (6, 2) => -1, (4, 3) => 0, (4, 6) => 0, (6, 3) => -1, (6, 6) => -1…), [0 0 … 0 1; 1 0 … 0 0; … ; 0 0 … 0 0; 0 0 … 0 0], 30), (Dict((5, 0) => 0, (4, 5) => 0, (6, 5) => -1, (4, 2) => 2, (5, 1) => 0, (6, 2) => -1, (4, 3) => 0, (4, 6) => 0, (6, 3) => -1, (6, 6) => -1…), [0 0 … 0 1; 1 0 … 0 0; … ; 0 0 … 0 0; 0 0 … 0 0], 29), (Dict((5, 0) => 0, (4, 5) => 0, (6, 5) => -1, (4, 2) => 0, (5, 1) => 0, (6, 2) => -1, (4, 3) => 1, (4, 6) => 0, (6, 3) => -1, (6, 6) => -1…), [0 0 … 0 1; 1 0 … 0 0; … ; 1 0 … 0 0; 0 0 … 0 0], 25)  …  (Dict((5, 0) => 0, (4, 5) => 2, (6, 5) => 1, (4, 2) => 2, (5, 1) => 0, (6, 2) => 1, (4, 3) => 1, (4, 6) => 2, (6, 3) => 1, (6, 6) => 1…), [0 0 … 0 1; 1 0 … 0 0; … ; 0 0 … 0 0; 0 0 … 0 0], 24), (Dict((5, 0) => 0, (4, 5) => 2, (6, 5) => 1, (4, 2) => 0, (5, 1) => 0, (6, 2) => 1, (4, 3) => 2, (4, 6) => 2, (6, 3) => 1, (6, 6) => 1…), [0 0 … 0 1; 1 0 … 0 0; … ; 1 0 … 0 0; 0 0 … 0 0], 29), (Dict((5, 0) => 0, (4, 5) => 2, (6, 5) => 1, (4, 2) => 0, (5, 1) => 0, (6, 2) => 1, (4, 3) => 2, (4, 6) => 2, (6, 3) => 1, (6, 6) => 1…), [0 0 … 0 1; 1 0 … 0 0; … ; 0 0 … 0 0; 0 0 … 0 0], 27), (Dict((5, 0) => 0, (4, 5) => 2, (6, 5) => 1, (4, 2) => 0, (5, 1) => 0, (6, 2) => 1, (4, 3) => 2, (4, 6) => 2, (6, 3) => 1, (6, 6) => 1…), [0 0 … 0 1; 1 0 … 0 0; … ; 0 0 … 0 0; 0 0 … 0 0], 29), (Dict((5, 0) => 0, (4, 5) => 2, (6, 5) => 1, (4, 2) => 1, (5, 1) => 0, (6, 2) => 1, (4, 3) => 2, (4, 6) => 2, (6, 3) => 1, (6, 6) => 1…), [0 0 … 0 1; 1 0 … 0 0; … ; 1 0 … 0 0; 0 0 … 0 0], 27), (Dict((5, 0) => 0, (4, 5) => 2, (6, 5) => 1, (4, 2) => 1, (5, 1) => 0, (6, 2) => 1, (4, 3) => 2, (4, 6) => 2, (6, 3) => 1, (6, 6) => 1…), [0 0 … 0 1; 1 0 … 0 0; … ; 0 0 … 0 0; 0 0 … 0 0], 23), (Dict((5, 0) => 0, (4, 5) => 2, (6, 5) => 1, (4, 2) => 1, (5, 1) => 0, (6, 2) => 1, (4, 3) => 2, (4, 6) => 2, (6, 3) => 1, (6, 6) => 1…), [0 0 … 0 1; 1 0 … 0 0; … ; 0 0 … 0 0; 0 0 … 0 0], 24), (Dict((5, 0) => 0, (4, 5) => 2, (6, 5) => 1, (4, 2) => 2, (5, 1) => 0, (6, 2) => 1, (4, 3) => 2, (4, 6) => 2, (6, 3) => 1, (6, 6) => 1…), [0 0 … 0 1; 1 0 … 0 0; … ; 1 0 … 0 0; 0 0 … 0 0], 29), (Dict((5, 0) => 0, (4, 5) => 2, (6, 5) => 1, (4, 2) => 2, (5, 1) => 0, (6, 2) => 1, (4, 3) => 2, (4, 6) => 2, (6, 3) => 1, (6, 6) => 1…), [0 0 … 0 1; 1 0 … 0 0; … ; 0 0 … 0 0; 0 0 … 0 0], 24), (Dict((5, 0) => 0, (4, 5) => 2, (6, 5) => 1, (4, 2) => 2, (5, 1) => 0, (6, 2) => 1, (4, 3) => 2, (4, 6) => 2, (6, 3) => 1, (6, 6) => 1…), [0 0 … 0 1; 1 0 … 0 0; … ; 0 0 … 0 0; 0 0 … 0 0], 25)]"
      ]
     },
     "execution_count": 47,
     "metadata": {},
     "output_type": "execute_result"
    }
   ],
   "source": [
    "De = [extended_data(S[i-2], I[i-2], i) for i=3:7]"
   ]
  },
  {
   "cell_type": "code",
   "execution_count": 48,
   "id": "7f6cb745",
   "metadata": {},
   "outputs": [
    {
     "ename": "LoadError",
     "evalue": "syntax: incomplete: \"for\" at In[48]:2 requires end",
     "output_type": "error",
     "traceback": [
      "syntax: incomplete: \"for\" at In[48]:2 requires end",
      "",
      "Stacktrace:",
      " [1] top-level scope",
      "   @ In[48]:2",
      " [2] eval",
      "   @ .\\boot.jl:360 [inlined]",
      " [3] include_string(mapexpr::typeof(REPL.softscope), mod::Module, code::String, filename::String)",
      "   @ Base .\\loading.jl:1116"
     ]
    }
   ],
   "source": [
    "M = []\n",
    "for i=3:10\n",
    "    push!(D, )"
   ]
  },
  {
   "cell_type": "code",
   "execution_count": 40,
   "id": "96fbcc01",
   "metadata": {},
   "outputs": [
    {
     "data": {
      "text/plain": [
       "get_gaps (generic function with 1 method)"
      ]
     },
     "execution_count": 40,
     "metadata": {},
     "output_type": "execute_result"
    }
   ],
   "source": [
    "function get_gaps(L)\n",
    "    V = sort(L)\n",
    "    G = [V[1] - 0.5]\n",
    "    for i = 1 : (length(V) - 1)\n",
    "        push!(G, (V[i] + V[i+1])/2)\n",
    "    end\n",
    "    push!(G, V[length(V)] + 0.5)\n",
    "    \n",
    "    return [g for g in G]\n",
    "end"
   ]
  },
  {
   "cell_type": "code",
   "execution_count": 22,
   "id": "cec8baba",
   "metadata": {},
   "outputs": [
    {
     "data": {
      "text/plain": [
       "6-element Vector{Float64}:\n",
       " -2.99\n",
       " -2.24\n",
       " -1.49\n",
       " -0.49\n",
       "  0.51\n",
       "  1.51"
      ]
     },
     "execution_count": 22,
     "metadata": {},
     "output_type": "execute_result"
    }
   ],
   "source": [
    "get_gaps([-2.5,-2,0,1,-1])"
   ]
  },
  {
   "cell_type": "code",
   "execution_count": 68,
   "id": "24014d0d",
   "metadata": {},
   "outputs": [],
   "source": [
    "test_lam = []\n",
    "\n",
    "for mu_0 in [-2, 0, 2]\n",
    "    for mu_1 in [-1, 1]\n",
    "        mu_2 = - mu_1\n",
    "        for eta_1 in get_gaps([mu_0, mu_1, mu_2])\n",
    "            for eta_2 in get_gaps([eta_1, mu_0, mu_1, mu_2])\n",
    "                eta_0 = - eta_1 - eta_2\n",
    "                lambda = Dict()\n",
    "                lambda[(6,0)] = mu_0\n",
    "                lambda[(6,1)] = mu_1\n",
    "                lambda[(6,2)] = mu_2\n",
    "                lambda[(5,0)] = lambda[(5,1)] = lambda[(5,2)] = 0\n",
    "                lambda[(4,0)] = 0\n",
    "                lambda[(4,1)] = eta_1\n",
    "                lambda[(4,2)] = eta_1 + eta_2\n",
    "                push!(test_lam, lambda)\n",
    "            end\n",
    "        end\n",
    "    end\n",
    "end"
   ]
  },
  {
   "cell_type": "code",
   "execution_count": 52,
   "id": "b5c600d0",
   "metadata": {},
   "outputs": [
    {
     "data": {
      "text/plain": [
       "to_lambda (generic function with 2 methods)"
      ]
     },
     "execution_count": 52,
     "metadata": {},
     "output_type": "execute_result"
    }
   ],
   "source": [
    "function to_lambda(mu, eta, n)\n",
    "    lambda = Dict()\n",
    "    for i=0:(n-1)\n",
    "        lambda[(6,i)] = mu[i+1] ## set lambda_6^k = mu_k\n",
    "        lambda[(5,i)] = 0 ## set all lambda_5 = 0\n",
    "    end\n",
    "\n",
    "    lambda[(4,0)] = 0 ## set lambda_4^0 = 0\n",
    "    for i=1:(n-1)\n",
    "        lambda[(4,i)] = sum(eta[1:i]) ## set lambda_4^k = sum of first k etas\n",
    "    end\n",
    "    return lambda\n",
    "end"
   ]
  },
  {
   "cell_type": "code",
   "execution_count": 70,
   "id": "46fd62ac",
   "metadata": {},
   "outputs": [],
   "source": [
    "data_3 = []\n",
    "for l in test_lam\n",
    "    B = getMatrix(l, 3)\n",
    "    r = LinearAlgebra.rank(B)\n",
    "    push!(data_3, (l, r))\n",
    "end"
   ]
  },
  {
   "cell_type": "code",
   "execution_count": 73,
   "id": "8bb884fb",
   "metadata": {},
   "outputs": [
    {
     "data": {
      "text/plain": [
       "Set{Int64} with 1 element:\n",
       "  9"
      ]
     },
     "execution_count": 73,
     "metadata": {},
     "output_type": "execute_result"
    }
   ],
   "source": [
    "ranks = Set([d[2] for d in data_3])"
   ]
  },
  {
   "cell_type": "code",
   "execution_count": 74,
   "id": "1335582a",
   "metadata": {},
   "outputs": [
    {
     "name": "stdout",
     "output_type": "stream",
     "text": [
      "(Dict{Any, Any}((5, 0) => 0, (4, 0) => 0, (6, 0) => -2, (5, 2) => 0, (4, 2) => -5.5, (6, 2) => 1, (5, 1) => 0, (6, 1) => -1, (4, 1) => -2.5), 9)"
     ]
    }
   ],
   "source": [
    "print(data_3[1])"
   ]
  },
  {
   "cell_type": "code",
   "execution_count": 43,
   "id": "fa0f1997",
   "metadata": {},
   "outputs": [
    {
     "data": {
      "text/plain": [
       "better_sampling (generic function with 1 method)"
      ]
     },
     "execution_count": 43,
     "metadata": {},
     "output_type": "execute_result"
    }
   ],
   "source": [
    "function better_sampling(n)\n",
    "    mus = [] ## store lists of mu_0, mu_1, mu_2, ..., mu_n-1\n",
    "    ## pick a permutation of the mu_i, assign to 1, ..., n\n",
    "    for p in collect(Combinatorics.permutations(1:n))\n",
    "        mu_0 = 2*p[1]\n",
    "\n",
    "        ## then compute two shifts: mu_0 = -1, = 1\n",
    "        mu_neg = [2*p[i] - mu_0 - 1 for i=1:n]\n",
    "        mu_pos = [2*p[i] - mu_0 + 1 for i=1:n]\n",
    "        \n",
    "        push!(mus, mu_neg), push!(mus, mu_pos)\n",
    "    end\n",
    "\n",
    "    ## mu needs to be paired with eta\n",
    "\n",
    "    ## now compute some lambda to sample\n",
    "    test_lam = []\n",
    "    for mu in mus\n",
    "        etas = [] ## list to store eta_0, ..., eta_n-1\n",
    "        gaps = get_gaps(mu)\n",
    "\n",
    "        eta = [1 for i=1:n]\n",
    "        push!(etas, [gaps[e] for e in eta])\n",
    "        while minimum(eta) < n + 1\n",
    "            ## I need to find the smallest index not maxed out --> j\n",
    "            j = -1\n",
    "            for i=1:n\n",
    "                if eta[i] < n + 1\n",
    "                    j = i\n",
    "                    break\n",
    "                end\n",
    "            end\n",
    "            \n",
    "            ## then reset everything from 1 --> j-1\n",
    "            for i=1:(j-1)\n",
    "                eta[i] = 1\n",
    "            end\n",
    "\n",
    "            ## and increment the jth index\n",
    "            eta[j] = eta[j] + 1\n",
    "\n",
    "            ## then add that eta to the list\n",
    "            push!(etas, [gaps[e] for e in eta])\n",
    "        end\n",
    "\n",
    "        for eta in etas\n",
    "            lambda = Dict()\n",
    "\n",
    "            for i=0:(n-1)\n",
    "                lambda[(6,i)] = mu[i+1] ## set lambda_6^k = mu_k\n",
    "                lambda[(5,i)] = 0 ## set all lambda_5 = 0\n",
    "            end\n",
    "\n",
    "            lambda[(4,0)] = 0 ## set lambda_4^0 = 0\n",
    "            for i=1:(n-1)\n",
    "                lambda[(4,i)] = sum(eta[1:i]) ## set lambda_4^k = sum of first k etas\n",
    "            end\n",
    "\n",
    "            push!(test_lam, lambda)\n",
    "        end\n",
    "    end\n",
    "    return test_lam\n",
    "end"
   ]
  },
  {
   "cell_type": "code",
   "execution_count": 44,
   "id": "6451056f",
   "metadata": {},
   "outputs": [],
   "source": [
    "test_lam_3 = better_sampling(3);"
   ]
  },
  {
   "cell_type": "code",
   "execution_count": 45,
   "id": "f7c41e04",
   "metadata": {},
   "outputs": [
    {
     "data": {
      "text/plain": [
       "Dict{Any, Any} with 9 entries:\n",
       "  (5, 0) => 0\n",
       "  (4, 0) => 0\n",
       "  (6, 0) => -1\n",
       "  (5, 2) => 0\n",
       "  (4, 2) => -3.0\n",
       "  (5, 1) => 0\n",
       "  (6, 2) => 3\n",
       "  (6, 1) => 1\n",
       "  (4, 1) => -1.5"
      ]
     },
     "execution_count": 45,
     "metadata": {},
     "output_type": "execute_result"
    }
   ],
   "source": [
    "L = test_lam_3[1]"
   ]
  },
  {
   "cell_type": "code",
   "execution_count": 61,
   "id": "94c78b70",
   "metadata": {},
   "outputs": [
    {
     "data": {
      "text/plain": [
       "3-element Vector{Int64}:\n",
       " -1\n",
       "  1\n",
       "  3"
      ]
     },
     "execution_count": 61,
     "metadata": {},
     "output_type": "execute_result"
    }
   ],
   "source": [
    "mus(L, 3)"
   ]
  },
  {
   "cell_type": "code",
   "execution_count": 64,
   "id": "569a9f65",
   "metadata": {},
   "outputs": [
    {
     "ename": "LoadError",
     "evalue": "KeyError: key (4, 3) not found",
     "output_type": "error",
     "traceback": [
      "KeyError: key (4, 3) not found",
      "",
      "Stacktrace:",
      "  [1] getindex",
      "    @ .\\dict.jl:482 [inlined]",
      "  [2] eta(lambda::Dict{Any, Any}, i::Int64)",
      "    @ Main .\\In[63]:2",
      "  [3] #75",
      "    @ .\\none:0 [inlined]",
      "  [4] iterate",
      "    @ .\\generator.jl:47 [inlined]",
      "  [5] collect_to!(dest::Vector{Float64}, itr::Base.Generator{UnitRange{Int64}, var\"#75#76\"{Dict{Any, Any}}}, offs::Int64, st::Int64)",
      "    @ Base .\\array.jl:728",
      "  [6] collect_to_with_first!(dest::Vector{Float64}, v1::Float64, itr::Base.Generator{UnitRange{Int64}, var\"#75#76\"{Dict{Any, Any}}}, st::Int64)",
      "    @ Base .\\array.jl:706",
      "  [7] collect(itr::Base.Generator{UnitRange{Int64}, var\"#75#76\"{Dict{Any, Any}}})",
      "    @ Base .\\array.jl:687",
      "  [8] etas(lambda::Dict{Any, Any}, n::Int64)",
      "    @ Main .\\In[63]:4",
      "  [9] top-level scope",
      "    @ In[64]:1",
      " [10] eval",
      "    @ .\\boot.jl:360 [inlined]",
      " [11] include_string(mapexpr::typeof(REPL.softscope), mod::Module, code::String, filename::String)",
      "    @ Base .\\loading.jl:1116"
     ]
    }
   ],
   "source": [
    "etas(L, 3)"
   ]
  },
  {
   "cell_type": "code",
   "execution_count": 54,
   "id": "c65affac",
   "metadata": {},
   "outputs": [
    {
     "data": {
      "text/plain": [
       "Dict{Any, Any} with 9 entries:\n",
       "  (5, 0) => 0\n",
       "  (4, 0) => 0\n",
       "  (6, 0) => -1\n",
       "  (5, 2) => 0\n",
       "  (4, 2) => -0.5\n",
       "  (5, 1) => 0\n",
       "  (6, 2) => -3\n",
       "  (6, 1) => 1\n",
       "  (4, 1) => -2.0"
      ]
     },
     "execution_count": 54,
     "metadata": {},
     "output_type": "execute_result"
    }
   ],
   "source": [
    "test_L = to_lambda([-1,1,-3], [-2,1.5,-2], 3)"
   ]
  },
  {
   "cell_type": "code",
   "execution_count": 55,
   "id": "1a9f46e8",
   "metadata": {},
   "outputs": [
    {
     "data": {
      "text/plain": [
       "15×9 Matrix{Int64}:\n",
       " 0  0  1  0  0  1  0  0  1\n",
       " 1  0  0  1  0  0  1  0  0\n",
       " 0  1  0  0  1  0  0  1  0\n",
       " 0  0  0  0  0  0  1  1  1\n",
       " 1  1  1  0  0  0  0  0  0\n",
       " 0  0  0  1  1  1  0  0  0\n",
       " 0  0  0  0  0  0  0  0  0\n",
       " 0  0  0  0  0  0  0  0  0\n",
       " 0  0  0  0  0  0  0  0  0\n",
       " 0  0  0  0  0  0  0  0  0\n",
       " 0  0  0  0  0  0  0  0  0\n",
       " 0  0  0  0  0  0  0  0  0\n",
       " 0  0  0  0  0  0  0  0  0\n",
       " 0  0  0  0  0  0  0  0  0\n",
       " 0  0  0  0  0  0  0  0  0"
      ]
     },
     "execution_count": 55,
     "metadata": {},
     "output_type": "execute_result"
    }
   ],
   "source": [
    "M = getMatrix(test_L, 3)"
   ]
  },
  {
   "cell_type": "code",
   "execution_count": 56,
   "id": "bed5c140",
   "metadata": {},
   "outputs": [
    {
     "data": {
      "text/plain": [
       "5"
      ]
     },
     "execution_count": 56,
     "metadata": {},
     "output_type": "execute_result"
    }
   ],
   "source": [
    "LinearAlgebra.rank(M)"
   ]
  },
  {
   "cell_type": "code",
   "execution_count": 57,
   "id": "cb06e738",
   "metadata": {},
   "outputs": [],
   "source": [
    "ranks = [LinearAlgebra.rank(getMatrix(l, 3)) for l in better_sampling(3)];"
   ]
  },
  {
   "cell_type": "code",
   "execution_count": 58,
   "id": "813b2f50",
   "metadata": {},
   "outputs": [
    {
     "data": {
      "text/plain": [
       "Set{Int64} with 1 element:\n",
       "  5"
      ]
     },
     "execution_count": 58,
     "metadata": {},
     "output_type": "execute_result"
    }
   ],
   "source": [
    "Set(ranks)"
   ]
  },
  {
   "cell_type": "code",
   "execution_count": null,
   "id": "469a57f4",
   "metadata": {},
   "outputs": [],
   "source": []
  }
 ],
 "metadata": {
  "kernelspec": {
   "display_name": "Julia 1.6.3",
   "language": "julia",
   "name": "julia-1.6"
  },
  "language_info": {
   "file_extension": ".jl",
   "mimetype": "application/julia",
   "name": "julia",
   "version": "1.6.3"
  }
 },
 "nbformat": 4,
 "nbformat_minor": 5
}
