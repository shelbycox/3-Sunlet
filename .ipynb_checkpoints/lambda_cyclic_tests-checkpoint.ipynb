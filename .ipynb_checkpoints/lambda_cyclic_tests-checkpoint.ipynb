{
 "cells": [
  {
   "cell_type": "code",
   "execution_count": 18,
   "id": "d7934eec",
   "metadata": {},
   "outputs": [
    {
     "data": {
      "text/plain": [
       "getRank (generic function with 1 method)"
      ]
     },
     "execution_count": 18,
     "metadata": {},
     "output_type": "execute_result"
    }
   ],
   "source": [
    "include(\"lambda_cyclic.jl\")"
   ]
  },
  {
   "cell_type": "code",
   "execution_count": 21,
   "id": "c66c44f7",
   "metadata": {},
   "outputs": [
    {
     "name": "stdout",
     "output_type": "stream",
     "text": [
      "Any[(5, 0), (4, 0)]"
     ]
    },
    {
     "data": {
      "text/plain": [
       "-1"
      ]
     },
     "execution_count": 21,
     "metadata": {},
     "output_type": "execute_result"
    }
   ],
   "source": [
    "test_lambda = lam = Dict([(5,0)=>-1, (5,1)=>1, (6,0)=>2, (6,1)=>-2, (4,1)=>0, (4,0)=>0])\n",
    "test_triples = ([1,1,1], [0,0,1])\n",
    "test_structure = [2]\n",
    "answers = [1, -1]\n",
    "\n",
    "function testComputeLambda()\n",
    "    for i in length(answers)\n",
    "        if computeLambda(test_triples[i], basisExponents[1], test_lambda, test_structure) != answers[i]\n",
    "            print(\"Error: \", i)\n",
    "        end\n",
    "    end\n",
    "end"
   ]
  },
  {
   "cell_type": "code",
   "execution_count": 20,
   "id": "382d0cd4",
   "metadata": {},
   "outputs": [
    {
     "data": {
      "text/plain": [
       "3-element Vector{Int64}:\n",
       " 0\n",
       " 0\n",
       " 1"
      ]
     },
     "execution_count": 20,
     "metadata": {},
     "output_type": "execute_result"
    }
   ],
   "source": [
    "test_triples[2]"
   ]
  },
  {
   "cell_type": "code",
   "execution_count": null,
   "id": "322113f9",
   "metadata": {},
   "outputs": [],
   "source": []
  }
 ],
 "metadata": {
  "kernelspec": {
   "display_name": "Julia 1.8.5",
   "language": "julia",
   "name": "julia-1.8"
  },
  "language_info": {
   "file_extension": ".jl",
   "mimetype": "application/julia",
   "name": "julia",
   "version": "1.8.5"
  }
 },
 "nbformat": 4,
 "nbformat_minor": 5
}
