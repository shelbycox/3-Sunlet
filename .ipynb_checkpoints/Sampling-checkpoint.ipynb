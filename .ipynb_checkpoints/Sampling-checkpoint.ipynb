{
 "cells": [
  {
   "cell_type": "markdown",
   "id": "1aeae5ba",
   "metadata": {},
   "source": [
    "# Random Sampling in a Hyperplane Arrangement Complement\n",
    "\n",
    "### Import Packages"
   ]
  },
  {
   "cell_type": "code",
   "execution_count": 2,
   "id": "a5b9cee3",
   "metadata": {},
   "outputs": [
    {
     "data": {
      "text/plain": [
       "getRank (generic function with 1 method)"
      ]
     },
     "execution_count": 2,
     "metadata": {},
     "output_type": "execute_result"
    }
   ],
   "source": [
    "## only run this once\n",
    "using LinearAlgebra\n",
    "include(\"lambda_cyclic.jl\")"
   ]
  },
  {
   "cell_type": "markdown",
   "id": "27a81f04",
   "metadata": {},
   "source": [
    "### Generate a random point"
   ]
  },
  {
   "cell_type": "code",
   "execution_count": 3,
   "id": "7a5bbb1e",
   "metadata": {},
   "outputs": [
    {
     "data": {
      "text/plain": [
       "p (generic function with 1 method)"
      ]
     },
     "execution_count": 3,
     "metadata": {},
     "output_type": "execute_result"
    }
   ],
   "source": [
    "p(n) = [rand(Float64)-.5 for j=1:n]"
   ]
  },
  {
   "cell_type": "markdown",
   "id": "7df7fe6c",
   "metadata": {},
   "source": [
    "### Generate the 3-Sunlet hyperplanes"
   ]
  },
  {
   "cell_type": "code",
   "execution_count": 4,
   "id": "92476b9b",
   "metadata": {},
   "outputs": [
    {
     "data": {
      "text/plain": [
       "getH (generic function with 1 method)"
      ]
     },
     "execution_count": 4,
     "metadata": {},
     "output_type": "execute_result"
    }
   ],
   "source": [
    "function getH(k)\n",
    "    H = []\n",
    "    v = zero(rand(2*k))\n",
    "    v[1] = 1\n",
    "    push!(H, v)\n",
    "    \n",
    "    for i=2:k\n",
    "        for j=(k+1):(2*k)\n",
    "            v = zero(rand(2*k))\n",
    "            v[i] = v[j] = 1\n",
    "            push!(H, v)\n",
    "            \n",
    "            w = zero(rand(2*k))\n",
    "            w[i] = 1\n",
    "            w[j] = -1\n",
    "            push!(H, w)\n",
    "        end\n",
    "    end\n",
    "    return H\n",
    "end"
   ]
  },
  {
   "cell_type": "code",
   "execution_count": 5,
   "id": "4eead8a7",
   "metadata": {},
   "outputs": [
    {
     "data": {
      "text/plain": [
       "7-element Vector{Matrix{Int64}}:\n",
       " [1 0 … 0 0]\n",
       " [0 1 … 0 0]\n",
       " [0 1 … -1 0]\n",
       " [0 1 … 0 -1]\n",
       " [0 0 … 0 0]\n",
       " [0 0 … 1 0]\n",
       " [0 0 … 0 1]"
      ]
     },
     "execution_count": 5,
     "metadata": {},
     "output_type": "execute_result"
    }
   ],
   "source": [
    "H3 = [[1 0 0 0 0 0], [0 1 0 -1 0 0], [0 1 0 0 -1 0], [0 1 0 0 0 -1], [0 0 1 1 0 0], [0 0 1 0 1 0], [0 0 1 0 0 1]];\n",
    "H3"
   ]
  },
  {
   "cell_type": "code",
   "execution_count": 6,
   "id": "64e9184e",
   "metadata": {},
   "outputs": [
    {
     "data": {
      "text/plain": [
       "1-element Vector{String}:\n",
       " \"mu_0\""
      ]
     },
     "execution_count": 6,
     "metadata": {},
     "output_type": "execute_result"
    }
   ],
   "source": [
    "coords_3 = [\"mu_0\", \"mu_1\", \"mu_2\", \"eta_{10}\", \"eta_{21}\", \"eta_{02}\"]\n",
    "coords_3[[i for i in eachindex(H3[1]) if H3[1][i] != 0]]"
   ]
  },
  {
   "cell_type": "code",
   "execution_count": 7,
   "id": "a8630f3b",
   "metadata": {},
   "outputs": [
    {
     "name": "stdout",
     "output_type": "stream",
     "text": [
      "$H_1$ & 1 & 0 & 0 & 0 & 0 & 0 & "
     ]
    },
    {
     "ename": "LoadError",
     "evalue": "UndefVarError: coords not defined",
     "output_type": "error",
     "traceback": [
      "UndefVarError: coords not defined",
      "",
      "Stacktrace:",
      " [1] top-level scope",
      "   @ In[7]:8"
     ]
    }
   ],
   "source": [
    "for h in eachindex(H3)\n",
    "    H = H3[h]\n",
    "    print(\"\\$H_\", h, \"\\$ & \")\n",
    "    for j in eachindex(H)\n",
    "        print(H[j], \" & \")\n",
    "    end\n",
    "    vars = [i for i in eachindex(H) if H[i] != 0]\n",
    "    coord = coords[vars]\n",
    "    coeff = H[vars]\n",
    "    print(\"\\$\")\n",
    "    for v in eachindex(vars)\n",
    "        if v != length(vars)\n",
    "            if coeff[v+1] > 0\n",
    "                print(\"\\\\\", coord[v], \" + \")\n",
    "            else\n",
    "                print(\"\\\\\", coord[v], \" - \")\n",
    "            end\n",
    "        else\n",
    "            print(\"\\\\\", coord[v], \" = 0\\$ \\\\\")\n",
    "        end\n",
    "    end\n",
    "    println()\n",
    "end"
   ]
  },
  {
   "cell_type": "code",
   "execution_count": 8,
   "id": "4951b489",
   "metadata": {},
   "outputs": [
    {
     "data": {
      "text/plain": [
       "8-element Vector{String}:\n",
       " \"mu_0\"\n",
       " \"mu_1\"\n",
       " \"mu_2\"\n",
       " \"mu_3\"\n",
       " \"eta_{10}\"\n",
       " \"eta_{21}\"\n",
       " \"eta_{32}\"\n",
       " \"eta_{03}\""
      ]
     },
     "execution_count": 8,
     "metadata": {},
     "output_type": "execute_result"
    }
   ],
   "source": [
    "coords_4 = [\"mu_0\", \"mu_1\", \"mu_2\", \"mu_3\", \"eta_{10}\", \"eta_{21}\", \"eta_{32}\", \"eta_{03}\"]"
   ]
  },
  {
   "cell_type": "code",
   "execution_count": 9,
   "id": "f63729e6",
   "metadata": {},
   "outputs": [
    {
     "data": {
      "text/plain": [
       "HToLatex (generic function with 1 method)"
      ]
     },
     "execution_count": 9,
     "metadata": {},
     "output_type": "execute_result"
    }
   ],
   "source": [
    "function HToLatex(Hs, validTriples, coords)\n",
    "    nonTrivialTriples = [G for G in validTriples if G[1][1] != 0]\n",
    "    for h in eachindex(Hs)\n",
    "        H = Hs[h]\n",
    "        if h < length(nonTrivialTriples)\n",
    "            G = nonTrivialTriples[h]\n",
    "            print('(', G[1][1], ',', G[2][1], ',', G[3][1], ')')\n",
    "        else\n",
    "            print(\"(0,*,*)\")\n",
    "        end\n",
    "        print(\"\\$H_\\{\", h, \"\\}\\$ & \")\n",
    "        for j in eachindex(H)\n",
    "            print(H[j], \" & \")\n",
    "        end\n",
    "        \n",
    "        vars = [i for i in eachindex(H) if H[i] != 0]\n",
    "        coord = coords[vars]\n",
    "        coeff = H[vars]\n",
    "        print(\"\\$\")\n",
    "        for v in eachindex(vars)\n",
    "            if v != length(vars)\n",
    "                if coeff[v+1] > 0\n",
    "                     print(\"\\\\\", coord[v], \" + \")\n",
    "                else\n",
    "                    print(\"\\\\\", coord[v], \" - \")\n",
    "                end\n",
    "            else\n",
    "                print(\"\\\\\", coord[v], \" = 0\\$ \\\\\")\n",
    "            end\n",
    "        end\n",
    "        println()\n",
    "    end\n",
    "end"
   ]
  },
  {
   "cell_type": "code",
   "execution_count": 10,
   "id": "3420689a",
   "metadata": {},
   "outputs": [
    {
     "ename": "LoadError",
     "evalue": "UndefVarError: H4 not defined",
     "output_type": "error",
     "traceback": [
      "UndefVarError: H4 not defined",
      "",
      "Stacktrace:",
      " [1] top-level scope",
      "   @ In[10]:1"
     ]
    }
   ],
   "source": [
    "HToLatex(H4, coords_4)"
   ]
  },
  {
   "cell_type": "code",
   "execution_count": 11,
   "id": "5063ed8c",
   "metadata": {},
   "outputs": [
    {
     "data": {
      "text/plain": [
       "generateSunletArr (generic function with 1 method)"
      ]
     },
     "execution_count": 11,
     "metadata": {},
     "output_type": "execute_result"
    }
   ],
   "source": [
    "function generateSunletArr(group::FiniteCyclicGroup)\n",
    "    groupSize = prod(group.structure)\n",
    "    validTriples = getValidGroupTriples(group)\n",
    "    groupElements = vec(getGroupElements(group))\n",
    "    numFactors = getNumFactors(group)\n",
    "    \n",
    "    H = []\n",
    "    \n",
    "    mu0 = zeros(Int, 2*groupSize)\n",
    "    mu0[1] = Int(1)\n",
    "    push!(H, mu0)\n",
    "    \n",
    "    for G in validTriples\n",
    "        if G[1] != zeros(Int, numFactors)\n",
    "            ## get the mu index\n",
    "            muIndex = findfirst(x -> x == G[1], groupElements)\n",
    "            etaIndex = [findfirst(x -> x == groupAdd(group, [G[1], G[2]]), groupElements), findfirst(x -> x == G[2], groupElements)]\n",
    "            \n",
    "            ## also need to determine the sign of eta\n",
    "            ## +1 if g_1 + g_2 index is higher than g_2 index, -1 otherwise\n",
    "            etaSign = Int((Int(etaIndex[1] > etaIndex[2])-.5)*2)\n",
    "            \n",
    "            ## convert eta index if necessary\n",
    "            if Set(etaIndex) == Set([1, groupSize])\n",
    "                etaIndex = groupSize\n",
    "                etaSign = -etaSign\n",
    "            elseif abs(etaIndex[1] - etaIndex[2]) > 1\n",
    "                newEtaIndex = [i for i=(minimum(etaIndex)+1):maximum(etaIndex)]\n",
    "                etaIndex = newEtaIndex\n",
    "            else\n",
    "                etaIndex = maximum(etaIndex)-1\n",
    "            end\n",
    "            \n",
    "            ##                        1  2  3  4  5       n\n",
    "            ## eta coordinate order: 10 21 32 43 54 ... 0(n-1)\n",
    "            newHyperplane = [Int(i-groupSize in etaIndex)*etaSign for i=1:2*groupSize]\n",
    "            newHyperplane[muIndex] = 1\n",
    "            push!(H, newHyperplane)\n",
    "        end\n",
    "    end\n",
    "    return H\n",
    "end"
   ]
  },
  {
   "cell_type": "code",
   "execution_count": 12,
   "id": "3cdbe016",
   "metadata": {},
   "outputs": [
    {
     "data": {
      "text/plain": [
       "21-element Vector{Any}:\n",
       " [0, 0, 0, 0, 1, -1, 0, 0, 0, 0]\n",
       " [0, 0, 0, 0, 1, 0, -1, 0, 0, 0]\n",
       " [0, 0, 0, 0, 1, 0, 0, -1, 0, 0]\n",
       " [0, 0, 0, 0, 1, 0, 0, 0, -1, 0]\n",
       " [0, 0, 0, 0, 1, 0, 0, 0, 0, -1]\n",
       " [0, 0, 0, 1, 0, 0, -1, -1, 0, 0]\n",
       " [0, 0, 0, 1, 0, 0, 0, -1, -1, 0]\n",
       " [0, 0, 0, 1, 0, 0, 0, 0, -1, -1]\n",
       " [0, 0, 0, 1, 0, 0, 0, 1, 1, 1]\n",
       " [0, 0, 0, 1, 0, 0, 1, 1, 1, 0]\n",
       " [0, 0, 1, 0, 0, 0, -1, -1, -1, 0]\n",
       " [0, 0, 1, 0, 0, 0, 0, -1, -1, -1]\n",
       " [0, 0, 1, 0, 0, 0, 0, 0, 1, 1]\n",
       " [0, 0, 1, 0, 0, 0, 0, 1, 1, 0]\n",
       " [0, 0, 1, 0, 0, 0, 1, 1, 0, 0]\n",
       " [0, 1, 0, 0, 0, 0, 0, 0, 0, 1]\n",
       " [0, 1, 0, 0, 0, 0, 0, 0, 1, 0]\n",
       " [0, 1, 0, 0, 0, 0, 0, 1, 0, 0]\n",
       " [0, 1, 0, 0, 0, 0, 1, 0, 0, 0]\n",
       " [0, 1, 0, 0, 0, 1, 0, 0, 0, 0]\n",
       " [1, 0, 0, 0, 0, 0, 0, 0, 0, 0]"
      ]
     },
     "execution_count": 12,
     "metadata": {},
     "output_type": "execute_result"
    }
   ],
   "source": [
    "Z5 = FiniteCyclicGroup([5])\n",
    "H5 = generateSunletArr(Z5)\n",
    "sort(H5)"
   ]
  },
  {
   "cell_type": "markdown",
   "id": "c54beeff",
   "metadata": {},
   "source": [
    "## Get the valid group triples in hyperplane order"
   ]
  },
  {
   "cell_type": "code",
   "execution_count": 16,
   "id": "772918c5",
   "metadata": {},
   "outputs": [
    {
     "name": "stdout",
     "output_type": "stream",
     "text": [
      "(4,1,0)\n",
      "(3,2,0)\n",
      "(2,3,0)\n",
      "(1,4,0)\n",
      "(4,0,1)\n",
      "(3,1,1)\n",
      "(2,2,1)\n",
      "(1,3,1)\n",
      "(3,0,2)\n",
      "(2,1,2)\n",
      "(1,2,2)\n",
      "(4,4,2)\n",
      "(2,0,3)\n",
      "(1,1,3)\n",
      "(4,3,3)\n",
      "(3,4,3)\n",
      "(1,0,4)\n",
      "(4,2,4)\n",
      "(3,3,4)\n",
      "(2,4,4)\n"
     ]
    }
   ],
   "source": [
    "for G in getValidGroupTriples(Z5)\n",
    "    if G[1][1] != 0\n",
    "        println('(', G[1][1], ',', G[2][1], ',', G[3][1], ')')\n",
    "    end\n",
    "end"
   ]
  },
  {
   "cell_type": "markdown",
   "id": "5ec77cec",
   "metadata": {},
   "source": [
    "### Inequality vector"
   ]
  },
  {
   "cell_type": "code",
   "execution_count": null,
   "id": "7a293df4",
   "metadata": {},
   "outputs": [],
   "source": [
    "ineq(v, H) = [LinearAlgebra.dot(v, h) > 0 for h in H]"
   ]
  },
  {
   "cell_type": "code",
   "execution_count": null,
   "id": "d0cc6f75",
   "metadata": {},
   "outputs": [],
   "source": [
    "neighbors(I, J) = (sum(I .⊻ J) == 1)"
   ]
  },
  {
   "cell_type": "markdown",
   "id": "484452af",
   "metadata": {},
   "source": [
    "### Sampling Algorithm"
   ]
  },
  {
   "cell_type": "code",
   "execution_count": null,
   "id": "ad16d9ee",
   "metadata": {},
   "outputs": [],
   "source": [
    "\"\"\"\n",
    "H is the hyperplane arrangement\n",
    "N is the number of samples to take\n",
    "groupStructure is a list of factors for the finite abelian group\n",
    "\"\"\"\n",
    "function sample(groupSize::Int, H, N::Int)\n",
    "    sample = Dict()\n",
    "    for i=1:N\n",
    "        new_point = getSamplePoint(groupSize, H) ## make a struct for groups, then include groupSize and H in that\n",
    "        sample[ineq(new_point, H)] = new_point\n",
    "    end\n",
    "    return sample\n",
    "end\n",
    "\n",
    "function getSamplePoint(groupSize::Int, H)\n",
    "    point = p(2*groupSize)\n",
    "    point[end] = -sum(point[(groupSize+1):(end-1)]) ## making sure the condition on the sum of the lambda holds\n",
    "    return point\n",
    "end"
   ]
  },
  {
   "cell_type": "markdown",
   "id": "47061da0",
   "metadata": {},
   "source": [
    "## Example $n = 3$"
   ]
  },
  {
   "cell_type": "code",
   "execution_count": null,
   "id": "9a0439ee",
   "metadata": {},
   "outputs": [],
   "source": [
    "n = 3\n",
    "@time s3 = sample(3, H3, 2^20); ## get the sample points (< 2 seconds usually)\n",
    "println(length(s3))\n",
    "ranks = [getRank(s, n) for s in collect(values(s3))]; ## get the rank for each sample point\n",
    "R = Set(ranks)\n",
    "println(\"R=\", R)\n",
    "counts = [sum([r==k for r in ranks]) for k in R]; ## tabulate the ranks\n",
    "priors = [c/sum(counts) for c in counts]; ## compute priors (% of samples with given rank)\n",
    "counts"
   ]
  },
  {
   "cell_type": "markdown",
   "id": "0d9bcb76",
   "metadata": {},
   "source": [
    "## checking if $\\mu_0$ does anything..."
   ]
  },
  {
   "cell_type": "code",
   "execution_count": null,
   "id": "49be7f14",
   "metadata": {},
   "outputs": [],
   "source": [
    "inequalityKeys = collect(keys(s3))\n",
    "for I in inequalityKeys\n",
    "    for J in inequalityKeys\n",
    "#         println(I .⊻ J)\n",
    "        if I .⊻ J == [Bool(1), Bool(0), Bool(0), Bool(0), Bool(0), Bool(0), Bool(0)]\n",
    "            print(getRank(s3[I], [3]) - getRank(s3[J], [3]))\n",
    "        end\n",
    "    end\n",
    "end"
   ]
  },
  {
   "cell_type": "code",
   "execution_count": null,
   "id": "e89d0bf5",
   "metadata": {},
   "outputs": [],
   "source": [
    "print([Bool(1), Bool(0), Bool(0), Bool(0), Bool(0), Bool(0)])"
   ]
  },
  {
   "cell_type": "markdown",
   "id": "4ae13198",
   "metadata": {},
   "source": [
    "### Test Neighbors"
   ]
  },
  {
   "cell_type": "code",
   "execution_count": null,
   "id": "a3958755",
   "metadata": {},
   "outputs": [],
   "source": [
    "for I in collect(keys(s3))\n",
    "    s = s3[I]\n",
    "    curr_rank = getRank(s, n)\n",
    "    for J in collect(keys(s3))\n",
    "        if neighbors(I, J)\n",
    "            neighbor = s3[J]\n",
    "            n_rank = getRank(neighbor, n)\n",
    "            print(abs(curr_rank - n_rank))\n",
    "        end\n",
    "    end\n",
    "end"
   ]
  },
  {
   "cell_type": "markdown",
   "id": "8110e81e",
   "metadata": {},
   "source": [
    "### Parochial Chambers"
   ]
  },
  {
   "cell_type": "code",
   "execution_count": null,
   "id": "91824154",
   "metadata": {},
   "outputs": [],
   "source": [
    "p1 = s3[[1, 1, 1, 1, 1, 1, 1]];\n",
    "p2 = s3[[0, 0, 0, 0, 0, 0, 0]];\n",
    "r1 = getRank(p1, n);\n",
    "r2 = getRank(p2, n);\n",
    "println(r1, r2)\n",
    "parochial(s3, 7)\n",
    "# keys(s3)"
   ]
  },
  {
   "cell_type": "code",
   "execution_count": null,
   "id": "f59a9e86",
   "metadata": {},
   "outputs": [],
   "source": [
    "function parochial(S, k)\n",
    "    p0 = S[zeros(Bool, k)]\n",
    "    p1 = S[ones(Bool, k)]\n",
    "    r0 = getRank(p0, n)\n",
    "    r1 = getRank(p1, n)\n",
    "    print(r0, ' ', r1)\n",
    "end"
   ]
  },
  {
   "cell_type": "code",
   "execution_count": null,
   "id": "8b65ab9e",
   "metadata": {},
   "outputs": [],
   "source": [
    "p_avg = (p1 .+ p2)./2; ## average the sample representing parochial chambers\n",
    "r_avg = getRank(p_avg, n) ## the average happens to have full rank"
   ]
  },
  {
   "cell_type": "markdown",
   "id": "7acc5231",
   "metadata": {},
   "source": [
    "### Low Rank Chambers"
   ]
  },
  {
   "cell_type": "code",
   "execution_count": null,
   "id": "153d1ad4",
   "metadata": {},
   "outputs": [],
   "source": [
    "low_rank = []\n",
    "s3_keys = collect(keys(s3))\n",
    "for s in eachindex(s3_keys)\n",
    "    if ranks[s] == 7\n",
    "        push!(low_rank, s)\n",
    "    end\n",
    "end\n",
    "length(low_rank)"
   ]
  },
  {
   "cell_type": "code",
   "execution_count": null,
   "id": "a5fc647b",
   "metadata": {},
   "outputs": [],
   "source": [
    "## two of the chambers are parochial\n",
    "s3_keys[low_rank]"
   ]
  },
  {
   "cell_type": "markdown",
   "id": "2512c7db",
   "metadata": {},
   "source": [
    "### Testing to_lambda function"
   ]
  },
  {
   "cell_type": "code",
   "execution_count": null,
   "id": "ab749e5c",
   "metadata": {},
   "outputs": [],
   "source": [
    "s0 = collect(values(s3))[1];\n",
    "ineq(s0, H3)"
   ]
  },
  {
   "cell_type": "code",
   "execution_count": null,
   "id": "9a1c44c3",
   "metadata": {},
   "outputs": [],
   "source": [
    "G = [[0, 2, 1], [1, 1, 1], [1, 0, 2], [1, 2, 0], [2, 2, 2], [2, 1, 0], [2, 0, 1]]\n",
    "for g in G\n",
    "    print(computeLambda(g, m1, to_lambda(s0[1:3], s0[4:6], 3), 3), ' ')\n",
    "    println(computeLambda(g, m2, to_lambda(s0[1:3], s0[4:6], 3), 3))\n",
    "end"
   ]
  },
  {
   "cell_type": "code",
   "execution_count": null,
   "id": "80dbe4bf",
   "metadata": {},
   "outputs": [],
   "source": [
    "s0"
   ]
  },
  {
   "cell_type": "markdown",
   "id": "2f26351c",
   "metadata": {},
   "source": [
    "## Example $n = 4$"
   ]
  },
  {
   "cell_type": "markdown",
   "id": "c0c321b3",
   "metadata": {},
   "source": [
    "### Generate the Hyperplanes"
   ]
  },
  {
   "cell_type": "code",
   "execution_count": null,
   "id": "0c961fd7",
   "metadata": {},
   "outputs": [],
   "source": [
    "## mu 0 1 2 3 eta 10 21 32 03\n",
    "H4 = [[1 0 0 0 0 0 0 0], [0 0 1 0 0 -1 -1 0], [0 0 1 0 -1 -1 0 0], [0 0 1 0 0 1 1 0], [0 0 1 0 1 1 0 0], [0 1 0 0 0 0 -1 0], [0 1 0 0 0 -1 0 0], [0 1 0 0 -1 0 0 0], [0 1 0 0 0 0 0 -1], [0 0 0 1 0 0 0 1], [0 0 0 1 0 0 1 0], [0 0 0 1 0 1 0 0], [0 0 0 1 1 0 0 0]]"
   ]
  },
  {
   "cell_type": "markdown",
   "id": "87fc300b",
   "metadata": {},
   "source": [
    "### Generate Sample Points"
   ]
  },
  {
   "cell_type": "code",
   "execution_count": null,
   "id": "39ab8365",
   "metadata": {},
   "outputs": [],
   "source": [
    "## 2328"
   ]
  },
  {
   "cell_type": "code",
   "execution_count": null,
   "id": "97048d12",
   "metadata": {},
   "outputs": [],
   "source": [
    "function sample_info(n, H, N)\n",
    "    @time S = sample(n, H, N)\n",
    "    println(length(S))\n",
    "    ranks = [getRank(s, n) for s in collect(values(S))];\n",
    "    R = sort(collect(Set(ranks)))\n",
    "    println(\"R=\", R)\n",
    "    counts = [sum([r==k for r in ranks]) for k in R]; ## tabulate the ranks\n",
    "    println(counts)\n",
    "    priors = [100*c/sum(counts) for c in counts]; ## compute priors (% of samples with given rank)\n",
    "    println(priors)\n",
    "    return S\n",
    "end"
   ]
  },
  {
   "cell_type": "code",
   "execution_count": null,
   "id": "a5e4e060",
   "metadata": {},
   "outputs": [],
   "source": [
    "s4 = sample_info(4, H4, 2^20);"
   ]
  },
  {
   "cell_type": "code",
   "execution_count": null,
   "id": "cb41c1b4",
   "metadata": {},
   "outputs": [],
   "source": [
    "inequalityKeys = collect(keys(s4))\n",
    "for I in inequalityKeys\n",
    "    for J in inequalityKeys\n",
    "#         println(I .⊻ J)\n",
    "        if I .⊻ J == [Bool(1), Bool(0), Bool(0), Bool(0), Bool(0), Bool(0), Bool(0), Bool(0), Bool(0), Bool(0), Bool(0), Bool(0), Bool(0)]\n",
    "            print(getRank(s4[I], [3]) - getRank(s4[J], [3]))\n",
    "        end\n",
    "    end\n",
    "end"
   ]
  },
  {
   "cell_type": "markdown",
   "id": "37e6bf51",
   "metadata": {},
   "source": [
    "### Check Neighbors"
   ]
  },
  {
   "cell_type": "code",
   "execution_count": null,
   "id": "0731f92a",
   "metadata": {},
   "outputs": [],
   "source": [
    "function check_neighbors(S, groupStructure)\n",
    "    for I in collect(keys(S))\n",
    "        s = S[I]\n",
    "        curr_rank = getRank(s, groupStructure)\n",
    "        for J in collect(keys(S))\n",
    "            if neighbors(I, J)\n",
    "                neighbor = S[J]\n",
    "                n_rank = getRank(neighbor, groupStructure)\n",
    "                diff = abs(curr_rank - n_rank)\n",
    "                if diff > 1\n",
    "                    print(diff)\n",
    "                end\n",
    "            end\n",
    "        end\n",
    "    end\n",
    "end"
   ]
  },
  {
   "cell_type": "code",
   "execution_count": null,
   "id": "bfb1229b",
   "metadata": {},
   "outputs": [],
   "source": [
    "check_neighbors(s4, 4)"
   ]
  },
  {
   "cell_type": "markdown",
   "id": "32c9c361",
   "metadata": {},
   "source": [
    "### Check Parochial Chambers"
   ]
  },
  {
   "cell_type": "code",
   "execution_count": null,
   "id": "f81757b4",
   "metadata": {},
   "outputs": [],
   "source": [
    "p0 = s4[[0, 0, 0, 0, 0, 0, 0, 0, 0, 0, 0, 0, 0]];\n",
    "p1 = s4[[1, 1, 1, 1, 1, 1, 1, 1, 1, 1, 1, 1, 1]];\n",
    "r0 = getRank(p0, 4)\n",
    "r1 = getRank(p1, 4)\n",
    "print(r0, ' ', r1)"
   ]
  },
  {
   "cell_type": "markdown",
   "id": "5baa3f61",
   "metadata": {},
   "source": [
    "### Low Rank Chambers"
   ]
  },
  {
   "cell_type": "code",
   "execution_count": null,
   "id": "ad414a0a",
   "metadata": {},
   "outputs": [],
   "source": [
    "low_rank_4 = []\n",
    "for s in collect(keys(s4))\n",
    "    if getRank(s4[s], 4) == 10\n",
    "        push!(low_rank_4, s)\n",
    "    end\n",
    "end\n",
    "length(low_rank)"
   ]
  },
  {
   "cell_type": "code",
   "execution_count": null,
   "id": "f585fc4a",
   "metadata": {},
   "outputs": [],
   "source": [
    "low_rank_4"
   ]
  },
  {
   "cell_type": "markdown",
   "id": "54666d0e",
   "metadata": {},
   "source": [
    "### Dictionary of ranks => inequalities"
   ]
  },
  {
   "cell_type": "code",
   "execution_count": null,
   "id": "e9c78376",
   "metadata": {},
   "outputs": [],
   "source": [
    "rdict_3 = Dict([r => [s3_keys[s] for s in eachindex(collect(keys(s3))) if ranks[s] == r] for r in R])"
   ]
  },
  {
   "cell_type": "code",
   "execution_count": null,
   "id": "37278f38",
   "metadata": {},
   "outputs": [],
   "source": [
    "length(rdict_3[9])"
   ]
  },
  {
   "cell_type": "code",
   "execution_count": null,
   "id": "cd321831",
   "metadata": {},
   "outputs": [],
   "source": [
    "function rankToIDict(S, R)\n",
    "    rToI = Dict()\n",
    "    K = collect(keys(S))\n",
    "    for r in Set(R)\n",
    "        rToI[r] = [K[s] for s in eachindex(K) if R[s] == r]\n",
    "    end\n",
    "    return rToI\n",
    "end"
   ]
  },
  {
   "cell_type": "code",
   "execution_count": null,
   "id": "ecc0188a",
   "metadata": {},
   "outputs": [],
   "source": [
    "rdict_4 = rankToIDict(s4, [getRank(s, 4) for s in collect(values(s4))])"
   ]
  },
  {
   "cell_type": "code",
   "execution_count": null,
   "id": "528ef114",
   "metadata": {},
   "outputs": [],
   "source": [
    "for r in collect(keys(rdict_4))\n",
    "    println(length(rdict_4[r]))\n",
    "end"
   ]
  },
  {
   "cell_type": "code",
   "execution_count": null,
   "id": "e5924f24",
   "metadata": {},
   "outputs": [],
   "source": [
    "function printRanks(RI, file_name)\n",
    "    open(file_name, \"w\") do io\n",
    "        for r in sort(collect(keys(RI)))\n",
    "            println(io, \"## rank = \", r)\n",
    "\n",
    "            count = 0\n",
    "            for I in RI[r]\n",
    "                if count % 5 == 0\n",
    "                    println(io, \"\")\n",
    "                end\n",
    "                for b in I\n",
    "                    print(io, Int(b), \" \")\n",
    "                end\n",
    "                println(io, \"\")\n",
    "                count += 1\n",
    "            end\n",
    "\n",
    "            println(io, \"\")\n",
    "        end\n",
    "    end\n",
    "end"
   ]
  },
  {
   "cell_type": "code",
   "execution_count": null,
   "id": "a1f58b98",
   "metadata": {},
   "outputs": [],
   "source": [
    "function latexRanks(RI)\n",
    "    count = 1\n",
    "    for r in sort(collect(keys(RI)))\n",
    "        for I in RI[r]\n",
    "            print(count, \" & \")\n",
    "            for i in eachindex(I)\n",
    "                if i < length(I)\n",
    "                    print(Int(I[i]), \" & \")\n",
    "                else\n",
    "                    print(Int(I[i]), \" & \", r, \" & \\\\\\\\\")\n",
    "                end\n",
    "            end\n",
    "            println()\n",
    "            count += 1\n",
    "        end\n",
    "    end\n",
    "end"
   ]
  },
  {
   "cell_type": "code",
   "execution_count": null,
   "id": "8b8e00ae",
   "metadata": {},
   "outputs": [],
   "source": [
    "latexRanks(rdict_3);"
   ]
  },
  {
   "cell_type": "markdown",
   "id": "c243e159",
   "metadata": {},
   "source": [
    "## Z2 x Z2"
   ]
  },
  {
   "cell_type": "code",
   "execution_count": null,
   "id": "48460f3d",
   "metadata": {},
   "outputs": [],
   "source": [
    "## mu 0 1 2 3, eta 10 21 32 03\n",
    "H22 = [[1 0 0 0 0 0 0 0], [0 1 0 0 1 0 0 0], [0 1 0 0 0 0 1 0], [0 1 0 0 -1 0 0 0], [0 1 0 0 0 0 -1 0], [0 0 1 0 1 1 0 0], [0 0 1 0 0 1 1 0], [0 0 1 0 -1 -1 0 0], [0 0 1 0 0 -1 -1 0], [0 0 0 1 0 0 0 1], [0 0 0 1 0 1 0 0], [0 0 0 1 0 0 0 -1], [0 0 0 1 0 -1 0 0]]"
   ]
  },
  {
   "cell_type": "code",
   "execution_count": null,
   "id": "ba791365",
   "metadata": {},
   "outputs": [],
   "source": [
    "groupStructure = [2,2]\n",
    "@time s22 = sample(4, H22, 2^20); ## get the sample points (< 2 seconds usually)\n",
    "println(length(s22))"
   ]
  },
  {
   "cell_type": "code",
   "execution_count": null,
   "id": "645c93c7",
   "metadata": {
    "scrolled": true
   },
   "outputs": [],
   "source": [
    "ranks = [getRank(s, groupStructure) for s in collect(values(s22))]; ## get the rank for each sample point\n",
    "R = sort(collect(Set(ranks)))\n",
    "ranksByI = Dict([r=>[s for s in collect(keys(s22)) if getRank(s22[s], groupStructure)==r] for r in R])\n",
    "println(\"R=\", R)\n",
    "counts = [sum([r==k for r in ranks]) for k in R]; ## tabulate the ranks\n",
    "priors = [c/sum(counts) for c in counts]; ## compute priors (% of samples with given rank)\n",
    "counts"
   ]
  },
  {
   "cell_type": "code",
   "execution_count": null,
   "id": "8ea4159b",
   "metadata": {},
   "outputs": [],
   "source": [
    "printRanks(ranksByI, \"z2z2_chamber_ranks.txt\")"
   ]
  },
  {
   "cell_type": "code",
   "execution_count": null,
   "id": "6a7bc9ce",
   "metadata": {},
   "outputs": [],
   "source": [
    "priors"
   ]
  },
  {
   "cell_type": "code",
   "execution_count": null,
   "id": "901c2824",
   "metadata": {},
   "outputs": [],
   "source": [
    "check_neighbors(s22, [2,2])"
   ]
  },
  {
   "cell_type": "code",
   "execution_count": null,
   "id": "177a7eee",
   "metadata": {},
   "outputs": [],
   "source": [
    "HToLatex(H22, coords_4)"
   ]
  },
  {
   "cell_type": "markdown",
   "id": "ad70387b",
   "metadata": {},
   "source": [
    "## Z/5Z"
   ]
  },
  {
   "cell_type": "code",
   "execution_count": null,
   "id": "72cc4a2a",
   "metadata": {},
   "outputs": [],
   "source": [
    "@time s5 = sample(5, H5, 2^30); ## get the sample points (< 2 seconds usually)\n",
    "println(length(s5))"
   ]
  },
  {
   "cell_type": "code",
   "execution_count": null,
   "id": "d8c6aab2",
   "metadata": {},
   "outputs": [],
   "source": [
    "# 113350"
   ]
  },
  {
   "cell_type": "code",
   "execution_count": null,
   "id": "159f95bf",
   "metadata": {},
   "outputs": [],
   "source": [
    "ranks = [getRank(s, [5]) for s in collect(values(s5))]; ## get the rank for each sample point\n",
    "R = sort(collect(Set(ranks)))\n",
    "println(\"R=\", R)\n",
    "counts = [sum([r==k for r in ranks]) for k in R]; ## tabulate the ranks\n",
    "priors = [c/sum(counts) for c in counts]; ## compute priors (% of samples with given rank)\n",
    "counts"
   ]
  },
  {
   "cell_type": "code",
   "execution_count": null,
   "id": "b268cde5",
   "metadata": {},
   "outputs": [],
   "source": [
    "priors"
   ]
  },
  {
   "cell_type": "code",
   "execution_count": null,
   "id": "041209e1",
   "metadata": {},
   "outputs": [],
   "source": [
    "check_neighbors(s5, [5])"
   ]
  },
  {
   "cell_type": "code",
   "execution_count": null,
   "id": "c4c5233f",
   "metadata": {},
   "outputs": [],
   "source": [
    "coords_5 = [\"mu_0\", \"mu_1\", \"mu_2\", \"mu_3\", \"mu_4\", \"eta_{10}\", \"eta_{21}\", \"eta_{32}\", \"eta_{43}\", \"eta_{04}\"]\n",
    "HToLatex(H5, coords_5)"
   ]
  },
  {
   "cell_type": "code",
   "execution_count": null,
   "id": "738ca83c",
   "metadata": {},
   "outputs": [],
   "source": [
    "inequalityKeys5 = collect(keys(s5))"
   ]
  },
  {
   "cell_type": "code",
   "execution_count": null,
   "id": "c75a58c9",
   "metadata": {},
   "outputs": [],
   "source": [
    "for i=eachindex(inequalityKeys5)\n",
    "    if ranks[i] == 10\n",
    "        println(inequalityKeys5)\n",
    "    end\n",
    "end"
   ]
  },
  {
   "cell_type": "code",
   "execution_count": null,
   "id": "121dbded",
   "metadata": {},
   "outputs": [],
   "source": []
  }
 ],
 "metadata": {
  "kernelspec": {
   "display_name": "Julia 1.8.5",
   "language": "julia",
   "name": "julia-1.8"
  },
  "language_info": {
   "file_extension": ".jl",
   "mimetype": "application/julia",
   "name": "julia",
   "version": "1.8.5"
  }
 },
 "nbformat": 4,
 "nbformat_minor": 5
}
