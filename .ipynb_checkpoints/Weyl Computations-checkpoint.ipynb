{
 "cells": [
  {
   "cell_type": "code",
   "execution_count": 1,
   "id": "4b7c9399",
   "metadata": {},
   "outputs": [],
   "source": [
    "using LinearAlgebra"
   ]
  },
  {
   "cell_type": "markdown",
   "id": "feb97f4f",
   "metadata": {},
   "source": [
    "# Sampling Points from a Hyperplane Arrangement Complement"
   ]
  },
  {
   "cell_type": "markdown",
   "id": "875e182f",
   "metadata": {},
   "source": [
    "### Start with a random point"
   ]
  },
  {
   "cell_type": "code",
   "execution_count": 2,
   "id": "1d6106ba",
   "metadata": {},
   "outputs": [
    {
     "data": {
      "text/plain": [
       "p (generic function with 1 method)"
      ]
     },
     "execution_count": 2,
     "metadata": {},
     "output_type": "execute_result"
    }
   ],
   "source": [
    "p(n) = [rand(Float64)-.5 for j=1:n]"
   ]
  },
  {
   "cell_type": "markdown",
   "id": "35162f15",
   "metadata": {},
   "source": [
    "### Then reflect over all hyperplanes in the arrangement"
   ]
  },
  {
   "cell_type": "markdown",
   "id": "4757858b",
   "metadata": {},
   "source": [
    "#### getH\n",
    "\n",
    "Get all hyperplanes in the $B_n$ arrangement."
   ]
  },
  {
   "cell_type": "code",
   "execution_count": 3,
   "id": "1a58d801",
   "metadata": {},
   "outputs": [
    {
     "data": {
      "text/plain": [
       "getH (generic function with 2 methods)"
      ]
     },
     "execution_count": 3,
     "metadata": {},
     "output_type": "execute_result"
    }
   ],
   "source": [
    "function getH(k, full=true)\n",
    "    H = []\n",
    "    if full\n",
    "        for i=1:(2*k)\n",
    "            v = zero(rand(2*k))\n",
    "            v[i] = 1\n",
    "            push!(H, v)\n",
    "        end\n",
    "        \n",
    "        for i=1:(2*k)\n",
    "            for j=(i+1):(2*k)\n",
    "                v = zero(rand(2*k))\n",
    "                v[i] = 1\n",
    "                v[j] = -1\n",
    "                push!(H, v)\n",
    "            end\n",
    "        end\n",
    "    else\n",
    "        v = zero(rand(2*k))\n",
    "        v[1] = 1\n",
    "        push!(H, v)\n",
    "        for i=1:k\n",
    "            for j=1:k\n",
    "                v = zero(rand(2*k))\n",
    "                v[i] = 1\n",
    "                v[k + j] = -1\n",
    "                push!(H, v)\n",
    "            end\n",
    "        end\n",
    "    end\n",
    "    return H\n",
    "end"
   ]
  },
  {
   "cell_type": "markdown",
   "id": "405877ba",
   "metadata": {},
   "source": [
    "#### reflect\n",
    "\n",
    "Reflect a vector $v$ over the hyperplane with normal vector $a$."
   ]
  },
  {
   "cell_type": "code",
   "execution_count": 4,
   "id": "c6c9ba6e",
   "metadata": {},
   "outputs": [
    {
     "data": {
      "text/plain": [
       "reflect (generic function with 1 method)"
      ]
     },
     "execution_count": 4,
     "metadata": {},
     "output_type": "execute_result"
    }
   ],
   "source": [
    "function reflect(v, a)\n",
    "    return v .- a*2*(LinearAlgebra.dot(v,a))/LinearAlgebra.dot(a,a)\n",
    "end"
   ]
  },
  {
   "cell_type": "markdown",
   "id": "34c5d357",
   "metadata": {},
   "source": [
    "### Reflect over all hyperplanes"
   ]
  },
  {
   "cell_type": "code",
   "execution_count": 5,
   "id": "f9594b80",
   "metadata": {},
   "outputs": [
    {
     "data": {
      "text/plain": [
       "getOrbit (generic function with 1 method)"
      ]
     },
     "execution_count": 5,
     "metadata": {},
     "output_type": "execute_result"
    }
   ],
   "source": [
    "function getOrbit(v, H)\n",
    "    k = Int(length(v)/2)\n",
    "    orbit = [v]\n",
    "    ineqs = [ineq(v, k, true)]\n",
    "    to_check = [v]\n",
    "    while length(to_check) > 0\n",
    "        new_to_check = []\n",
    "        for u in to_check\n",
    "            for h in H\n",
    "                r = reflect(u, h)\n",
    "                I = ineq(r, k, true)\n",
    "                if I ∉ ineqs\n",
    "                    push!(orbit, r)\n",
    "                    push!(new_to_check, r)\n",
    "                    push!(ineqs, I)\n",
    "                end\n",
    "            end\n",
    "        end\n",
    "        to_check = new_to_check\n",
    "    end\n",
    "    return orbit\n",
    "end"
   ]
  },
  {
   "cell_type": "markdown",
   "id": "422118a0",
   "metadata": {},
   "source": [
    "### Get inequalities"
   ]
  },
  {
   "cell_type": "code",
   "execution_count": 6,
   "id": "5d7d802a",
   "metadata": {},
   "outputs": [
    {
     "data": {
      "text/plain": [
       "ineq (generic function with 2 methods)"
      ]
     },
     "execution_count": 6,
     "metadata": {},
     "output_type": "execute_result"
    }
   ],
   "source": [
    "function ineq(v, k, full=false)\n",
    "    if full\n",
    "        return [[v[i] > 0 for i=1:(2*k)] [v[i] > v[j] for i=1:(2*k), j=1:(2*k)]]\n",
    "    end\n",
    "    top_row = [1 < 0 for i=1:k]\n",
    "    top_row[1] = (v[1] > 0)\n",
    "    return [top_row [v[i] > v[j] for i=1:k, j=(k+1):(2*k)]]\n",
    "end"
   ]
  },
  {
   "cell_type": "code",
   "execution_count": 54,
   "id": "36e5eb46",
   "metadata": {},
   "outputs": [
    {
     "data": {
      "text/plain": [
       "3×4 Matrix{Bool}:\n",
       " 0  0  0  0\n",
       " 0  0  0  0\n",
       " 0  1  1  1"
      ]
     },
     "execution_count": 54,
     "metadata": {},
     "output_type": "execute_result"
    }
   ],
   "source": [
    "ineq(O[9], n)"
   ]
  },
  {
   "cell_type": "code",
   "execution_count": null,
   "id": "5ac4becb",
   "metadata": {},
   "outputs": [],
   "source": []
  },
  {
   "cell_type": "code",
   "execution_count": 53,
   "id": "e260ae7e",
   "metadata": {},
   "outputs": [
    {
     "data": {
      "text/plain": [
       "6-element Vector{Float64}:\n",
       "  0.2881440254707328\n",
       " -0.15237905542856134\n",
       " -0.19993382050353414\n",
       "  0.24339483030503728\n",
       " -0.2908386627135058\n",
       "  0.0901770678123961"
      ]
     },
     "execution_count": 53,
     "metadata": {},
     "output_type": "execute_result"
    }
   ],
   "source": [
    "O[100]"
   ]
  },
  {
   "cell_type": "markdown",
   "id": "4e27604a",
   "metadata": {},
   "source": [
    "### Project to $\\sum \\eta_j = 0$"
   ]
  },
  {
   "cell_type": "code",
   "execution_count": 7,
   "id": "cac8b3e4",
   "metadata": {},
   "outputs": [
    {
     "data": {
      "text/plain": [
       "project (generic function with 1 method)"
      ]
     },
     "execution_count": 7,
     "metadata": {},
     "output_type": "execute_result"
    }
   ],
   "source": [
    "function project(v, a)\n",
    "    return v - a*(LinearAlgebra.dot(v, a))/(LinearAlgebra.dot(a,a))\n",
    "end"
   ]
  },
  {
   "cell_type": "code",
   "execution_count": 8,
   "id": "8d6d5e57",
   "metadata": {},
   "outputs": [
    {
     "data": {
      "text/plain": [
       "getProj (generic function with 1 method)"
      ]
     },
     "execution_count": 8,
     "metadata": {},
     "output_type": "execute_result"
    }
   ],
   "source": [
    "function getProj(orbit, k)\n",
    "    z = zero(rand(2*k))\n",
    "    for i=(k+1):(2*k)\n",
    "        z[i] = 1\n",
    "    end\n",
    "    \n",
    "    P = [project(u, z) for u in orbit]\n",
    "    \n",
    "    sample = []\n",
    "    Is = []\n",
    "    for u in P\n",
    "        I = ineq(u, k)\n",
    "        if I ∉ Is\n",
    "            push!(sample, u)\n",
    "            push!(Is, I)\n",
    "        end\n",
    "    end\n",
    "    \n",
    "    return sample\n",
    "end"
   ]
  },
  {
   "cell_type": "markdown",
   "id": "c424d624",
   "metadata": {},
   "source": [
    "# Example (n = 3)"
   ]
  },
  {
   "cell_type": "code",
   "execution_count": 13,
   "id": "7f04596a",
   "metadata": {},
   "outputs": [],
   "source": [
    "test_v = p(6);"
   ]
  },
  {
   "cell_type": "code",
   "execution_count": 14,
   "id": "bca13274",
   "metadata": {},
   "outputs": [
    {
     "data": {
      "text/plain": [
       "21"
      ]
     },
     "execution_count": 14,
     "metadata": {},
     "output_type": "execute_result"
    }
   ],
   "source": [
    "H = getH(3);\n",
    "length(H)"
   ]
  },
  {
   "cell_type": "code",
   "execution_count": 15,
   "id": "94771b36",
   "metadata": {},
   "outputs": [
    {
     "data": {
      "text/plain": [
       "5040"
      ]
     },
     "execution_count": 15,
     "metadata": {},
     "output_type": "execute_result"
    }
   ],
   "source": [
    "O = getOrbit(test_v, H);\n",
    "print(length(O), '\\n')"
   ]
  },
  {
   "cell_type": "code",
   "execution_count": 16,
   "id": "befa7761",
   "metadata": {},
   "outputs": [
    {
     "data": {
      "text/plain": [
       "318"
      ]
     },
     "execution_count": 16,
     "metadata": {},
     "output_type": "execute_result"
    }
   ],
   "source": [
    "sample = getProj(O, 3);\n",
    "print(length(sample))"
   ]
  },
  {
   "cell_type": "code",
   "execution_count": 66,
   "id": "d740272e",
   "metadata": {},
   "outputs": [
    {
     "name": "stdout",
     "output_type": "stream",
     "text": [
      "5040\n",
      "350"
     ]
    }
   ],
   "source": [
    "n = 3\n",
    "test_v = p(2*n);\n",
    "test_v[2*n] = sum(test_v[(n+1):(2*n-1)])\n",
    "H = getH(n);\n",
    "O = getOrbit(test_v, H);\n",
    "print(length(O), '\\n')\n",
    "sample = getProj(O, n);\n",
    "print(length(sample))"
   ]
  },
  {
   "cell_type": "code",
   "execution_count": 67,
   "id": "782e4962",
   "metadata": {},
   "outputs": [
    {
     "name": "stdout",
     "output_type": "stream",
     "text": [
      "18"
     ]
    }
   ],
   "source": [
    "z = zero(rand(2*n));\n",
    "for i=(n+1):(2*n)\n",
    "    z[i] = 1\n",
    "end\n",
    "P = [project(u, z) for u in O];\n",
    "Is = [];\n",
    "for i=eachindex(P)\n",
    "    u = P[i]\n",
    "    I = ineq(u, n)\n",
    "    if I in Is\n",
    "        print(i)\n",
    "        break\n",
    "    else\n",
    "        push!(Is, I)\n",
    "    end\n",
    "end"
   ]
  },
  {
   "cell_type": "code",
   "execution_count": 68,
   "id": "baf23a3c",
   "metadata": {},
   "outputs": [
    {
     "data": {
      "text/plain": [
       "17-element Vector{Any}:\n",
       " Bool[1 0 0 1; 0 1 1 1; 0 0 0 0]\n",
       " Bool[0 0 0 1; 0 1 1 1; 0 0 0 0]\n",
       " Bool[1 0 0 1; 0 0 0 1; 0 0 0 0]\n",
       " Bool[1 0 0 1; 0 1 1 1; 0 1 1 1]\n",
       " Bool[1 0 1 1; 0 0 1 1; 0 0 0 0]\n",
       " Bool[1 1 0 1; 0 1 0 1; 0 0 0 0]\n",
       " Bool[1 1 1 0; 0 1 1 0; 0 0 0 0]\n",
       " Bool[1 1 1 1; 0 0 0 1; 0 0 0 0]\n",
       " Bool[0 0 0 0; 0 1 1 1; 0 0 0 1]\n",
       " Bool[0 0 0 1; 0 0 1 1; 0 0 0 0]\n",
       " Bool[0 0 0 0; 0 1 0 1; 0 0 0 0]\n",
       " Bool[0 0 0 0; 0 1 1 0; 0 0 0 0]\n",
       " Bool[1 0 0 1; 0 0 0 0; 0 1 1 1]\n",
       " Bool[1 0 1 1; 0 0 0 1; 0 0 0 0]\n",
       " Bool[1 1 0 1; 0 0 0 1; 0 0 0 0]\n",
       " Bool[1 1 1 0; 0 0 0 0; 0 0 0 0]\n",
       " Bool[1 1 0 1; 0 1 1 1; 0 0 0 0]"
      ]
     },
     "execution_count": 68,
     "metadata": {},
     "output_type": "execute_result"
    }
   ],
   "source": [
    "Is"
   ]
  },
  {
   "cell_type": "code",
   "execution_count": 72,
   "id": "7b9fefbe",
   "metadata": {},
   "outputs": [
    {
     "data": {
      "text/plain": [
       "3×4 BitMatrix:\n",
       " 0  0  0  0\n",
       " 0  0  0  0\n",
       " 0  0  0  0"
      ]
     },
     "execution_count": 72,
     "metadata": {},
     "output_type": "execute_result"
    }
   ],
   "source": [
    "ineq(P[18], n) .⊻ ineq(P[5], n)"
   ]
  },
  {
   "cell_type": "code",
   "execution_count": 71,
   "id": "a6f478c2",
   "metadata": {},
   "outputs": [
    {
     "data": {
      "text/plain": [
       "6×7 BitMatrix:\n",
       " 0  0  0  0  1  0  0\n",
       " 0  0  0  0  1  0  0\n",
       " 0  0  0  0  0  1  0\n",
       " 1  1  1  0  0  0  0\n",
       " 0  0  0  1  0  0  0\n",
       " 0  0  0  0  0  0  0"
      ]
     },
     "execution_count": 71,
     "metadata": {},
     "output_type": "execute_result"
    }
   ],
   "source": [
    "ineq(O[5], n, true) .⊻ ineq(O[18], n, true)"
   ]
  },
  {
   "cell_type": "code",
   "execution_count": null,
   "id": "75151745",
   "metadata": {},
   "outputs": [],
   "source": []
  },
  {
   "cell_type": "markdown",
   "id": "1512c2b9",
   "metadata": {},
   "source": [
    "## Navigation between Weyl Chambers"
   ]
  },
  {
   "cell_type": "code",
   "execution_count": 169,
   "id": "a53d2095",
   "metadata": {},
   "outputs": [
    {
     "data": {
      "text/plain": [
       "getNeighbors (generic function with 2 methods)"
      ]
     },
     "execution_count": 169,
     "metadata": {},
     "output_type": "execute_result"
    }
   ],
   "source": [
    "function getNeighbors(orbit, v, k, full=false)\n",
    "    return [u for u in orbit if isNeighbor(u, v, k, full)]\n",
    "end"
   ]
  },
  {
   "cell_type": "code",
   "execution_count": 123,
   "id": "7154946c",
   "metadata": {},
   "outputs": [
    {
     "data": {
      "text/plain": [
       "isNeighbor (generic function with 2 methods)"
      ]
     },
     "execution_count": 123,
     "metadata": {},
     "output_type": "execute_result"
    }
   ],
   "source": [
    "function isNeighbor(u, v, k, full=false)\n",
    "    return sum(ineq(u, k, full) .⊻ ineq(v, k, full)) == 1\n",
    "end"
   ]
  },
  {
   "cell_type": "code",
   "execution_count": 124,
   "id": "5d205095",
   "metadata": {},
   "outputs": [
    {
     "name": "stdout",
     "output_type": "stream",
     "text": [
      "Bool[1 1 1; 0 1 1]\n",
      "Bool[1 1 1; 0 0 1]\n",
      "Bool[0 0 0; 0 0 1]\n",
      "true\n",
      "false\n",
      "false\n"
     ]
    }
   ],
   "source": [
    "## test case\n",
    "print(ineq([1,1,0,0], 2), '\\n')\n",
    "print(ineq([3,1,2,0], 2), '\\n')\n",
    "print(ineq([0,1,1,0], 2), '\\n')\n",
    "print(isNeighbor([1,1,0,0], [3,1,2,0], 2), '\\n') ## true\n",
    "print(isNeighbor([1,1,0,0], [1,1,0,0], 2), '\\n') ## false\n",
    "print(isNeighbor([1,1,0,0], [0,1,1,0], 2), '\\n') ## false"
   ]
  },
  {
   "cell_type": "code",
   "execution_count": 126,
   "id": "df3274e6",
   "metadata": {},
   "outputs": [
    {
     "name": "stdout",
     "output_type": "stream",
     "text": [
      "Bool[1 0 0 1 1; 1 0 0 1 1; 0 0 0 0 0; 0 0 0 0 0]\n",
      "Bool[1 0 1 1 1; 1 0 0 0 1; 1 0 1 0 1; 0 0 0 0 0]\n",
      "Bool[0 0 0 0 0; 1 1 0 0 1; 1 1 0 0 1; 0 0 0 0 0]\n",
      "false\n",
      "false\n",
      "false\n"
     ]
    }
   ],
   "source": [
    "## test cases for full\n",
    "print(ineq([1,1,0,0], 2, true), '\\n')\n",
    "print(ineq([3,1,2,0], 2, true), '\\n')\n",
    "print(ineq([0,1,1,0], 2, true), '\\n')\n",
    "print(isNeighbor([1,1,0,0], [3,1,2,0], 2, true), '\\n') ## false\n",
    "print(isNeighbor([1,1,0,0], [1,1,0,0], 2, true), '\\n') ## false\n",
    "print(isNeighbor([1,1,0,0], [0,1,1,0], 2, true), '\\n') ## false"
   ]
  },
  {
   "cell_type": "code",
   "execution_count": 173,
   "id": "6bae13d3",
   "metadata": {},
   "outputs": [
    {
     "data": {
      "text/plain": [
       "getRank (generic function with 1 method)"
      ]
     },
     "execution_count": 173,
     "metadata": {},
     "output_type": "execute_result"
    }
   ],
   "source": [
    "include(\"lambda_cyclic.jl\")"
   ]
  },
  {
   "cell_type": "code",
   "execution_count": 175,
   "id": "705ea635",
   "metadata": {},
   "outputs": [
    {
     "data": {
      "text/plain": [
       "3"
      ]
     },
     "execution_count": 175,
     "metadata": {},
     "output_type": "execute_result"
    }
   ],
   "source": [
    "n = 3"
   ]
  },
  {
   "cell_type": "markdown",
   "id": "3b19e97d",
   "metadata": {},
   "source": [
    "# Random Sampling"
   ]
  },
  {
   "cell_type": "code",
   "execution_count": 74,
   "id": "68111f7a",
   "metadata": {},
   "outputs": [],
   "source": [
    "sample = []\n",
    "for i=1:2^20\n",
    "    v = p(2*n)\n",
    "    v[2*n] = sum(test_v[(n+1):(2*n-1)])\n",
    "    push!(sample, v)\n",
    "end"
   ]
  },
  {
   "cell_type": "code",
   "execution_count": null,
   "id": "1a6ddadb",
   "metadata": {},
   "outputs": [],
   "source": []
  }
 ],
 "metadata": {
  "kernelspec": {
   "display_name": "Julia 1.6.3",
   "language": "julia",
   "name": "julia-1.6"
  },
  "language_info": {
   "file_extension": ".jl",
   "mimetype": "application/julia",
   "name": "julia",
   "version": "1.6.3"
  }
 },
 "nbformat": 4,
 "nbformat_minor": 5
}
