{
 "cells": [
  {
   "cell_type": "code",
   "execution_count": 8,
   "id": "8911c9ab",
   "metadata": {},
   "outputs": [
    {
     "data": {
      "text/plain": [
       "getRank (generic function with 1 method)"
      ]
     },
     "execution_count": 8,
     "metadata": {},
     "output_type": "execute_result"
    }
   ],
   "source": [
    "include(\"lambda_cyclic.jl\")"
   ]
  },
  {
   "cell_type": "markdown",
   "id": "61253753",
   "metadata": {},
   "source": [
    "## Test computeLambda"
   ]
  },
  {
   "cell_type": "code",
   "execution_count": 9,
   "id": "b162a936",
   "metadata": {},
   "outputs": [],
   "source": [
    "test_lambda = lam = Dict([(5,0)=>-1, (5,1)=>1, (6,0)=>2, (6,1)=>-2, (4,1)=>0, (4,0)=>0])\n",
    "test_triples = ([1,1,0], [0,0,0])\n",
    "test_structure = [2]\n",
    "## keys are (triple index, exponent index)\n",
    "answers = Dict([(1,1)=>1, (2,1)=>-1, (1,2)=>-2, (2,2)=>2])\n",
    "\n",
    "function testComputeLambda()\n",
    "    for i in [1,2]\n",
    "        for j in [1,2]\n",
    "            if computeLambda(test_triples[i], basisExponents[j], test_lambda, test_structure) != answers[(i,j)]\n",
    "                print(\"Error: triple\", i, \", exponent\", j)\n",
    "            end\n",
    "        end\n",
    "    end\n",
    "end\n",
    "\n",
    "testComputeLambda()"
   ]
  },
  {
   "cell_type": "markdown",
   "id": "007127bf",
   "metadata": {},
   "source": [
    "## Test getLowerLambdaExp"
   ]
  },
  {
   "cell_type": "code",
   "execution_count": 10,
   "id": "7762d325",
   "metadata": {},
   "outputs": [
    {
     "data": {
      "text/plain": [
       "1"
      ]
     },
     "execution_count": 10,
     "metadata": {},
     "output_type": "execute_result"
    }
   ],
   "source": [
    "getLowerLambdaExp(test_triples[2], test_lambda, test_structure)"
   ]
  },
  {
   "cell_type": "markdown",
   "id": "8a6dd245",
   "metadata": {},
   "source": [
    "## Test getGroupTriples"
   ]
  },
  {
   "cell_type": "code",
   "execution_count": 11,
   "id": "ec1bb93c",
   "metadata": {},
   "outputs": [
    {
     "data": {
      "text/plain": [
       "16-element Vector{Vector{Vector{Int64}}}:\n",
       " [[0, 0], [0, 0], [0, 0]]\n",
       " [[1, 0], [1, 0], [0, 0]]\n",
       " [[0, 1], [0, 1], [0, 0]]\n",
       " [[1, 1], [1, 1], [0, 0]]\n",
       " [[1, 0], [0, 0], [1, 0]]\n",
       " [[0, 0], [1, 0], [1, 0]]\n",
       " [[1, 1], [0, 1], [1, 0]]\n",
       " [[0, 1], [1, 1], [1, 0]]\n",
       " [[0, 1], [0, 0], [0, 1]]\n",
       " [[1, 1], [1, 0], [0, 1]]\n",
       " [[0, 0], [0, 1], [0, 1]]\n",
       " [[1, 0], [1, 1], [0, 1]]\n",
       " [[1, 1], [0, 0], [1, 1]]\n",
       " [[0, 1], [1, 0], [1, 1]]\n",
       " [[1, 0], [0, 1], [1, 1]]\n",
       " [[0, 0], [1, 1], [1, 1]]"
      ]
     },
     "execution_count": 11,
     "metadata": {},
     "output_type": "execute_result"
    }
   ],
   "source": [
    "getValidGroupTriples([2,2])"
   ]
  },
  {
   "cell_type": "code",
   "execution_count": 17,
   "id": "0fff4cf7",
   "metadata": {},
   "outputs": [
    {
     "data": {
      "text/plain": [
       "2-element Vector{Int64}:\n",
       " 0\n",
       " 0"
      ]
     },
     "execution_count": 17,
     "metadata": {},
     "output_type": "execute_result"
    }
   ],
   "source": [
    "getGroupElements([2, 2])[1]"
   ]
  },
  {
   "cell_type": "code",
   "execution_count": null,
   "id": "eac0b85a",
   "metadata": {},
   "outputs": [],
   "source": []
  }
 ],
 "metadata": {
  "kernelspec": {
   "display_name": "Julia 1.8.5",
   "language": "julia",
   "name": "julia-1.8"
  },
  "language_info": {
   "file_extension": ".jl",
   "mimetype": "application/julia",
   "name": "julia",
   "version": "1.8.5"
  }
 },
 "nbformat": 4,
 "nbformat_minor": 5
}
